{
 "cells": [
  {
   "cell_type": "markdown",
   "metadata": {},
   "source": [
    "#### 1. Import the numpy package under the name `np` (★☆☆)"
   ]
  },
  {
   "cell_type": "code",
   "execution_count": 2,
   "metadata": {},
   "outputs": [],
   "source": [
    "# Import libraries\n",
    "import numpy as np\n",
    "from datetime import datetime, timedelta\n"
   ]
  },
  {
   "cell_type": "markdown",
   "metadata": {},
   "source": [
    "#### 2. Print the numpy version and the configuration (★☆☆)"
   ]
  },
  {
   "cell_type": "code",
   "execution_count": 4,
   "metadata": {},
   "outputs": [
    {
     "name": "stdout",
     "output_type": "stream",
     "text": [
      "1.26.2\n"
     ]
    }
   ],
   "source": [
    "# Check version of numpy\n",
    "print(np.__version__)"
   ]
  },
  {
   "cell_type": "markdown",
   "metadata": {},
   "source": [
    "#### 3. Create a null vector of size 10 (★☆☆)\n"
   ]
  },
  {
   "cell_type": "code",
   "execution_count": 13,
   "metadata": {},
   "outputs": [
    {
     "name": "stdout",
     "output_type": "stream",
     "text": [
      "[0. 0. 0. 0. 0. 0. 0. 0. 0. 0.]\n"
     ]
    }
   ],
   "source": [
    "# Create a null vector of size 10\n",
    "null_vector = np.zeros(10)\n",
    "\n",
    "print(null_vector)"
   ]
  },
  {
   "cell_type": "markdown",
   "metadata": {},
   "source": [
    "#### 4. How to find the memory size of any array (★☆☆)\n"
   ]
  },
  {
   "cell_type": "code",
   "execution_count": 14,
   "metadata": {},
   "outputs": [
    {
     "name": "stdout",
     "output_type": "stream",
     "text": [
      "Memory size of the array: 80 bytes\n"
     ]
    }
   ],
   "source": [
    "# Find the memory size of the array\n",
    "memory_size = null_vector.nbytes\n",
    "\n",
    "print(\"Memory size of the array:\", memory_size, \"bytes\")"
   ]
  },
  {
   "cell_type": "markdown",
   "metadata": {},
   "source": [
    "#### 5. How to get the documentation of the numpy add function from the command line? (★☆☆)\n"
   ]
  },
  {
   "cell_type": "code",
   "execution_count": null,
   "metadata": {},
   "outputs": [],
   "source": [
    "python -m pydoc numpy.add"
   ]
  },
  {
   "cell_type": "markdown",
   "metadata": {},
   "source": [
    "#### 6. Create a null vector of size 10 but the fifth value which is 1 (★☆☆)\n"
   ]
  },
  {
   "cell_type": "code",
   "execution_count": 5,
   "metadata": {},
   "outputs": [
    {
     "name": "stdout",
     "output_type": "stream",
     "text": [
      "[0. 0. 0. 0. 1. 0. 0. 0. 0. 0.]\n"
     ]
    }
   ],
   "source": [
    "# Create a null vector of size 10\n",
    "null_vector = np.zeros(10)\n",
    "\n",
    "# Assign 1 to the fifth element (index 4, since indexing starts from 0)\n",
    "null_vector[4] = 1\n",
    "\n",
    "print(null_vector)"
   ]
  },
  {
   "cell_type": "markdown",
   "metadata": {},
   "source": [
    "#### 7. Create a vector with values ranging from 10 to 49 (★☆☆)\n"
   ]
  },
  {
   "cell_type": "code",
   "execution_count": 6,
   "metadata": {},
   "outputs": [
    {
     "name": "stdout",
     "output_type": "stream",
     "text": [
      "[10 11 12 13 14 15 16 17 18 19 20 21 22 23 24 25 26 27 28 29 30 31 32 33\n",
      " 34 35 36 37 38 39 40 41 42 43 44 45 46 47 48 49]\n"
     ]
    }
   ],
   "source": [
    "# Create a vector with values ranging from 10 to 49\n",
    "vector = np.arange(10, 50)\n",
    "\n",
    "print(vector)"
   ]
  },
  {
   "cell_type": "markdown",
   "metadata": {},
   "source": [
    "#### 8. Reverse a vector (first element becomes last) (★☆☆)"
   ]
  },
  {
   "cell_type": "code",
   "execution_count": 7,
   "metadata": {},
   "outputs": [
    {
     "name": "stdout",
     "output_type": "stream",
     "text": [
      "[49 48 47 46 45 44 43 42 41 40 39 38 37 36 35 34 33 32 31 30 29 28 27 26\n",
      " 25 24 23 22 21 20 19 18 17 16 15 14 13 12 11 10]\n"
     ]
    }
   ],
   "source": [
    "# Create a vector with values ranging from 10 to 49\n",
    "vector = np.arange(10, 50)\n",
    "\n",
    "# Reverse the vector\n",
    "reversed_vector = vector[::-1]\n",
    "\n",
    "print(reversed_vector)"
   ]
  },
  {
   "cell_type": "markdown",
   "metadata": {},
   "source": [
    "#### 9. Create a 3x3 matrix with values ranging from 0 to 8 (★☆☆)"
   ]
  },
  {
   "cell_type": "code",
   "execution_count": 8,
   "metadata": {},
   "outputs": [
    {
     "name": "stdout",
     "output_type": "stream",
     "text": [
      "[[0 1 2]\n",
      " [3 4 5]\n",
      " [6 7 8]]\n"
     ]
    }
   ],
   "source": [
    "# Create a vector with values ranging from 0 to 8\n",
    "values = np.arange(9)\n",
    "\n",
    "# Reshape the vector into a 3x3 matrix\n",
    "matrix = values.reshape(3, 3)\n",
    "\n",
    "print(matrix)"
   ]
  },
  {
   "cell_type": "markdown",
   "metadata": {},
   "source": [
    "#### 10. Find indices of non-zero elements from [1,2,0,0,4,0] (★☆☆)"
   ]
  },
  {
   "cell_type": "code",
   "execution_count": 3,
   "metadata": {},
   "outputs": [
    {
     "name": "stdout",
     "output_type": "stream",
     "text": [
      "(array([0, 1, 4], dtype=int64),)\n"
     ]
    }
   ],
   "source": [
    "# Define the array\n",
    "arr = np.array([1, 2, 0, 0, 4, 0])\n",
    "\n",
    "# Find the indices of non-zero elements\n",
    "indices = np.nonzero(arr)\n",
    "\n",
    "print(indices)"
   ]
  },
  {
   "cell_type": "markdown",
   "metadata": {},
   "source": [
    "#### 11. Create a 3x3 identity matrix (★☆☆)"
   ]
  },
  {
   "cell_type": "code",
   "execution_count": 4,
   "metadata": {},
   "outputs": [
    {
     "name": "stdout",
     "output_type": "stream",
     "text": [
      "[[1. 0. 0.]\n",
      " [0. 1. 0.]\n",
      " [0. 0. 1.]]\n"
     ]
    }
   ],
   "source": [
    "# Create a 3x3 identity matrix\n",
    "identity_matrix = np.eye(3)\n",
    "\n",
    "print(identity_matrix)"
   ]
  },
  {
   "cell_type": "markdown",
   "metadata": {},
   "source": [
    "#### 12. Create a 3x3x3 array with random values (★☆☆)"
   ]
  },
  {
   "cell_type": "code",
   "execution_count": 5,
   "metadata": {},
   "outputs": [
    {
     "name": "stdout",
     "output_type": "stream",
     "text": [
      "[[[0.99779468 0.08833564 0.38837869]\n",
      "  [0.86875295 0.80056094 0.74114665]\n",
      "  [0.8217505  0.64917543 0.77469958]]\n",
      "\n",
      " [[0.77200978 0.70975654 0.87468841]\n",
      "  [0.95425678 0.49664782 0.61496489]\n",
      "  [0.42261108 0.2373618  0.31294906]]\n",
      "\n",
      " [[0.25836922 0.76586375 0.94941596]\n",
      "  [0.6540722  0.59268556 0.59736153]\n",
      "  [0.50586248 0.39216966 0.19930711]]]\n"
     ]
    }
   ],
   "source": [
    "# Create a 3x3x3 array with random values\n",
    "random_array = np.random.random((3, 3, 3))\n",
    "\n",
    "print(random_array)"
   ]
  },
  {
   "cell_type": "markdown",
   "metadata": {},
   "source": [
    "#### 13. Create a 10x10 array with random values and find the minimum and maximum values (★☆☆)"
   ]
  },
  {
   "cell_type": "code",
   "execution_count": 6,
   "metadata": {},
   "outputs": [
    {
     "name": "stdout",
     "output_type": "stream",
     "text": [
      "Minimum value: 0.012385921668583766\n",
      "Maximum value: 0.9979431617686895\n"
     ]
    }
   ],
   "source": [
    "# Create a 10x10 array with random values\n",
    "random_array = np.random.random((10, 10))\n",
    "\n",
    "# Find the minimum and maximum values\n",
    "min_value = np.min(random_array)\n",
    "max_value = np.max(random_array)\n",
    "\n",
    "print(\"Minimum value:\", min_value)\n",
    "print(\"Maximum value:\", max_value)"
   ]
  },
  {
   "cell_type": "markdown",
   "metadata": {},
   "source": [
    "#### 14. Create a random vector of size 30 and find the mean value (★☆☆)"
   ]
  },
  {
   "cell_type": "code",
   "execution_count": 7,
   "metadata": {},
   "outputs": [
    {
     "name": "stdout",
     "output_type": "stream",
     "text": [
      "Mean value: 0.5504029687477323\n"
     ]
    }
   ],
   "source": [
    "# Create a random vector of size 30\n",
    "random_vector = np.random.random(30)\n",
    "\n",
    "# Find the mean value\n",
    "mean_value = np.mean(random_vector)\n",
    "\n",
    "print(\"Mean value:\", mean_value)"
   ]
  },
  {
   "cell_type": "markdown",
   "metadata": {},
   "source": [
    "#### 15. Create a 2d array with 1 on the border and 0 inside (★☆☆)"
   ]
  },
  {
   "cell_type": "code",
   "execution_count": 9,
   "metadata": {},
   "outputs": [
    {
     "name": "stdout",
     "output_type": "stream",
     "text": [
      "[[1. 1. 1. 1. 1.]\n",
      " [1. 0. 0. 0. 1.]\n",
      " [1. 0. 0. 0. 1.]\n",
      " [1. 0. 0. 0. 1.]\n",
      " [1. 0. 0. 0. 1.]\n",
      " [1. 0. 0. 0. 1.]\n",
      " [1. 1. 1. 1. 1.]]\n"
     ]
    }
   ],
   "source": [
    "# Define the shape of the 2D array\n",
    "rows, cols = 7, 5\n",
    "\n",
    "# Create a 2D array filled with zeros\n",
    "array = np.zeros((rows, cols))\n",
    "\n",
    "# Set the border elements to 1\n",
    "array[0, :] = 1  # Top row\n",
    "array[-1, :] = 1  # Bottom row\n",
    "array[:, 0] = 1  # Left column\n",
    "array[:, -1] = 1  # Right column\n",
    "\n",
    "print(array)"
   ]
  },
  {
   "cell_type": "markdown",
   "metadata": {},
   "source": [
    "#### 16. How to add a border (filled with 0's) around an existing array? (★☆☆)"
   ]
  },
  {
   "cell_type": "code",
   "execution_count": 10,
   "metadata": {},
   "outputs": [
    {
     "name": "stdout",
     "output_type": "stream",
     "text": [
      "[[0. 0. 0. 0. 0.]\n",
      " [0. 1. 2. 3. 0.]\n",
      " [0. 4. 5. 6. 0.]\n",
      " [0. 7. 8. 9. 0.]\n",
      " [0. 0. 0. 0. 0.]]\n"
     ]
    }
   ],
   "source": [
    "# Example existing array\n",
    "existing_array = np.array([[1, 2, 3],\n",
    "                           [4, 5, 6],\n",
    "                           [7, 8, 9]])\n",
    "\n",
    "# Get the shape of the existing array\n",
    "rows, cols = existing_array.shape\n",
    "\n",
    "# Define the size of the border to add\n",
    "border_size = 1\n",
    "\n",
    "# Create a new array with zeros and the appropriate size\n",
    "new_array = np.zeros((rows + 2 * border_size, cols + 2 * border_size))\n",
    "\n",
    "# Copy the existing array into the center of the new array\n",
    "new_array[border_size:rows+border_size, border_size:cols+border_size] = existing_array\n",
    "\n",
    "print(new_array)"
   ]
  },
  {
   "cell_type": "markdown",
   "metadata": {},
   "source": [
    "#### 17. What is the result of the following expression? (★☆☆)\n",
    "```python\n",
    "0 * np.nan = nan\n",
    "np.nan == np.nan = False\n",
    "np.inf > np.nan = False\n",
    "np.nan - np.nan = nan\n",
    "np.nan in set([np.nan]) = True\n",
    "0.3 == 3 * 0.1 = False\n",
    "```\n"
   ]
  },
  {
   "cell_type": "markdown",
   "metadata": {},
   "source": [
    "#### 18. Create a 5x5 matrix with values 1,2,3,4 just below the diagonal (★☆☆)"
   ]
  },
  {
   "cell_type": "code",
   "execution_count": 20,
   "metadata": {},
   "outputs": [
    {
     "name": "stdout",
     "output_type": "stream",
     "text": [
      "[[0. 0. 0. 0. 0.]\n",
      " [1. 0. 0. 0. 0.]\n",
      " [0. 2. 0. 0. 0.]\n",
      " [0. 0. 3. 0. 0.]\n",
      " [0. 0. 0. 4. 0.]]\n"
     ]
    }
   ],
   "source": [
    "# Create a 5x5 matrix filled with zeros\n",
    "matrix = np.zeros((5, 5))\n",
    "\n",
    "# Define the values to place below the diagonal\n",
    "values = [1, 2, 3, 4]\n",
    "\n",
    "# Set the values just below the diagonal\n",
    "for i, value in enumerate(values):\n",
    "    matrix[i+1, i] = value\n",
    "\n",
    "print(matrix)"
   ]
  },
  {
   "cell_type": "markdown",
   "metadata": {},
   "source": [
    "#### 19. Create a 8x8 matrix and fill it with a checkerboard pattern (★☆☆)"
   ]
  },
  {
   "cell_type": "code",
   "execution_count": 21,
   "metadata": {},
   "outputs": [
    {
     "name": "stdout",
     "output_type": "stream",
     "text": [
      "[[0 1 0 1 0 1 0 1]\n",
      " [1 0 1 0 1 0 1 0]\n",
      " [0 1 0 1 0 1 0 1]\n",
      " [1 0 1 0 1 0 1 0]\n",
      " [0 1 0 1 0 1 0 1]\n",
      " [1 0 1 0 1 0 1 0]\n",
      " [0 1 0 1 0 1 0 1]\n",
      " [1 0 1 0 1 0 1 0]]\n"
     ]
    }
   ],
   "source": [
    "# Create an 8x8 matrix filled with zeros\n",
    "matrix = np.zeros((8, 8), dtype=int)\n",
    "\n",
    "# Assign alternate values (0 and 1) to alternate rows and columns\n",
    "matrix[1::2, ::2] = 1  # Rows 1, 3, 5, 7, Columns 0, 2, 4, 6\n",
    "matrix[::2, 1::2] = 1  # Rows 0, 2, 4, 6, Columns 1, 3, 5, 7\n",
    "\n",
    "print(matrix)\n"
   ]
  },
  {
   "cell_type": "markdown",
   "metadata": {},
   "source": [
    "#### 20. Consider a (6,7,8) shape array, what is the index (x,y,z) of the 100th element? (★☆☆)"
   ]
  },
  {
   "cell_type": "code",
   "execution_count": 22,
   "metadata": {},
   "outputs": [
    {
     "name": "stdout",
     "output_type": "stream",
     "text": [
      "Indices (x, y, z) of the 100th element: (1, 5, 3)\n"
     ]
    }
   ],
   "source": [
    "# Define the shape of the array\n",
    "shape = (6, 7, 8)\n",
    "\n",
    "# Find the indices of the 100th element\n",
    "indices = np.unravel_index(99, shape)\n",
    "\n",
    "print(\"Indices (x, y, z) of the 100th element:\", indices)"
   ]
  },
  {
   "cell_type": "markdown",
   "metadata": {},
   "source": [
    "#### 21. Create a checkerboard 8x8 matrix using the tile function (★☆☆)"
   ]
  },
  {
   "cell_type": "code",
   "execution_count": 23,
   "metadata": {},
   "outputs": [
    {
     "name": "stdout",
     "output_type": "stream",
     "text": [
      "[[0 1 0 1 0 1 0 1]\n",
      " [1 0 1 0 1 0 1 0]\n",
      " [0 1 0 1 0 1 0 1]\n",
      " [1 0 1 0 1 0 1 0]\n",
      " [0 1 0 1 0 1 0 1]\n",
      " [1 0 1 0 1 0 1 0]\n",
      " [0 1 0 1 0 1 0 1]\n",
      " [1 0 1 0 1 0 1 0]]\n"
     ]
    }
   ],
   "source": [
    "# Create a 2x2 checkerboard pattern\n",
    "checkerboard = np.array([[0, 1], [1, 0]])\n",
    "\n",
    "# Use tile function to repeat the pattern to create an 8x8 matrix\n",
    "checkerboard_8x8 = np.tile(checkerboard, (4, 4))\n",
    "\n",
    "print(checkerboard_8x8)"
   ]
  },
  {
   "cell_type": "markdown",
   "metadata": {},
   "source": [
    "#### 22. Normalize a 5x5 random matrix (★☆☆)"
   ]
  },
  {
   "cell_type": "code",
   "execution_count": 24,
   "metadata": {},
   "outputs": [
    {
     "name": "stdout",
     "output_type": "stream",
     "text": [
      "Original Matrix:\n",
      "[[0.84385226 0.12815049 0.22805669 0.42831618 0.82306305]\n",
      " [0.41925023 0.77156786 0.43331991 0.67419839 0.14707416]\n",
      " [0.74607737 0.00873546 0.00643697 0.64935321 0.88928044]\n",
      " [0.11669372 0.34714801 0.14040371 0.71365048 0.03550355]\n",
      " [0.27349522 0.73707641 0.94187851 0.26765774 0.00795224]]\n",
      "\n",
      "Normalized Matrix:\n",
      "[[ 1.32104334 -0.9697654  -0.64998697 -0.00899904  1.25450151]\n",
      " [-0.03801722  1.08967637  0.00701684  0.77801746 -0.90919476]\n",
      " [ 1.00808675 -1.35198744 -1.35934442  0.69849336  1.46644924]\n",
      " [-1.00643609 -0.26880104 -0.93054546  0.90429518 -1.2663085 ]\n",
      " [-0.50454794  0.97927661  1.63480445 -0.52323244 -1.35449437]]\n"
     ]
    }
   ],
   "source": [
    "# Create a 5x5 random matrix\n",
    "matrix = np.random.random((5, 5))\n",
    "\n",
    "# Calculate the mean and standard deviation of the matrix\n",
    "mean = np.mean(matrix)\n",
    "std_dev = np.std(matrix)\n",
    "\n",
    "# Normalize the matrix\n",
    "normalized_matrix = (matrix - mean) / std_dev\n",
    "\n",
    "print(\"Original Matrix:\")\n",
    "print(matrix)\n",
    "print(\"\\nNormalized Matrix:\")\n",
    "print(normalized_matrix)"
   ]
  },
  {
   "cell_type": "markdown",
   "metadata": {},
   "source": [
    "#### 23. Create a custom dtype that describes a color as four unsigned bytes (RGBA) (★☆☆)\n"
   ]
  },
  {
   "cell_type": "code",
   "execution_count": 25,
   "metadata": {},
   "outputs": [
    {
     "name": "stdout",
     "output_type": "stream",
     "text": [
      "RGBA Color:\n",
      "(255, 0, 0, 255)\n"
     ]
    }
   ],
   "source": [
    "# Define the custom dtype for RGBA color\n",
    "color_dtype = np.dtype([('R', np.uint8),   # Red component\n",
    "                        ('G', np.uint8),   # Green component\n",
    "                        ('B', np.uint8),   # Blue component\n",
    "                        ('A', np.uint8)])  # Alpha component\n",
    "\n",
    "# Create a color using the custom dtype\n",
    "color = np.array((255, 0, 0, 255), dtype=color_dtype)\n",
    "\n",
    "print(\"RGBA Color:\")\n",
    "print(color)"
   ]
  },
  {
   "cell_type": "markdown",
   "metadata": {},
   "source": [
    "#### 24. Multiply a 5x3 matrix by a 3x2 matrix (real matrix product) (★☆☆)"
   ]
  },
  {
   "cell_type": "code",
   "execution_count": 26,
   "metadata": {},
   "outputs": [
    {
     "name": "stdout",
     "output_type": "stream",
     "text": [
      "Resulting Matrix:\n",
      "[[0.52445287 0.95481423]\n",
      " [0.32419711 0.38890865]\n",
      " [0.66586139 1.20303171]\n",
      " [0.41001965 0.75686865]\n",
      " [0.46236983 0.81202453]]\n"
     ]
    }
   ],
   "source": [
    "# Create a 5x3 matrix\n",
    "matrix1 = np.random.random((5, 3))\n",
    "\n",
    "# Create a 3x2 matrix\n",
    "matrix2 = np.random.random((3, 2))\n",
    "\n",
    "# Multiply the matrices\n",
    "result = np.dot(matrix1, matrix2)\n",
    "\n",
    "print(\"Resulting Matrix:\")\n",
    "print(result)"
   ]
  },
  {
   "cell_type": "markdown",
   "metadata": {},
   "source": [
    "#### 25. Given a 1D array, negate all elements which are between 3 and 8, in place. (★☆☆)"
   ]
  },
  {
   "cell_type": "code",
   "execution_count": 27,
   "metadata": {},
   "outputs": [
    {
     "name": "stdout",
     "output_type": "stream",
     "text": [
      "Modified Array:\n",
      "[ 1 -4 -6  9 -3  2 -7 -5 -8]\n"
     ]
    }
   ],
   "source": [
    "# Create a 1D array\n",
    "array = np.array([1, 4, 6, 9, 3, 2, 7, 5, 8])\n",
    "\n",
    "# Negate elements between 3 and 8 (inclusive)\n",
    "array[(array >= 3) & (array <= 8)] *= -1\n",
    "\n",
    "print(\"Modified Array:\")\n",
    "print(array)"
   ]
  },
  {
   "cell_type": "markdown",
   "metadata": {},
   "source": [
    "#### 26. What is the output of the following script? (★☆☆)\n",
    "```python\n",
    "# Author: Jake VanderPlas\n",
    "\n",
    "print(sum(range(5),-1)) = 9 because the in-built sum function starts summing from -1 to 4.\n",
    "from numpy import *\n",
    "print(sum(range(5),-1)) = 10 because -1 specifies the axis along which the summation is done which is the last axis. In this case range(5) is a 1D.\n",
    "```\n"
   ]
  },
  {
   "cell_type": "markdown",
   "metadata": {},
   "source": [
    "#### 27. Consider an integer vector Z, which of these expressions are legal? (★☆☆)\n",
    "```python\n",
    "Z**Z\n",
    "2 << Z >> 2\n",
    "Z <- Z\n",
    "1j*Z\n",
    "Z/1/1\n",
    "Z<Z>Z\n",
    "```\n",
    "\n",
    "Z**Z: This expression raises each element of vector Z to the power of itself. It's legal in Python.\n",
    "\n",
    "2 << Z >> 2: This expression performs bitwise left shift (<<) of 2 by each element of vector Z, and then performs bitwise right shift (>>) of the result by 2. It's legal in Python.\n",
    "\n",
    "Z <- Z: This expression compares each element of vector Z with the negation of itself. It's legal in Python.\n",
    "\n",
    "1j*Z: This expression multiplies each element of vector Z by the imaginary unit 1j. It's legal in Python.\n",
    "\n",
    "Z/1/1: This expression divides each element of vector Z by 1 and then divides the result by 1 again. It's legal in Python.\n",
    "\n",
    "Z<Z>Z: This expression is not legal. It tries to compare each element of vector Z with itself (Z < Z), and then compare the result with Z, which is not syntactically valid in Python.\n",
    "\n",
    "So, the legal expressions are:\n",
    "\n",
    "Z**Z\n",
    "\n",
    "2 << Z >> 2\n",
    "\n",
    "Z <- Z\n",
    "\n",
    "1j*Z\n",
    "\n",
    "Z/1/1\n"
   ]
  },
  {
   "cell_type": "markdown",
   "metadata": {},
   "source": [
    "#### 28. What are the result of the following expressions? (★☆☆)\n",
    "```python\n",
    "np.array(0) / np.array(0)\n",
    "np.array(0) // np.array(0)\n",
    "np.array([np.nan]).astype(int).astype(float)\n",
    "```\n",
    "\n",
    "np.array(0) / np.array(0): This expression divides zero by zero. In NumPy, this results in a runtime warning, and the result is nan (not a number).\n",
    "\n",
    "np.array(0) // np.array(0): This expression performs floor division of zero by zero. In NumPy, this also results in a runtime warning, and the result is 0.\n",
    "\n",
    "np.array([np.nan]).astype(int).astype(float): This expression first creates a NumPy array containing a NaN (Not a Number) value, then converts it to an integer type using astype(int). Since NaN cannot be represented as an integer, it's converted to 0. Finally, the array is converted back to a float type using astype(float), resulting in an array containing [0.].\n",
    "\n",
    "So, the results are:\n",
    "\n",
    "np.array(0) / np.array(0): nan\n",
    "\n",
    "np.array(0) // np.array(0): 0\n",
    "\n",
    "np.array([np.nan]).astype(int).astype(float): [0.]"
   ]
  },
  {
   "cell_type": "markdown",
   "metadata": {},
   "source": [
    "#### 29. How to round away from zero a float array ? (★☆☆)\n"
   ]
  },
  {
   "cell_type": "code",
   "execution_count": 33,
   "metadata": {},
   "outputs": [
    {
     "name": "stdout",
     "output_type": "stream",
     "text": [
      "Original Float Array: [-1.5  2.7 -3.4  4.8]\n",
      "Rounded Away from Zero Array: [-2.  3. -4.  5.]\n"
     ]
    }
   ],
   "source": [
    "# Example float array\n",
    "float_array = np.array([-1.5, 2.7, -3.4, 4.8])\n",
    "\n",
    "# Round away from zero by rounding up (ceil) the positive numbers and rounding down (floor) the negative numbers\n",
    "rounded_array = np.sign(float_array) * np.ceil(np.abs(float_array))\n",
    "\n",
    "print(\"Original Float Array:\", float_array)\n",
    "print(\"Rounded Away from Zero Array:\", rounded_array)"
   ]
  },
  {
   "cell_type": "markdown",
   "metadata": {},
   "source": [
    "#### 30. How to find common values between two arrays? (★☆☆)\n"
   ]
  },
  {
   "cell_type": "code",
   "execution_count": 34,
   "metadata": {},
   "outputs": [
    {
     "name": "stdout",
     "output_type": "stream",
     "text": [
      "Common Values: [3 4 5]\n"
     ]
    }
   ],
   "source": [
    "# Example arrays\n",
    "array1 = np.array([1, 2, 3, 4, 5])\n",
    "array2 = np.array([3, 4, 5, 6, 7])\n",
    "\n",
    "# Find common values between the two arrays\n",
    "common_values = np.intersect1d(array1, array2)\n",
    "\n",
    "print(\"Common Values:\", common_values)"
   ]
  },
  {
   "cell_type": "markdown",
   "metadata": {},
   "source": [
    "#### 31. How to ignore all numpy warnings (not recommended)? (★☆☆)\n"
   ]
  },
  {
   "cell_type": "code",
   "execution_count": 35,
   "metadata": {},
   "outputs": [],
   "source": [
    "import warnings\n",
    "\n",
    "# Ignore all NumPy warnings\n",
    "warnings.filterwarnings('ignore', category=np.VisibleDeprecationWarning)"
   ]
  },
  {
   "cell_type": "markdown",
   "metadata": {},
   "source": [
    "#### 32. Is the following expressions true? (★☆☆)\n",
    "```python\n",
    "np.sqrt(-1) == np.emath.sqrt(-1)\n",
    "```\n",
    "\n",
    "No, the expression is not true.\n",
    "\n",
    "In NumPy, np.sqrt(-1) returns a complex number representing the square root of -1 (1j), while np.emath.sqrt(-1) returns a complex number with a warning indicating that it's returning the principal square root of a negative number (1j).\n",
    "\n",
    "However, both expressions return the same complex number 1j, but np.emath.sqrt(-1) provides additional warning information. Therefore, the equality check np.sqrt(-1) == np.emath.sqrt(-1) evaluates to True."
   ]
  },
  {
   "cell_type": "markdown",
   "metadata": {},
   "source": [
    "#### 33. How to get the dates of yesterday, today and tomorrow? (★☆☆)\n"
   ]
  },
  {
   "cell_type": "code",
   "execution_count": 37,
   "metadata": {},
   "outputs": [
    {
     "name": "stdout",
     "output_type": "stream",
     "text": [
      "Yesterday: 2024-02-06\n",
      "Today: 2024-02-07\n",
      "Tomorrow: 2024-02-08\n"
     ]
    }
   ],
   "source": [
    "\n",
    "# Get today's date\n",
    "today = datetime.today().date()\n",
    "\n",
    "# Get yesterday's date\n",
    "yesterday = today - timedelta(days=1)\n",
    "\n",
    "# Get tomorrow's date\n",
    "tomorrow = today + timedelta(days=1)\n",
    "\n",
    "print(\"Yesterday:\", yesterday)\n",
    "print(\"Today:\", today)\n",
    "print(\"Tomorrow:\", tomorrow)"
   ]
  },
  {
   "cell_type": "markdown",
   "metadata": {},
   "source": [
    "#### 34. How to get all the dates corresponding to the month of July 2016? (★★☆)\n"
   ]
  },
  {
   "cell_type": "code",
   "execution_count": 3,
   "metadata": {},
   "outputs": [
    {
     "name": "stdout",
     "output_type": "stream",
     "text": [
      "2016-07-01\n",
      "2016-07-02\n",
      "2016-07-03\n",
      "2016-07-04\n",
      "2016-07-05\n",
      "2016-07-06\n",
      "2016-07-07\n",
      "2016-07-08\n",
      "2016-07-09\n",
      "2016-07-10\n",
      "2016-07-11\n",
      "2016-07-12\n",
      "2016-07-13\n",
      "2016-07-14\n",
      "2016-07-15\n",
      "2016-07-16\n",
      "2016-07-17\n",
      "2016-07-18\n",
      "2016-07-19\n",
      "2016-07-20\n",
      "2016-07-21\n",
      "2016-07-22\n",
      "2016-07-23\n",
      "2016-07-24\n",
      "2016-07-25\n",
      "2016-07-26\n",
      "2016-07-27\n",
      "2016-07-28\n",
      "2016-07-29\n",
      "2016-07-30\n",
      "2016-07-31\n"
     ]
    }
   ],
   "source": [
    "# Define the start date (July 1, 2016)\n",
    "start_date = datetime(2016, 7, 1)\n",
    "\n",
    "# Define the end date (July 31, 2016)\n",
    "end_date = datetime(2016, 7, 31)\n",
    "\n",
    "# Generate all the dates for the month of July 2016\n",
    "dates_in_july_2016 = [start_date + timedelta(days=x) for x in range((end_date - start_date).days + 1)]\n",
    "\n",
    "# Print the dates\n",
    "for date in dates_in_july_2016:\n",
    "    print(date.date())"
   ]
  },
  {
   "cell_type": "markdown",
   "metadata": {},
   "source": [
    "#### 35. How to compute ((A+B)*(-A/2)) in place (without copy)? (★★☆)\n"
   ]
  },
  {
   "cell_type": "code",
   "execution_count": 6,
   "metadata": {},
   "outputs": [
    {
     "name": "stdout",
     "output_type": "stream",
     "text": [
      "Result: [-3. -4. -5.]\n"
     ]
    }
   ],
   "source": [
    "# Example arrays A and B\n",
    "A = np.array([1, 2, 3], dtype=float)  # Convert A to float\n",
    "B = np.array([4, 5, 6])\n",
    "\n",
    "# Compute ((A+B)*(-A/2)) in place\n",
    "np.add(A, B, out=A)     # A += B\n",
    "np.negative(A, out=A)   # A *= -1\n",
    "np.divide(A, 2, out=A)  # A /= 2\n",
    "\n",
    "result = np.floor(A)  # Convert the result to integers using np.floor\n",
    "\n",
    "print(\"Result:\", result)"
   ]
  },
  {
   "cell_type": "markdown",
   "metadata": {},
   "source": [
    "#### 36. Extract the integer part of a random array of positive numbers using 4 different methods (★★☆)\n"
   ]
  },
  {
   "cell_type": "code",
   "execution_count": 7,
   "metadata": {},
   "outputs": [
    {
     "name": "stdout",
     "output_type": "stream",
     "text": [
      "Random Array: [2.84983875 9.39948318 8.33059177 3.01386385 5.83742977]\n",
      "Integer Part (Floor): [2. 9. 8. 3. 5.]\n",
      "Integer Part (Trunc): [2. 9. 8. 3. 5.]\n",
      "Integer Part (Casting): [2 9 8 3 5]\n",
      "Integer Part (int_): [2 9 8 3 5]\n"
     ]
    }
   ],
   "source": [
    "# Create a random array of positive numbers\n",
    "random_array = np.random.rand(5) * 10  # Random numbers between 0 and 10\n",
    "\n",
    "# Method 1: Using numpy.floor\n",
    "integer_part_floor = np.floor(random_array)\n",
    "\n",
    "# Method 2: Using numpy.trunc\n",
    "integer_part_trunc = np.trunc(random_array)\n",
    "\n",
    "# Method 3: Using integer casting (numpy.astype(int))\n",
    "integer_part_casting = random_array.astype(int)\n",
    "\n",
    "# Method 4: Using numpy.int_\n",
    "integer_part_int = np.int_(random_array)\n",
    "\n",
    "print(\"Random Array:\", random_array)\n",
    "print(\"Integer Part (Floor):\", integer_part_floor)\n",
    "print(\"Integer Part (Trunc):\", integer_part_trunc)\n",
    "print(\"Integer Part (Casting):\", integer_part_casting)\n",
    "print(\"Integer Part (int_):\", integer_part_int)"
   ]
  },
  {
   "cell_type": "markdown",
   "metadata": {},
   "source": [
    "#### 37. Create a 5x5 matrix with row values ranging from 0 to 4 (★★☆)\n"
   ]
  },
  {
   "cell_type": "code",
   "execution_count": 8,
   "metadata": {},
   "outputs": [
    {
     "name": "stdout",
     "output_type": "stream",
     "text": [
      "[[0 1 2 3 4]\n",
      " [0 1 2 3 4]\n",
      " [0 1 2 3 4]\n",
      " [0 1 2 3 4]\n",
      " [0 1 2 3 4]]\n"
     ]
    }
   ],
   "source": [
    "# Create a 5x5 matrix with row values ranging from 0 to 4\n",
    "matrix = np.arange(5).reshape(1, -1) + np.zeros((5, 5), dtype=int)\n",
    "\n",
    "print(matrix)"
   ]
  },
  {
   "cell_type": "markdown",
   "metadata": {},
   "source": [
    "#### 38. Consider a generator function that generates 10 integers and use it to build an array (★☆☆)\n"
   ]
  },
  {
   "cell_type": "code",
   "execution_count": 9,
   "metadata": {},
   "outputs": [
    {
     "name": "stdout",
     "output_type": "stream",
     "text": [
      "Array generated from the generator function:\n",
      "[0 1 2 3 4 5 6 7 8 9]\n"
     ]
    }
   ],
   "source": [
    "# Define a generator function to generate 10 integers\n",
    "def integer_generator():\n",
    "    for i in range(10):\n",
    "        yield i\n",
    "\n",
    "# Create an array from the generator function\n",
    "array = np.fromiter(integer_generator(), dtype=int)\n",
    "\n",
    "print(\"Array generated from the generator function:\")\n",
    "print(array)"
   ]
  },
  {
   "cell_type": "markdown",
   "metadata": {},
   "source": [
    "#### 39. Create a vector of size 10 with values ranging from 0 to 1, both excluded (★★☆)\n"
   ]
  },
  {
   "cell_type": "code",
   "execution_count": 10,
   "metadata": {},
   "outputs": [
    {
     "name": "stdout",
     "output_type": "stream",
     "text": [
      "Vector with values ranging from 0 to 1 (both excluded):\n",
      "[0.09090909 0.18181818 0.27272727 0.36363636 0.45454545 0.54545455\n",
      " 0.63636364 0.72727273 0.81818182 0.90909091]\n"
     ]
    }
   ],
   "source": [
    "# Create a vector of size 10 with values ranging from 0 to 1 (both excluded)\n",
    "vector = np.linspace(0, 1, 12)[1:-1]\n",
    "\n",
    "print(\"Vector with values ranging from 0 to 1 (both excluded):\")\n",
    "print(vector)"
   ]
  },
  {
   "cell_type": "markdown",
   "metadata": {},
   "source": [
    "#### 40. Create a random vector of size 10 and sort it (★★☆)\n"
   ]
  },
  {
   "cell_type": "code",
   "execution_count": 11,
   "metadata": {},
   "outputs": [
    {
     "name": "stdout",
     "output_type": "stream",
     "text": [
      "Random Vector:\n",
      "[0.65359083 0.71288318 0.39665143 0.84190102 0.0710288  0.27552306\n",
      " 0.43600556 0.20194343 0.7720694  0.11847143]\n",
      "\n",
      "Sorted Vector:\n",
      "[0.0710288  0.11847143 0.20194343 0.27552306 0.39665143 0.43600556\n",
      " 0.65359083 0.71288318 0.7720694  0.84190102]\n"
     ]
    }
   ],
   "source": [
    "# Create a random vector of size 10\n",
    "random_vector = np.random.rand(10)\n",
    "\n",
    "# Sort the random vector\n",
    "sorted_vector = np.sort(random_vector)\n",
    "\n",
    "print(\"Random Vector:\")\n",
    "print(random_vector)\n",
    "print(\"\\nSorted Vector:\")\n",
    "print(sorted_vector)"
   ]
  },
  {
   "cell_type": "markdown",
   "metadata": {},
   "source": [
    "#### 41. How to sum a small array faster than np.sum? (★★☆)\n"
   ]
  },
  {
   "cell_type": "code",
   "execution_count": 12,
   "metadata": {},
   "outputs": [
    {
     "name": "stdout",
     "output_type": "stream",
     "text": [
      "Random Vector:\n",
      "[0.88074584 0.44055372 0.12934256 0.84399697 0.57756575 0.7629271\n",
      " 0.70629224 0.04979876 0.94682359 0.79341998]\n",
      "\n",
      "Sorted Vector:\n",
      "[0.04979876 0.12934256 0.44055372 0.57756575 0.70629224 0.7629271\n",
      " 0.79341998 0.84399697 0.88074584 0.94682359]\n"
     ]
    }
   ],
   "source": [
    "# Create a random vector of size 10\n",
    "random_vector = np.random.rand(10)\n",
    "\n",
    "# Sort the random vector\n",
    "sorted_vector = np.sort(random_vector)\n",
    "\n",
    "print(\"Random Vector:\")\n",
    "print(random_vector)\n",
    "print(\"\\nSorted Vector:\")\n",
    "print(sorted_vector)"
   ]
  },
  {
   "cell_type": "markdown",
   "metadata": {},
   "source": [
    "#### 42. Consider two random array A and B, check if they are equal (★★☆)\n"
   ]
  },
  {
   "cell_type": "code",
   "execution_count": 13,
   "metadata": {},
   "outputs": [
    {
     "name": "stdout",
     "output_type": "stream",
     "text": [
      "Arrays A and B are equal: False\n"
     ]
    }
   ],
   "source": [
    "# Create two random arrays A and B\n",
    "A = np.random.rand(5)\n",
    "B = np.random.rand(5)\n",
    "\n",
    "# Check if arrays A and B are equal\n",
    "are_equal = np.array_equal(A, B)\n",
    "\n",
    "print(\"Arrays A and B are equal:\", are_equal)"
   ]
  },
  {
   "cell_type": "markdown",
   "metadata": {},
   "source": [
    "#### 43. Make an array immutable (read-only) (★★☆)\n"
   ]
  },
  {
   "cell_type": "code",
   "execution_count": 14,
   "metadata": {},
   "outputs": [
    {
     "name": "stdout",
     "output_type": "stream",
     "text": [
      "Error: assignment destination is read-only\n"
     ]
    }
   ],
   "source": [
    "# Create an array\n",
    "array = np.array([1, 2, 3, 4, 5])\n",
    "\n",
    "# Make the array immutable (read-only)\n",
    "array.flags.writeable = False\n",
    "\n",
    "# Try to modify the array (this will raise an error)\n",
    "try:\n",
    "    array[0] = 10\n",
    "except ValueError as e:\n",
    "    print(\"Error:\", e)"
   ]
  },
  {
   "cell_type": "markdown",
   "metadata": {},
   "source": [
    "#### 44. Consider a random 10x2 matrix representing cartesian coordinates, convert them to polar coordinates (★★☆)\n"
   ]
  },
  {
   "cell_type": "code",
   "execution_count": 15,
   "metadata": {},
   "outputs": [
    {
     "name": "stdout",
     "output_type": "stream",
     "text": [
      "Cartesian Coordinates:\n",
      "[[0.78932955 0.85173678]\n",
      " [0.81875664 0.72839663]\n",
      " [0.22757681 0.03790853]\n",
      " [0.32377062 0.07408615]\n",
      " [0.40072167 0.20085401]\n",
      " [0.44637493 0.47641619]\n",
      " [0.64820524 0.02004811]\n",
      " [0.16336107 0.99062954]\n",
      " [0.27184457 0.21213644]\n",
      " [0.58788841 0.64803122]]\n",
      "\n",
      "Polar Coordinates:\n",
      "[[1.1612479  0.82340831]\n",
      " [1.09586682 0.72706039]\n",
      " [0.23071251 0.16505916]\n",
      " [0.33213878 0.22495019]\n",
      " [0.44824122 0.4646317 ]\n",
      " [0.65285754 0.81794145]\n",
      " [0.6485152  0.03091879]\n",
      " [1.00400883 1.40736091]\n",
      " [0.34482074 0.66264964]\n",
      " [0.87496128 0.8340222 ]]\n"
     ]
    }
   ],
   "source": [
    "# Create a random 10x2 matrix representing cartesian coordinates\n",
    "cartesian_coordinates = np.random.rand(10, 2)\n",
    "\n",
    "# Extract x and y coordinates\n",
    "x = cartesian_coordinates[:, 0]\n",
    "y = cartesian_coordinates[:, 1]\n",
    "\n",
    "# Convert cartesian coordinates to polar coordinates\n",
    "r = np.hypot(x, y)\n",
    "theta = np.arctan2(y, x)\n",
    "\n",
    "# Combine r and theta to get polar coordinates\n",
    "polar_coordinates = np.column_stack((r, theta))\n",
    "\n",
    "print(\"Cartesian Coordinates:\")\n",
    "print(cartesian_coordinates)\n",
    "print(\"\\nPolar Coordinates:\")\n",
    "print(polar_coordinates)\n"
   ]
  },
  {
   "cell_type": "markdown",
   "metadata": {},
   "source": [
    "#### 45. Create random vector of size 10 and replace the maximum value by 0 (★★☆)\n"
   ]
  },
  {
   "cell_type": "code",
   "execution_count": 16,
   "metadata": {},
   "outputs": [
    {
     "name": "stdout",
     "output_type": "stream",
     "text": [
      "Random Vector with Maximum Value Replaced by 0:\n",
      "[0.00412451 0.64527285 0.29135602 0.48761764 0.04625653 0.4562283\n",
      " 0.26959986 0.         0.61696773 0.86634277]\n"
     ]
    }
   ],
   "source": [
    "# Create a random vector of size 10\n",
    "random_vector = np.random.rand(10)\n",
    "\n",
    "# Find the index of the maximum value\n",
    "max_index = np.argmax(random_vector)\n",
    "\n",
    "# Replace the maximum value by 0\n",
    "random_vector[max_index] = 0\n",
    "\n",
    "print(\"Random Vector with Maximum Value Replaced by 0:\")\n",
    "print(random_vector)\n"
   ]
  },
  {
   "cell_type": "markdown",
   "metadata": {},
   "source": [
    "#### 46. Create a structured array with `x` and `y` coordinates covering the [0,1]x[0,1] area (★★☆)\n"
   ]
  },
  {
   "cell_type": "code",
   "execution_count": 17,
   "metadata": {},
   "outputs": [
    {
     "name": "stdout",
     "output_type": "stream",
     "text": [
      "Structured Array with x and y Coordinates:\n",
      "[[(0.  , 0.  ) (0.25, 0.  ) (0.5 , 0.  ) (0.75, 0.  ) (1.  , 0.  )]\n",
      " [(0.  , 0.25) (0.25, 0.25) (0.5 , 0.25) (0.75, 0.25) (1.  , 0.25)]\n",
      " [(0.  , 0.5 ) (0.25, 0.5 ) (0.5 , 0.5 ) (0.75, 0.5 ) (1.  , 0.5 )]\n",
      " [(0.  , 0.75) (0.25, 0.75) (0.5 , 0.75) (0.75, 0.75) (1.  , 0.75)]\n",
      " [(0.  , 1.  ) (0.25, 1.  ) (0.5 , 1.  ) (0.75, 1.  ) (1.  , 1.  )]]\n"
     ]
    }
   ],
   "source": [
    "# Define the number of points in each dimension\n",
    "num_points = 5\n",
    "\n",
    "# Create arrays representing the x and y coordinates\n",
    "x_coordinates = np.linspace(0, 1, num_points)\n",
    "y_coordinates = np.linspace(0, 1, num_points)\n",
    "\n",
    "# Create a meshgrid from the x and y coordinates\n",
    "x_mesh, y_mesh = np.meshgrid(x_coordinates, y_coordinates)\n",
    "\n",
    "# Create a structured array with x and y coordinates\n",
    "structured_array = np.zeros((num_points, num_points), dtype=[('x', float), ('y', float)])\n",
    "structured_array['x'] = x_mesh\n",
    "structured_array['y'] = y_mesh\n",
    "\n",
    "print(\"Structured Array with x and y Coordinates:\")\n",
    "print(structured_array)\n"
   ]
  },
  {
   "cell_type": "markdown",
   "metadata": {},
   "source": [
    "#### 47. Given two arrays, X and Y, construct the Cauchy matrix C (Cij =1/(xi - yj)) (★★☆)\n"
   ]
  },
  {
   "cell_type": "code",
   "execution_count": 18,
   "metadata": {},
   "outputs": [
    {
     "name": "stdout",
     "output_type": "stream",
     "text": [
      "Cauchy Matrix C:\n",
      "[[-0.33333333 -0.25       -0.2       ]\n",
      " [-0.5        -0.33333333 -0.25      ]\n",
      " [-1.         -0.5        -0.33333333]]\n"
     ]
    }
   ],
   "source": [
    "# Example arrays X and Y\n",
    "X = np.array([1, 2, 3])\n",
    "Y = np.array([4, 5, 6])\n",
    "\n",
    "# Construct the Cauchy matrix C\n",
    "C = 1 / (X[:, np.newaxis] - Y)\n",
    "\n",
    "print(\"Cauchy Matrix C:\")\n",
    "print(C)"
   ]
  },
  {
   "cell_type": "markdown",
   "metadata": {},
   "source": [
    "#### 48. Print the minimum and maximum representable value for each numpy scalar type (★★☆)\n"
   ]
  },
  {
   "cell_type": "code",
   "execution_count": 22,
   "metadata": {},
   "outputs": [
    {
     "name": "stdout",
     "output_type": "stream",
     "text": [
      "Integer scalar types:\n",
      "int8: Min = -128, Max = 127\n",
      "int16: Min = -32768, Max = 32767\n",
      "int32: Min = -2147483648, Max = 2147483647\n",
      "int64: Min = -9223372036854775808, Max = 9223372036854775807\n",
      "\n",
      "Floating-point scalar types:\n",
      "float32: Min = -3.4028234663852886e+38, Max = 3.4028234663852886e+38\n",
      "float64: Min = -1.7976931348623157e+308, Max = 1.7976931348623157e+308\n",
      "np.float128 is not available on this system.\n"
     ]
    }
   ],
   "source": [
    "# Print the minimum and maximum representable values for each integer scalar type\n",
    "print(\"Integer scalar types:\")\n",
    "for dtype in [np.int8, np.int16, np.int32, np.int64]:\n",
    "    info = np.iinfo(dtype)\n",
    "    print(f\"{dtype.__name__}: Min = {info.min}, Max = {info.max}\")\n",
    "\n",
    "# Print the minimum and maximum representable values for each floating-point scalar type\n",
    "print(\"\\nFloating-point scalar types:\")\n",
    "for dtype in [np.float32, np.float64]:\n",
    "    info = np.finfo(dtype)\n",
    "    print(f\"{dtype.__name__}: Min = {info.min}, Max = {info.max}\")\n",
    "\n",
    "# Check if float128 is available\n",
    "if hasattr(np, 'float128'):\n",
    "    info = np.finfo(np.float128)\n",
    "    print(f\"np.float128: Min = {info.min}, Max = {info.max}\")\n",
    "else:\n",
    "    print(\"np.float128 is not available on this system.\")"
   ]
  },
  {
   "cell_type": "markdown",
   "metadata": {},
   "source": [
    "#### 49. How to print all the values of an array? (★★☆)\n"
   ]
  },
  {
   "cell_type": "code",
   "execution_count": 23,
   "metadata": {},
   "outputs": [
    {
     "name": "stdout",
     "output_type": "stream",
     "text": [
      "[[ 0  1  2  3  4]\n",
      " [ 5  6  7  8  9]\n",
      " [10 11 12 13 14]\n",
      " [15 16 17 18 19]\n",
      " [20 21 22 23 24]]\n"
     ]
    }
   ],
   "source": [
    "# Create an array\n",
    "array = np.arange(25).reshape(5, 5)\n",
    "\n",
    "# Print all the values of the array\n",
    "np.set_printoptions(threshold=np.inf)  # Set threshold to display the entire array\n",
    "print(array)"
   ]
  },
  {
   "cell_type": "markdown",
   "metadata": {},
   "source": [
    "#### 50. How to find the closest value (to a given scalar) in a vector? (★★☆)\n"
   ]
  },
  {
   "cell_type": "code",
   "execution_count": 24,
   "metadata": {},
   "outputs": [
    {
     "name": "stdout",
     "output_type": "stream",
     "text": [
      "Vector: [1 3 5 7 9]\n",
      "Given Scalar: 6\n",
      "Closest Value: 5\n"
     ]
    }
   ],
   "source": [
    "# Create a vector\n",
    "vector = np.array([1, 3, 5, 7, 9])\n",
    "\n",
    "# Given scalar\n",
    "scalar = 6\n",
    "\n",
    "# Find the index of the closest value to the scalar\n",
    "closest_index = np.argmin(np.abs(vector - scalar))\n",
    "\n",
    "# Get the closest value\n",
    "closest_value = vector[closest_index]\n",
    "\n",
    "print(\"Vector:\", vector)\n",
    "print(\"Given Scalar:\", scalar)\n",
    "print(\"Closest Value:\", closest_value)"
   ]
  },
  {
   "cell_type": "markdown",
   "metadata": {},
   "source": [
    "#### 51. Create a structured array representing a position (x,y) and a color (r,g,b) (★★☆)\n"
   ]
  },
  {
   "cell_type": "code",
   "execution_count": 25,
   "metadata": {},
   "outputs": [
    {
     "name": "stdout",
     "output_type": "stream",
     "text": [
      "Structured Array:\n",
      "[((1., 2.), (255,   0,   0)) ((3., 4.), (  0, 255,   0))\n",
      " ((5., 6.), (  0,   0, 255))]\n"
     ]
    }
   ],
   "source": [
    "# Define the data type for the structured array\n",
    "dtype = np.dtype([('position', [('x', float), ('y', float)]), ('color', [('r', int), ('g', int), ('b', int)])])\n",
    "\n",
    "# Create a structured array\n",
    "structured_array = np.array([((1.0, 2.0), (255, 0, 0)), ((3.0, 4.0), (0, 255, 0)), ((5.0, 6.0), (0, 0, 255))], dtype=dtype)\n",
    "\n",
    "print(\"Structured Array:\")\n",
    "print(structured_array)"
   ]
  },
  {
   "cell_type": "markdown",
   "metadata": {},
   "source": [
    "#### 52. Consider a random vector with shape (100,2) representing coordinates, find point by point distances (★★☆)\n"
   ]
  },
  {
   "cell_type": "code",
   "execution_count": 26,
   "metadata": {},
   "outputs": [
    {
     "name": "stdout",
     "output_type": "stream",
     "text": [
      "Point-by-point distances:\n",
      "[[0.         0.8599973  0.85841767 0.55560993 0.97602007 0.86446027\n",
      "  0.43503908 0.49219068 0.83392054 0.62027892 0.80147102 0.21834633\n",
      "  0.59130455 0.91385429 0.88543561 0.39310086 0.46237459 0.94075485\n",
      "  0.51026109 0.93189868 0.21174468 0.20119966 0.43278639 0.3856235\n",
      "  0.26501059 0.56867302 1.1950619  0.41140094 0.97699256 0.61846292\n",
      "  1.28903537 0.22153876 0.49848168 0.86479591 0.9156552  0.47650684\n",
      "  0.62834056 0.80825107 1.12892766 0.87837648 0.50013041 0.40162444\n",
      "  0.67948103 0.91847377 0.76837265 0.41965424 0.50901973 0.84561415\n",
      "  0.82212088 0.58589541 0.49416952 0.43313757 0.92838194 0.40007736\n",
      "  0.69129411 0.08720291 0.38948012 0.84891974 0.57193206 0.80063411\n",
      "  0.61974134 1.10459771 0.80039411 0.49311385 0.75420348 0.70010166\n",
      "  1.08560333 0.78972252 0.52886664 0.24650685 0.94161184 0.88223992\n",
      "  1.13028958 1.05093833 0.88311524 0.57044444 0.59561394 0.76113674\n",
      "  0.87675022 0.60493328 0.66023387 1.11494097 1.00879879 0.59069295\n",
      "  1.14715736 0.99231621 0.857576   0.92196186 0.46092965 1.21312033\n",
      "  0.86567285 0.4376562  0.63033902 0.84426417 0.57273667 0.8242985\n",
      "  0.91050441 1.20975114 0.7180019  0.69080815]\n",
      " [0.8599973  0.         0.29964254 0.32233272 0.66405941 0.08234388\n",
      "  0.92668356 0.67424095 0.23021785 0.24956479 0.8763894  0.6488527\n",
      "  0.35902899 0.57194251 0.67808444 0.47585928 0.39819175 0.28534037\n",
      "  0.82305485 0.81032866 0.6995148  0.71408545 0.42866809 0.88274002\n",
      "  0.59518471 0.69077566 0.66717287 0.73166273 0.53425678 0.46201744\n",
      "  0.73183769 0.65259589 0.52354533 0.95318534 0.67938218 0.39075702\n",
      "  0.31656523 1.09837669 0.74382493 0.76996524 0.52278527 0.48338451\n",
      "  0.23234665 0.16780828 0.75524345 0.46451874 0.43455692 1.10337913\n",
      "  0.17048412 0.60806468 0.42405927 0.43303456 0.73838524 0.4611842\n",
      "  0.43025077 0.77362955 0.61895634 0.14077902 0.415782   0.62280261\n",
      "  0.29752537 0.82336111 0.43812471 0.40254578 0.86074073 0.25456846\n",
      "  0.72428072 0.82331381 0.83571326 0.62732076 1.14505861 0.81186251\n",
      "  0.69133546 0.82387055 0.99215199 0.32691788 0.62230136 0.53577866\n",
      "  0.02255715 0.36827131 0.28621384 0.54219129 0.27666742 0.33251393\n",
      "  0.62769742 0.43307332 0.79713172 0.29717406 0.8092741  0.65017669\n",
      "  0.79886894 0.55349876 0.73079721 0.98610766 0.89463655 0.15912926\n",
      "  0.21270855 0.69531644 0.53784134 0.75992397]\n",
      " [0.85841767 0.29964254 0.         0.33186607 0.36453127 0.21926763\n",
      "  0.77785716 0.50777258 0.51796224 0.30210897 0.61697835 0.64244745\n",
      "  0.26732752 0.27332688 0.38737065 0.4784932  0.44311218 0.09176316\n",
      "  0.64428268 0.52082529 0.65719514 0.67079608 0.49221674 0.74772008\n",
      "  0.61236959 0.49255288 0.40712342 0.59158569 0.23824794 0.2792326\n",
      "  0.48878819 0.69698816 0.39156314 0.68731636 0.38459876 0.4834637\n",
      "  0.23371887 0.86207436 0.45103374 0.48615274 0.39010551 0.57790629\n",
      "  0.21612466 0.16502131 0.4944505  0.56327715 0.35035754 0.85889758\n",
      "  0.13305117 0.40934648 0.36448202 0.51136416 0.44506032 0.51638313\n",
      "  0.211565   0.7821886  0.51240505 0.43486595 0.29195559 0.34657873\n",
      "  0.48757873 0.52410707 0.1589732  0.5329172  0.61140871 0.17444785\n",
      "  0.42780876 0.56216565 0.6511649  0.67615493 0.88522447 0.53038029\n",
      "  0.40549142 0.52466116 0.72653282 0.48633454 0.41793634 0.26964868\n",
      "  0.31792042 0.25388882 0.50248081 0.2922005  0.17655926 0.27313989\n",
      "  0.36117926 0.16241781 0.51915547 0.06666529 0.64718973 0.40435334\n",
      "  0.51946471 0.44586069 0.51007729 0.72797249 0.6995542  0.4459712\n",
      "  0.11535893 0.43212215 0.28839345 0.52102103]\n",
      " [0.55560993 0.32233272 0.33186607 0.         0.59317097 0.31146981\n",
      "  0.61609689 0.38584271 0.39962797 0.0732201  0.66116151 0.33812748\n",
      "  0.11008539 0.50279475 0.55300134 0.16252386 0.111251   0.40046255\n",
      "  0.53148364 0.66500329 0.37951404 0.394114   0.16061852 0.56843198\n",
      "  0.29430566 0.42504868 0.72540625 0.42436504 0.52277209 0.2375135\n",
      "  0.81289935 0.3710377  0.23329862 0.74267122 0.56968318 0.15985953\n",
      "  0.11053655 0.8407121  0.72394871 0.61269563 0.23317916 0.24835026\n",
      "  0.12606193 0.36325657 0.55429972 0.23530228 0.13368297 0.85469439\n",
      "  0.26819771 0.35539944 0.11111368 0.18118604 0.61470453 0.18471754\n",
      "  0.26300176 0.47255805 0.304644   0.36514209 0.15664764 0.47072876\n",
      "  0.23878995 0.75622133 0.34924658 0.2214082  0.63237192 0.1579691\n",
      "  0.68898134 0.61551994 0.54719033 0.34860458 0.91497546 0.64427868\n",
      "  0.69726433 0.72980465 0.77875189 0.20802361 0.37249291 0.38679098\n",
      "  0.34254184 0.1348126  0.27685302 0.61952995 0.45902573 0.07762324\n",
      "  0.67725516 0.48873469 0.62308247 0.38695824 0.50874128 0.72956261\n",
      "  0.62780424 0.24465415 0.48174414 0.76131638 0.61024632 0.35216987\n",
      "  0.35947732 0.74733878 0.36265897 0.52797671]\n",
      " [0.97602007 0.66405941 0.36453127 0.59317097 0.         0.58372639\n",
      "  0.72034594 0.4977278  0.87717963 0.60195247 0.37654227 0.7922429\n",
      "  0.48636837 0.09485471 0.11030927 0.67950782 0.68830396 0.40507701\n",
      "  0.56794575 0.20061372 0.76572438 0.77519921 0.73748893 0.71696602\n",
      "  0.79144474 0.43337598 0.27408122 0.59260579 0.14935648 0.38469279\n",
      "  0.36012607 0.88485712 0.48782636 0.41723634 0.07851008 0.7507897\n",
      "  0.4849825  0.63704495 0.15330579 0.19914787 0.48627041 0.82754583\n",
      "  0.52475925 0.51972098 0.28667549 0.81859498 0.52438216 0.61747471\n",
      "  0.4952495  0.39232474 0.55502528 0.76269864 0.12215678 0.74957003\n",
      "  0.3330006  0.92157397 0.58667094 0.79728954 0.46129889 0.1782426\n",
      "  0.80841841 0.1655817  0.24924251 0.81452752 0.39844617 0.47608697\n",
      "  0.1095937  0.33043621 0.56290609 0.87154585 0.60887802 0.24067834\n",
      "  0.17207981 0.16067002 0.45193916 0.79212797 0.3851734  0.22246646\n",
      "  0.68244909 0.46166001 0.8336787  0.28225658 0.47160103 0.51566601\n",
      "  0.24070177 0.27473307 0.24541849 0.3825098  0.59799862 0.31345062\n",
      "  0.24035628 0.54585727 0.39771757 0.47161717 0.58066589 0.80614402\n",
      "  0.46715608 0.2740159  0.26238755 0.36228104]\n",
      " [0.86446027 0.08234388 0.21926763 0.31146981 0.58372639 0.\n",
      "  0.89166491 0.63131159 0.31079716 0.24418147 0.81067571 0.64848224\n",
      "  0.32240036 0.49244218 0.60207087 0.47278133 0.40396972 0.20388786\n",
      "  0.77895081 0.7350032  0.69021692 0.70479757 0.44171993 0.85100941\n",
      "  0.60021314 0.63992786 0.58683706 0.69660026 0.45225011 0.40942982\n",
      "  0.65377775 0.66671533 0.48569794 0.88583898 0.60183765 0.41117196\n",
      "  0.27789858 1.04024431 0.66150117 0.69649645 0.48473387 0.50800425\n",
      "  0.19913735 0.09071294 0.68852664 0.4898225  0.4051974  1.04288067\n",
      "  0.09627602 0.55571827 0.40076937 0.45084183 0.66150941 0.4730679\n",
      "  0.36836247 0.77973544 0.59050508 0.22250514 0.37507618 0.55098532\n",
      "  0.34631365 0.74199397 0.36380634 0.43556911 0.79782953 0.20636744\n",
      "  0.64219983 0.75685825 0.79020056 0.64219027 1.08007143 0.73925844\n",
      "  0.60908216 0.74392833 0.92499696 0.36635347 0.56880605 0.4658049\n",
      "  0.09891024 0.32658282 0.34385908 0.46218467 0.20475768 0.30213677\n",
      "  0.54661249 0.35098453 0.7255885  0.21490728 0.76945545 0.57133415\n",
      "  0.72688671 0.52294054 0.67461733 0.92118659 0.84683045 0.23885509\n",
      "  0.13124273 0.61475761 0.47189635 0.69920818]\n",
      " [0.43503908 0.92668356 0.77785716 0.61609689 0.72034594 0.89166491\n",
      "  0.         0.27008458 1.00623286 0.6875021  0.42530614 0.4216111\n",
      "  0.56985573 0.6955087  0.61152388 0.50840225 0.59317838 0.86952159\n",
      "  0.15249746 0.60243498 0.33558482 0.32865331 0.60252094 0.0574087\n",
      "  0.48011948 0.30065348 0.9853924  0.19525226 0.78458146 0.50010868\n",
      "  1.07661551 0.52898526 0.40598475 0.46864324 0.64445451 0.65270136\n",
      "  0.61402675 0.37399045 0.86615505 0.55952721 0.40696972 0.63954\n",
      "  0.69602655 0.90492553 0.44606407 0.64885425 0.49238459 0.41276288\n",
      "  0.81199279 0.37433698 0.50640277 0.62171009 0.63084441 0.58044218\n",
      "  0.56666997 0.4468859  0.3115063  0.98082959 0.51680951 0.55005038\n",
      "  0.80770635 0.80147597 0.65074054 0.70802117 0.37907429 0.68602457\n",
      "  0.82208094 0.43567926 0.15833064 0.539331   0.51075435 0.54482716\n",
      "  0.89204859 0.73657776 0.47731944 0.75874701 0.37034477 0.56027397\n",
      "  0.94852211 0.5652748  0.85291312 0.94585613 0.95402349 0.59423672\n",
      "  0.94368608 0.85269117 0.52356202 0.84316469 0.13211289 1.01730324\n",
      "  0.5318937  0.37378487 0.32276641 0.43480014 0.16459585 0.96624068\n",
      "  0.87359075 0.99056976 0.52097542 0.36300021]\n",
      " [0.49219068 0.67424095 0.50777258 0.38584271 0.4977278  0.63131159\n",
      "  0.27008458 0.         0.78545997 0.45065238 0.33632799 0.34956688\n",
      "  0.31567561 0.45230059 0.39885152 0.33328098 0.4008937  0.59944233\n",
      "  0.14889635 0.44041545 0.29382286 0.29932877 0.42889888 0.24317142\n",
      "  0.37885587 0.07813016 0.74449263 0.09623029 0.5332963  0.23064611\n",
      "  0.83813174 0.462806   0.15390451 0.41262791 0.43051035 0.47128099\n",
      "  0.35768739 0.46066443 0.65056661 0.38638811 0.15431693 0.49578886\n",
      "  0.44194576 0.63786348 0.27863638 0.49783909 0.25246521 0.47981972\n",
      "  0.54717807 0.11186583 0.27637564 0.45382923 0.43752366 0.41876921\n",
      "  0.29667925 0.45348487 0.13177289 0.74599377 0.25846795 0.31948818\n",
      "  0.60931338 0.61446699 0.38479246 0.53730342 0.29404821 0.42501948\n",
      "  0.6062815  0.3106521  0.16263375 0.45986036 0.55249166 0.39282225\n",
      "  0.66288042 0.55911723 0.4414428  0.56637334 0.11419731 0.30499316\n",
      "  0.69660071 0.30630882 0.6522196  0.69030326 0.6839739  0.34535242\n",
      "  0.69963741 0.58876863 0.36795032 0.57313464 0.14030488 0.77149613\n",
      "  0.37581843 0.15193185 0.14562129 0.41265165 0.22464561 0.73577174\n",
      "  0.60469556 0.75381207 0.26251568 0.20769158]\n",
      " [0.83392054 0.23021785 0.51796224 0.39962797 0.87717963 0.31079716\n",
      "  1.00623286 0.78545997 0.         0.33787878 1.04140556 0.64995868\n",
      "  0.48447474 0.78295627 0.87654394 0.50377108 0.41660902 0.5146842\n",
      "  0.93072871 1.00484791 0.72105642 0.7345872  0.42098214 0.95498978\n",
      "  0.58634846 0.82143327 0.89729091 0.81954866 0.75601873 0.61034671\n",
      "  0.96169582 0.61262109 0.63247262 1.12160286 0.88260867 0.37028649\n",
      "  0.45321692 1.23774633 0.96801042 0.95933955 0.63226805 0.43232772\n",
      "  0.37809396 0.39801051 0.92562389 0.41451159 0.53309856 1.2494992\n",
      "  0.38491253 0.74645617 0.50994804 0.4109717  0.93872428 0.45084704\n",
      "  0.60153983 0.74766448 0.69684424 0.09080561 0.54224949 0.81030869\n",
      "  0.21525923 1.0401358  0.63737094 0.34095853 1.01818534 0.41986174\n",
      "  0.94576906 0.99147857 0.94668497 0.58745076 1.3038212  0.99800909\n",
      "  0.91819182 1.03428606 1.15942213 0.26607694 0.76283199 0.72094162\n",
      "  0.22040795 0.50290472 0.1736926  0.77237241 0.50463354 0.4495659\n",
      "  0.85740035 0.66110538 0.98036913 0.52467734 0.9060987  0.88030567\n",
      "  0.98336973 0.64202724 0.873696   1.14692183 1.00985959 0.07232461\n",
      "  0.4420367  0.92535521 0.71292771 0.9139022 ]\n",
      " [0.62027892 0.24956479 0.30210897 0.0732201  0.60195247 0.24418147\n",
      "  0.6875021  0.45065238 0.33787878 0.         0.70839239 0.40467403\n",
      "  0.14812337 0.50856095 0.5747375  0.22931033 0.16128202 0.35837978\n",
      "  0.59803246 0.69408836 0.45064407 0.46523766 0.20352478 0.64058189\n",
      "  0.35618251 0.48362457 0.70659655 0.49463587 0.514878   0.27744167\n",
      "  0.79045668 0.42581376 0.29680215 0.78940106 0.58779218 0.18423629\n",
      "  0.12459819 0.89990846 0.72303967 0.64406351 0.29645501 0.28145592\n",
      "  0.08621897 0.30456831 0.5964098  0.26529654 0.19898533 0.91172518\n",
      "  0.21480012 0.40895602 0.18114382 0.21757666 0.63737162 0.23303612\n",
      "  0.28461421 0.535659   0.37640493 0.29586935 0.20483374 0.4976339\n",
      "  0.20736912 0.76715729 0.35299077 0.2308383  0.68279407 0.13263466\n",
      "  0.69110285 0.6602966  0.61300772 0.40197404 0.96767361 0.67882697\n",
      "  0.68981336 0.74693981 0.82649332 0.19154217 0.42550654 0.40991878\n",
      "  0.26953452 0.16882805 0.23751425 0.59424212 0.40760971 0.11243354\n",
      "  0.65943826 0.46391319 0.65902085 0.34909306 0.57753057 0.70616343\n",
      "  0.66302686 0.31456368 0.53621388 0.81183516 0.67525715 0.2851501\n",
      "  0.30841552 0.73030221 0.39255936 0.57823425]\n",
      " [0.80147102 0.8763894  0.61697835 0.66116151 0.37654227 0.81067571\n",
      "  0.42530614 0.33632799 1.04140556 0.70839239 0.         0.68464648\n",
      "  0.56037764 0.4023788  0.27472601 0.65640411 0.70984871 0.69346193\n",
      "  0.29626124 0.19887638 0.62179061 0.62470097 0.74644612 0.4470717\n",
      "  0.71504028 0.26272183 0.64795955 0.39382658 0.49771825 0.43150526\n",
      "  0.72805754 0.79880929 0.44543798 0.08157643 0.30088116 0.78204811\n",
      "  0.5883383  0.26212423 0.49308117 0.17811748 0.44479057 0.82218161\n",
      "  0.66493167 0.77987341 0.12275186 0.82166864 0.53645216 0.2481438\n",
      "  0.7146589  0.30907316 0.56810513 0.77270165 0.25808629 0.7420946\n",
      "  0.44671109 0.77758398 0.46789382 0.98216851 0.50566627 0.27384931\n",
      "  0.89949575 0.40042884 0.45800665 0.85056955 0.04775071 0.62818364\n",
      "  0.45331607 0.05487145 0.28042087 0.79618774 0.26948858 0.1427333\n",
      "  0.53865906 0.33186993 0.11812427 0.86399219 0.29170003 0.34806321\n",
      "  0.89843111 0.53988459 0.93795939 0.65293796 0.77639311 0.59631765\n",
      "  0.61709393 0.6079251  0.13182945 0.66572516 0.34377172 0.68920558\n",
      "  0.13792036 0.47352967 0.19381273 0.11106521 0.26132623 0.97998207\n",
      "  0.73218576 0.64390639 0.3389216  0.13613507]\n",
      " [0.21834633 0.6488527  0.64244745 0.33812748 0.7922429  0.64848224\n",
      "  0.4216111  0.34956688 0.64995868 0.40467403 0.68464648 0.\n",
      "  0.37514293 0.72126119 0.71210363 0.17577831 0.25130147 0.72337528\n",
      "  0.42703564 0.77982416 0.08636325 0.09551279 0.2310588  0.36420998\n",
      "  0.06540017 0.4266653  0.9931548  0.30117137 0.77585961 0.41729716\n",
      "  1.08632257 0.11603576 0.30450735 0.75848065 0.7397978  0.28030487\n",
      "  0.41085142 0.7599021  0.94267608 0.72422361 0.3060804  0.23195508\n",
      "  0.46129203 0.70042675 0.6239233  0.24571539 0.2959326  0.78958987\n",
      "  0.60386689 0.41761661 0.27807438 0.23898701 0.7621045  0.19971062\n",
      "  0.48664761 0.13986875 0.22144468 0.65198988 0.3611106  0.62394626\n",
      "  0.43556944 0.93365163 0.59586719 0.31564641 0.64069522 0.48192859\n",
      "  0.90077291 0.66014761 0.44737389 0.12003643 0.87585339 0.7369844\n",
      "  0.93672092 0.88658834 0.78439086 0.3843245  0.43097234 0.57120864\n",
      "  0.66670799 0.39027807 0.47956327 0.90643116 0.79056278 0.37280696\n",
      "  0.94471959 0.7811336  0.71213804 0.70518753 0.38118409 1.00804585\n",
      "  0.71958959 0.24687575 0.49512299 0.75145251 0.50626667 0.62979074\n",
      "  0.69217579 1.00976052 0.52995259 0.55710786]\n",
      " [0.59130455 0.35902899 0.26732752 0.11008539 0.48636837 0.32240036\n",
      "  0.56985573 0.31567561 0.48447474 0.14812337 0.56037764 0.37514293\n",
      "  0.         0.39793094 0.44303483 0.21579587 0.20329788 0.35016862\n",
      "  0.46457157 0.5553203  0.39315026 0.4071463  0.25342667 0.52860996\n",
      "  0.34753019 0.33968295 0.63683289 0.37462267 0.42683587 0.13041808\n",
      "  0.72721471 0.43538667 0.16469854 0.64147824 0.46017768 0.26448647\n",
      "  0.0446583  0.75498802 0.62139575 0.50340651 0.16388626 0.34386264\n",
      "  0.12678572 0.34730384 0.44950701 0.33355682 0.08749688 0.76540884\n",
      "  0.24990388 0.26219058 0.09717291 0.27771123 0.50465087 0.26974577\n",
      "  0.15408659 0.51493019 0.2694383  0.43501385 0.05870292 0.36068661\n",
      "  0.34533297 0.64817183 0.2478752  0.32926303 0.53472476 0.12022154\n",
      "  0.58489108 0.51267718 0.47783868 0.41630694 0.8198118  0.53591953\n",
      "  0.59921272 0.62027498 0.67845661 0.31756789 0.27841989 0.27687981\n",
      "  0.38128242 0.02492935 0.38057861 0.53912299 0.42255318 0.03604731\n",
      "  0.58820224 0.41050851 0.51520535 0.33070538 0.45033638 0.64564402\n",
      "  0.51966343 0.20125902 0.38933541 0.66374542 0.53807055 0.42791812\n",
      "  0.32776037 0.65688497 0.25276999 0.43019052]\n",
      " [0.91385429 0.57194251 0.27332688 0.50279475 0.09485471 0.49244218\n",
      "  0.6955087  0.45230059 0.78295627 0.50856095 0.4023788  0.72126119\n",
      "  0.39793094 0.         0.13215834 0.59802475 0.60098732 0.32255839\n",
      "  0.54394215 0.2594949  0.70221564 0.71271255 0.65075189 0.68481017\n",
      "  0.71528522 0.39766605 0.29243497 0.54852861 0.09647503 0.30614695\n",
      "  0.38585199 0.80841091 0.41783469 0.4572835  0.11792104 0.66153255\n",
      "  0.39352017 0.66385864 0.22508217 0.23815184 0.41621629 0.74112183\n",
      "  0.43040632 0.43260594 0.29294407 0.73135678 0.44289763 0.65008099\n",
      "  0.40231968 0.3416102  0.47218012 0.6754612  0.17910711 0.66456186\n",
      "  0.24695198 0.85440746 0.52542846 0.70381993 0.37789612 0.14818954\n",
      "  0.71452341 0.260217   0.15558103 0.7241451  0.41387639 0.38164322\n",
      "  0.18705049 0.35028204 0.54223904 0.79368636 0.65513078 0.28372073\n",
      "  0.2164609  0.25211875 0.49480482 0.69930388 0.33815701 0.15290394\n",
      "  0.59081105 0.37357319 0.7392373  0.25793481 0.39570253 0.42566928\n",
      "  0.24873274 0.20893795 0.28023748 0.29802911 0.56735784 0.3219567\n",
      "  0.27769576 0.47781658 0.3762153  0.50718866 0.56999642 0.71213031\n",
      "  0.38017648 0.30166327 0.19645031 0.35463731]\n",
      " [0.88543561 0.67808444 0.38737065 0.55300134 0.11030927 0.60207087\n",
      "  0.61152388 0.39885152 0.87654394 0.5747375  0.27472601 0.71210363\n",
      "  0.44303483 0.13215834 0.         0.61630912 0.63749265 0.44798103\n",
      "  0.45937874 0.13345627 0.67775402 0.68618156 0.68453361 0.61011317\n",
      "  0.71818383 0.33013387 0.38349689 0.49176433 0.2244876  0.32480477\n",
      "  0.47040232 0.81117926 0.41141222 0.32564063 0.03296262 0.70449068\n",
      "  0.45152421 0.53683919 0.25574474 0.10600285 0.40997875 0.77279533\n",
      "  0.50651888 0.55143038 0.17692368 0.7659441  0.46431655 0.52078683\n",
      "  0.50780336 0.29968324 0.49678151 0.7106752  0.06277846 0.69245475\n",
      "  0.29122012 0.83614134 0.49862881 0.80301695 0.40694411 0.08892018\n",
      "  0.78169226 0.22154886 0.24060008 0.77109408 0.29194094 0.46012595\n",
      "  0.21134791 0.22520652 0.45366618 0.80009673 0.52306229 0.15161204\n",
      "  0.28218647 0.17975228 0.36287403 0.75898822 0.28994257 0.16623351\n",
      "  0.69832788 0.4182104  0.81172735 0.37827728 0.52472112 0.47611791\n",
      "  0.34786172 0.34109434 0.14864658 0.42199757 0.49115672 0.42145008\n",
      "  0.14572593 0.46567502 0.28957441 0.37662736 0.47037542 0.80789777\n",
      "  0.49987055 0.38424821 0.19469656 0.25206617]\n",
      " [0.39310086 0.47585928 0.4784932  0.16252386 0.67950782 0.47278133\n",
      "  0.50840225 0.33328098 0.50377108 0.22931033 0.65640411 0.17577831\n",
      "  0.21579587 0.59802475 0.61630912 0.         0.08725327 0.5549071\n",
      "  0.45880734 0.70752448 0.22534691 0.23975939 0.09743214 0.45482981\n",
      "  0.13439331 0.3963133  0.85108257 0.33449263 0.63811119 0.2950194\n",
      "  0.94219421 0.2196425  0.21572392 0.73646916 0.63951559 0.14520373\n",
      "  0.24478452 0.79019108 0.8230865  0.65203261 0.21674107 0.16593791\n",
      "  0.28689972 0.52549626 0.56933728 0.16555091 0.15527542 0.81187638\n",
      "  0.42961459 0.35300828 0.12634319 0.12104349 0.67332547 0.08595316\n",
      "  0.35203183 0.31052892 0.21305799 0.49215941 0.2204103  0.52791075\n",
      "  0.2994703  0.8336989  0.45685304 0.20651697 0.61898233 0.31124844\n",
      "  0.78390581 0.61994054 0.47756817 0.20064826 0.88572082 0.67460734\n",
      "  0.80731642 0.79589822 0.76841859 0.25035701 0.36974632 0.45831205\n",
      "  0.49449344 0.23565958 0.3447566  0.75491707 0.61846384 0.20537051\n",
      "  0.80239606 0.62614984 0.65085547 0.53860444 0.42416609 0.86108118\n",
      "  0.65715827 0.18387121 0.46348706 0.74291984 0.54186695 0.47288138\n",
      "  0.51938485 0.87029871 0.4226667  0.52059025]\n",
      " [0.46237459 0.39819175 0.44311218 0.111251   0.68830396 0.40396972\n",
      "  0.59317838 0.4008937  0.41660902 0.16128202 0.70984871 0.25130147\n",
      "  0.20329788 0.60098732 0.63749265 0.08725327 0.         0.51064768\n",
      "  0.53482164 0.73999957 0.31012835 0.32431618 0.05054581 0.54038767\n",
      "  0.19736478 0.45627668 0.8342486  0.41404485 0.62828589 0.31306168\n",
      "  0.92260292 0.26465058 0.26459866 0.7910352  0.65737691 0.07220056\n",
      "  0.21724645 0.86133025 0.8246911  0.685664   0.26518025 0.14072548\n",
      "  0.23442026 0.46556618 0.61351762 0.13038395 0.17801135 0.88054367\n",
      "  0.37369886 0.40119217 0.1448556  0.0744762  0.69740877 0.07377868\n",
      "  0.3553077  0.37662978 0.2906876  0.40593561 0.23055218 0.55141546\n",
      "  0.215069   0.84836241 0.45089142 0.14082286 0.67563864 0.26913956\n",
      "  0.78801614 0.66923718 0.55283617 0.24107265 0.94989698 0.712715\n",
      "  0.80170043 0.81671797 0.8248339  0.16790181 0.41850794 0.47332879\n",
      "  0.41565287 0.22743492 0.26004414 0.73005632 0.56614765 0.17950256\n",
      "  0.78589553 0.59938266 0.68997697 0.4978279  0.50324359 0.83958792\n",
      "  0.69559094 0.24899335 0.52041353 0.80237319 0.61726299 0.38608531\n",
      "  0.46653236 0.85557556 0.44313228 0.57384772]\n",
      " [0.94075485 0.28534037 0.09176316 0.40046255 0.40507701 0.20388786\n",
      "  0.86952159 0.59944233 0.5146842  0.35837978 0.69346193 0.72337528\n",
      "  0.35016862 0.32255839 0.44798103 0.5549071  0.51064768 0.\n",
      "  0.73510656 0.58012513 0.74281012 0.75664262 0.55784713 0.83947401\n",
      "  0.68930039 0.58273463 0.38354482 0.6832937  0.26173564 0.37095682\n",
      "  0.45409354 0.7706733  0.48215355 0.76040043 0.43961873 0.54261518\n",
      "  0.31252634 0.943719   0.46332792 0.55125938 0.48072272 0.63956888\n",
      "  0.2766442  0.12118701 0.57199867 0.62364212 0.43565489 0.93838025\n",
      "  0.15163402 0.5000818  0.44691152 0.57458172 0.50099126 0.58442586\n",
      "  0.30300787 0.86252755 0.6024582  0.42607715 0.38010238 0.41999656\n",
      "  0.52233668 0.55368512 0.23934077 0.58510658 0.69138673 0.24397745\n",
      "  0.44818975 0.63862364 0.74158999 0.74875312 0.95935322 0.59652903\n",
      "  0.40755754 0.56497072 0.79937293 0.5294976  0.50816392 0.35042347\n",
      "  0.29886466 0.33937719 0.52980569 0.25959954 0.08622665 0.35082065\n",
      "  0.34275353 0.14892308 0.58785192 0.02809286 0.73871766 0.3704635\n",
      "  0.58722657 0.5353722  0.59747267 0.80387914 0.78887862 0.44269039\n",
      "  0.07267144 0.41121543 0.37382276 0.60480193]\n",
      " [0.51026109 0.82305485 0.64428268 0.53148364 0.56794575 0.77895081\n",
      "  0.15249746 0.14889635 0.93072871 0.59803246 0.29626124 0.42703564\n",
      "  0.46457157 0.54394215 0.45937874 0.45880734 0.53482164 0.73510656\n",
      "  0.         0.4577495  0.35082957 0.35014042 0.5562311  0.15579947\n",
      "  0.47240784 0.15425888 0.83313087 0.12859809 0.63414679 0.37350805\n",
      "  0.9241876  0.54280147 0.30202592 0.35487622 0.49233122 0.60236048\n",
      "  0.50648966 0.33585266 0.71443431 0.41191657 0.30254567 0.61226427\n",
      "  0.59079904 0.78179885 0.29724338 0.61738879 0.39914922 0.36314331\n",
      "  0.6931393  0.23502637 0.42078842 0.57937674 0.48075564 0.54103077\n",
      "  0.4331593  0.49637154 0.24575045 0.8937731  0.40727564 0.39783716\n",
      "  0.74772828 0.65358272 0.50823174 0.66532055 0.24851285 0.57292996\n",
      "  0.67025397 0.29574215 0.02033964 0.54617763 0.44909005 0.40139431\n",
      "  0.73957932 0.59010421 0.37301476 0.70247928 0.22778095 0.4124441\n",
      "  0.84543257 0.45494878 0.7916344  0.79610855 0.82077929 0.49403072\n",
      "  0.79173028 0.70722242 0.37884063 0.70797704 0.04947754 0.86546183\n",
      "  0.38725081 0.28978314 0.17028335 0.33500591 0.08316914 0.88283975\n",
      "  0.74619252 0.83811621 0.37499833 0.21337054]\n",
      " [0.93189868 0.81032866 0.52082529 0.66500329 0.20061372 0.7350032\n",
      "  0.60243498 0.44041545 1.00484791 0.69408836 0.19887638 0.77982416\n",
      "  0.5553203  0.2594949  0.13345627 0.70752448 0.73999957 0.58012513\n",
      "  0.4577495  0.         0.73303134 0.7392894  0.7844235  0.61354826\n",
      "  0.79552558 0.36325816 0.45898627 0.52281332 0.34336807 0.42911041\n",
      "  0.53421069 0.88644405 0.49367955 0.22152973 0.14162888 0.80967022\n",
      "  0.5695973  0.44765908 0.29622901 0.05590095 0.49247485 0.86979938\n",
      "  0.63091621 0.68482904 0.16469706 0.86495942 0.56263321 0.4236982\n",
      "  0.64032078 0.36344598 0.59581881 0.81099694 0.08127558 0.78838162\n",
      "  0.4097232  0.8930439  0.55912777 0.93330956 0.51222215 0.19657552\n",
      "  0.89919783 0.20290884 0.37223428 0.87769071 0.23443412 0.58601802\n",
      "  0.25852199 0.16900362 0.44661407 0.87844329 0.40868279 0.05838975\n",
      "  0.3468949  0.13535366 0.25382902 0.87287006 0.34918579 0.28541766\n",
      "  0.83079318 0.53110612 0.93158114 0.48258888 0.65509639 0.5900601\n",
      "  0.43326228 0.46590252 0.07898959 0.55452681 0.49879733 0.50254278\n",
      "  0.07060755 0.54032488 0.30360011 0.27805976 0.44464151 0.93713532\n",
      "  0.63318295 0.45192403 0.30266297 0.24706721]\n",
      " [0.21174468 0.6995148  0.65719514 0.37951404 0.76572438 0.69021692\n",
      "  0.33558482 0.29382286 0.72105642 0.45064407 0.62179061 0.08636325\n",
      "  0.39315026 0.70221564 0.67775402 0.22534691 0.31012835 0.74281012\n",
      "  0.35082957 0.73303134 0.         0.01460071 0.30015273 0.27817705\n",
      "  0.14852555 0.37193168 0.98362696 0.22989487 0.76557864 0.40772893\n",
      "  1.07767811 0.19582442 0.28702224 0.69246988 0.70727833 0.35119071\n",
      "  0.43364264 0.67980645 0.91831096 0.67828785 0.28867271 0.31436446\n",
      "  0.49549238 0.73348965 0.57239945 0.32672654 0.3071937  0.71100276\n",
      "  0.63559598 0.37828377 0.29806651 0.31254103 0.72332913 0.27132326\n",
      "  0.48129201 0.1600244  0.17934525 0.71596672 0.3665238  0.59168239\n",
      "  0.50901668 0.8982761  0.58999604 0.39387136 0.57629918 0.50850054\n",
      "  0.87522877 0.60211829 0.37108603 0.20411826 0.79962009 0.68653798\n",
      "  0.91867022 0.84701646 0.71613777 0.45780384 0.38930919 0.54959054\n",
      "  0.71867804 0.40364397 0.55382463 0.90548328 0.81547116 0.39863215\n",
      "  0.93582717 0.7847171  0.66164931 0.72225171 0.30324961 1.00230307\n",
      "  0.66945942 0.22615413 0.43802875 0.6812584  0.42747861 0.69552788\n",
      "  0.71939409 0.99810776 0.5065838  0.49999445]\n",
      " [0.20119966 0.71408545 0.67079608 0.394114   0.77519921 0.70479757\n",
      "  0.32865331 0.29932877 0.7345872  0.46523766 0.62470097 0.09551279\n",
      "  0.4071463  0.71271255 0.68618156 0.23975939 0.32431618 0.75664262\n",
      "  0.35014042 0.7392894  0.01460071 0.         0.31361697 0.27131149\n",
      "  0.15925477 0.37729882 0.99502246 0.23160795 0.77701785 0.4197047\n",
      "  1.08912916 0.20083941 0.29859379 0.69447163 0.71595062 0.36454765\n",
      "  0.44780951 0.67696263 0.92796673 0.68476524 0.30024461 0.32568329\n",
      "  0.50998369 0.74789571 0.57794506 0.33843974 0.32099048 0.70881086\n",
      "  0.64998423 0.38652866 0.31228283 0.32553863 0.73100323 0.28447631\n",
      "  0.49352576 0.15427038 0.18852911 0.73007625 0.37983251 0.60053667\n",
      "  0.52220107 0.9063505  0.60203699 0.40624587 0.57887565 0.52276441\n",
      "  0.88475323 0.60621695 0.37030598 0.21071759 0.79830951 0.6921427\n",
      "  0.9291292  0.85444856 0.71749024 0.47095465 0.3971264  0.55995723\n",
      "  0.7332311  0.41738555 0.56692385 0.91776045 0.82955471 0.41294065\n",
      "  0.94731193 0.79744641 0.66727544 0.73595901 0.30200114 1.01408101\n",
      "  0.67514705 0.23774538 0.44266395 0.68207019 0.42552144 0.7095172\n",
      "  0.73360198 1.00926682 0.51680296 0.5044787 ]\n",
      " [0.43278639 0.42866809 0.49221674 0.16061852 0.73748893 0.44171993\n",
      "  0.60252094 0.42889888 0.42098214 0.20352478 0.74644612 0.2310588\n",
      "  0.25342667 0.65075189 0.68453361 0.09743214 0.05054581 0.55784713\n",
      "  0.5562311  0.7844235  0.30015273 0.31361697 0.         0.54796263\n",
      "  0.1705232  0.48906994 0.88468915 0.43174201 0.67880693 0.35973858\n",
      "  0.97288971 0.22521944 0.30151035 0.82718339 0.70510006 0.05135693\n",
      "  0.26772184 0.88714396 0.87471657 0.72968013 0.3022754  0.09044065\n",
      "  0.2812059  0.50770341 0.65388888 0.08146227 0.22185695 0.90828207\n",
      "  0.41803684 0.4393601  0.18874427 0.02665479 0.74390616 0.03270925\n",
      "  0.40460998 0.34587764 0.3104807  0.42110977 0.27805711 0.59780004\n",
      "  0.20956313 0.89682573 0.50118884 0.10912821 0.71060559 0.31790588\n",
      "  0.8378016  0.70764656 0.57496087 0.20050487 0.98076767 0.75538648\n",
      "  0.85214136 0.86404054 0.86008493 0.15872977 0.45651232 0.52123497\n",
      "  0.44466408 0.27736557 0.25472708 0.78003155 0.61085001 0.23004831\n",
      "  0.83635757 0.64928248 0.73227989 0.54583729 0.52142744 0.88977795\n",
      "  0.73813103 0.27782458 0.55497348 0.83597715 0.63927725 0.39873202\n",
      "  0.51142897 0.90607748 0.48989701 0.61031638]\n",
      " [0.3856235  0.88274002 0.74772008 0.56843198 0.71696602 0.85100941\n",
      "  0.0574087  0.24317142 0.95498978 0.64058189 0.4470717  0.36420998\n",
      "  0.52860996 0.68481017 0.61011317 0.45482981 0.54038767 0.83947401\n",
      "  0.15579947 0.61354826 0.27817705 0.27131149 0.54796263 0.\n",
      "  0.42291964 0.28715075 0.97665741 0.15683317 0.77078665 0.46856416\n",
      "  1.06906181 0.4717727  0.36685572 0.4978659  0.64303862 0.5984538\n",
      "  0.57313405 0.42297453 0.86583138 0.56737908 0.36797887 0.58302105\n",
      "  0.65371018 0.86859796 0.45249418 0.59262647 0.44828904 0.45999132\n",
      "  0.77416141 0.35279943 0.46003646 0.56660563 0.63485945 0.52517778\n",
      "  0.53810333 0.39246956 0.2643327  0.9321339  0.47769927 0.54258337\n",
      "  0.75430003 0.80874525 0.62789565 0.65268549 0.39968348 0.64660344\n",
      "  0.82145789 0.45071403 0.16814836 0.48195969 0.55629385 0.55713578\n",
      "  0.88741329 0.74569622 0.51027834 0.70494262 0.35135286 0.54368746\n",
      "  0.90433388 0.52587051 0.79958288 0.93024351 0.92292064 0.55108975\n",
      "  0.93354154 0.83162974 0.53463867 0.81372926 0.11899337 1.00656099\n",
      "  0.5430484  0.32933574 0.32096731 0.46895863 0.19405848 0.91673863\n",
      "  0.83950096 0.98348528 0.50262199 0.3685233 ]\n",
      " [0.26501059 0.59518471 0.61236959 0.29430566 0.79144474 0.60021314\n",
      "  0.48011948 0.37885587 0.58634846 0.35618251 0.71504028 0.06540017\n",
      "  0.34753019 0.71528522 0.71818383 0.13439331 0.19736478 0.68930039\n",
      "  0.47240784 0.79552558 0.14852555 0.15925477 0.1705232  0.42291964\n",
      "  0.         0.4532466  0.97812498 0.34421872 0.76276045 0.40913827\n",
      "  1.07022175 0.09341547 0.3067741  0.79134603 0.74416886 0.21804553\n",
      "  0.37869367 0.80773203 0.93921134 0.73963585 0.30820512 0.16673376\n",
      "  0.41994881 0.65736326 0.64495003 0.18031768 0.27677678 0.8354739\n",
      "  0.56245098 0.43221678 0.2531464  0.17578506 0.77131896 0.13823091\n",
      "  0.47361504 0.17953227 0.24715123 0.59128407 0.34347299 0.62931419\n",
      "  0.37149664 0.93898043 0.5813723  0.25047475 0.67282739 0.4456013\n",
      "  0.89847003 0.68641921 0.49261438 0.0829359  0.91874089 0.75608971\n",
      "  0.92841474 0.89560321 0.81928299 0.32036637 0.44705956 0.56900739\n",
      "  0.61220567 0.36567116 0.41515549 0.88555449 0.75231781 0.33943849\n",
      "  0.92946633 0.7577994  0.73147556 0.67290064 0.42882561 0.99014627\n",
      "  0.7385627  0.25531559 0.52244967 0.78842043 0.55367252 0.56834105\n",
      "  0.65304133 0.9962365  0.52977114 0.5836226 ]\n",
      " [0.56867302 0.69077566 0.49255288 0.42504868 0.43337598 0.63992786\n",
      "  0.30065348 0.07813016 0.82143327 0.48362457 0.26272183 0.4266653\n",
      "  0.33968295 0.39766605 0.33013387 0.3963133  0.45627668 0.58273463\n",
      "  0.15425888 0.36325816 0.37193168 0.37729882 0.48906994 0.28715075\n",
      "  0.4532466  0.         0.68956879 0.16268639 0.48461414 0.23049969\n",
      "  0.78216331 0.53897096 0.19426606 0.3412373  0.36255117 0.52806612\n",
      "  0.37745735 0.41631984 0.58475209 0.30980384 0.19403925 0.56138187\n",
      "  0.46132833 0.63534714 0.20067159 0.56186143 0.29259372 0.42969492\n",
      "  0.55036569 0.08482341 0.32114705 0.51485056 0.36444853 0.48226261\n",
      "  0.28292233 0.53151134 0.20661558 0.77469673 0.28099921 0.25664369\n",
      "  0.65743017 0.5415609  0.353996   0.59567993 0.22304669 0.43671974\n",
      "  0.54029337 0.23369788 0.15900934 0.5350367  0.4939755  0.31487942\n",
      "  0.6020791  0.48437577 0.37226775 0.61746401 0.07461659 0.2596605\n",
      "  0.71332722 0.32521031 0.69874998 0.64535943 0.66870197 0.37304843\n",
      "  0.64639879 0.55336704 0.2900311  0.55535836 0.17017158 0.7194831\n",
      "  0.29795275 0.2124843  0.06922063 0.34691697 0.20854963 0.76718625\n",
      "  0.59731179 0.69677155 0.22109499 0.13064334]\n",
      " [1.1950619  0.66717287 0.40712342 0.72540625 0.27408122 0.58683706\n",
      "  0.9853924  0.74449263 0.89729091 0.70659655 0.64795955 0.9931548\n",
      "  0.63683289 0.29243497 0.38349689 0.85108257 0.8342486  0.38354482\n",
      "  0.83313087 0.45898627 0.98362696 0.99502246 0.88468915 0.97665741\n",
      "  0.97812498 0.68956879 0.         0.84071575 0.21806978 0.57718437\n",
      "  0.09429214 1.06915061 0.69662039 0.68051529 0.35249047 0.88316418\n",
      "  0.61701123 0.9054884  0.17775639 0.46985892 0.6949705  0.97365858\n",
      "  0.62044756 0.49966865 0.560395   0.96065322 0.7013834  0.88266023\n",
      "  0.52779629 0.63335726 0.72593062 0.90645724 0.38994717 0.90473143\n",
      "  0.50651121 1.13026389 0.81063676 0.80778825 0.63472893 0.43534239\n",
      "  0.89419151 0.30392651 0.39741935 0.93689598 0.67208593 0.57489202\n",
      "  0.20394185 0.6037838  0.82999155 1.05150995 0.86226706 0.50784886\n",
      "  0.11337931 0.35767151 0.71213795 0.89330207 0.63044466 0.44157995\n",
      "  0.67883002 0.61564269 0.90692517 0.12521956 0.40209394 0.65527771\n",
      "  0.04869067 0.24530407 0.51613338 0.3776906  0.85870148 0.04696364\n",
      "  0.5102526  0.75747998 0.66352199 0.73686341 0.85213994 0.82561128\n",
      "  0.45580408 0.02918739 0.48522374 0.6336854 ]\n",
      " [0.41140094 0.73166273 0.59158569 0.42436504 0.59260579 0.69660026\n",
      "  0.19525226 0.09623029 0.81954866 0.49463587 0.39382658 0.30117137\n",
      "  0.37462267 0.54852861 0.49176433 0.33449263 0.41404485 0.6832937\n",
      "  0.12859809 0.52281332 0.22989487 0.23160795 0.43174201 0.15683317\n",
      "  0.34421872 0.16268639 0.84071575 0.         0.62912564 0.31235668\n",
      "  0.93436198 0.41720666 0.21112406 0.46286386 0.52386333 0.47929493\n",
      "  0.41884689 0.46444943 0.74505142 0.47061666 0.21216586 0.48449377\n",
      "  0.50078394 0.7120599  0.35836872 0.49017589 0.29782377 0.49130847\n",
      "  0.61808249 0.20773367 0.31364922 0.45404047 0.52712619 0.41485287\n",
      "  0.38310859 0.38377994 0.12360402 0.78949196 0.3220791  0.41451256\n",
      "  0.62872526 0.70422818 0.47685025 0.54047758 0.34758969 0.49127764\n",
      "  0.70067257 0.37863804 0.14863787 0.4192857  0.57521031 0.47163706\n",
      "  0.75869814 0.64654579 0.48624498 0.58188527 0.21039726 0.4008367\n",
      "  0.75356836 0.37046593 0.67331582 0.78530648 0.76640127 0.3991551\n",
      "  0.79580264 0.68128883 0.44714178 0.65778868 0.08968575 0.867553\n",
      "  0.45533606 0.18007371 0.21960361 0.45165766 0.21108572 0.7761614\n",
      "  0.68266955 0.85001788 0.35805815 0.27948128]\n",
      " [0.97699256 0.53425678 0.23824794 0.52277209 0.14935648 0.45225011\n",
      "  0.78458146 0.5332963  0.75601873 0.514878   0.49771825 0.77585961\n",
      "  0.42683587 0.09647503 0.2244876  0.63811119 0.62828589 0.26173564\n",
      "  0.63414679 0.34336807 0.76557864 0.77701785 0.67880693 0.77078665\n",
      "  0.76276045 0.48461414 0.21806978 0.62912564 0.         0.35927838\n",
      "  0.31211151 0.85455604 0.47856277 0.54990576 0.2041205  0.68248878\n",
      "  0.4124155  0.75956223 0.21323041 0.32931938 0.47691267 0.76887395\n",
      "  0.43093353 0.38040781 0.38941628 0.75716307 0.48613205 0.74488152\n",
      "  0.37118158 0.42145653 0.51208275 0.70192072 0.26216599 0.696522\n",
      "  0.28958222 0.91251048 0.59320391 0.67190013 0.41944695 0.24285009\n",
      "  0.71438754 0.29210954 0.18149006 0.74069686 0.51022291 0.38262819\n",
      "  0.19008919 0.44616596 0.63357367 0.83773672 0.74639412 0.37428946\n",
      "  0.17507461 0.30547109 0.58674822 0.70595998 0.42038606 0.22830787\n",
      "  0.55095339 0.40432692 0.73384078 0.16287137 0.32337219 0.44890247\n",
      "  0.17032779 0.12539625 0.37307872 0.24185613 0.6547838  0.23928732\n",
      "  0.36986483 0.53942642 0.4685845  0.6010917  0.66388494 0.6839122\n",
      "  0.32837091 0.23391648 0.27120658 0.45004119]\n",
      " [0.61846292 0.46201744 0.2792326  0.2375135  0.38469279 0.40942982\n",
      "  0.50010868 0.23064611 0.61034671 0.27744167 0.43150526 0.41729716\n",
      "  0.13041808 0.30614695 0.32480477 0.2950194  0.31306168 0.37095682\n",
      "  0.37350805 0.42911041 0.40772893 0.4197047  0.35973858 0.46856416\n",
      "  0.40913827 0.23049969 0.57718437 0.31235668 0.35927838 0.\n",
      "  0.67091447 0.50228679 0.12201163 0.51224404 0.34601319 0.38132152\n",
      "  0.1571545  0.63724966 0.5303537  0.37594819 0.12038022 0.44812022\n",
      "  0.23702543 0.40833043 0.31917193 0.44114005 0.14046851 0.64439371\n",
      "  0.32049836 0.14647226 0.17233188 0.38592158 0.3843601  0.36815089\n",
      "  0.07504918 0.55326684 0.24249618 0.55471793 0.08318444 0.23835652\n",
      "  0.4752166  0.53930114 0.18234771 0.44892593 0.40803141 0.20744902\n",
      "  0.49016867 0.38288238 0.38314037 0.48785968 0.69392512 0.40678538\n",
      "  0.520063   0.50439394 0.54962466 0.44540241 0.16030496 0.16338024\n",
      "  0.48456649 0.10861786 0.51095974 0.49843628 0.45446732 0.16642195\n",
      "  0.52904275 0.38143896 0.3855892  0.34545755 0.37091905 0.59467846\n",
      "  0.39029088 0.18230922 0.2693238  0.53660808 0.43794981 0.550505\n",
      "  0.37408042 0.59294456 0.13016568 0.30409703]\n",
      " [1.28903537 0.73183769 0.48878819 0.81289935 0.36012607 0.65377775\n",
      "  1.07661551 0.83813174 0.96169582 0.79045668 0.72805754 1.08632257\n",
      "  0.72721471 0.38585199 0.47040232 0.94219421 0.92260292 0.45409354\n",
      "  0.9241876  0.53421069 1.07767811 1.08912916 0.97288971 1.06906181\n",
      "  1.07022175 0.78216331 0.09429214 0.93436198 0.31211151 0.67091447\n",
      "  0.         1.16081315 0.79065686 0.75476219 0.43849857 0.96938434\n",
      "  0.70564923 0.9818465  0.24005921 0.55077415 0.78900651 1.06123292\n",
      "  0.70425695 0.56426124 0.64659422 1.04774516 0.79365162 0.95672669\n",
      "  0.60299689 0.72718518 0.81757542 0.99408488 0.47055125 0.99380588\n",
      "  0.59972902 1.22375646 0.90490872 0.87126665 0.72709152 0.52688727\n",
      "  0.9726926  0.35962561 0.49045568 1.02125551 0.75492059 0.65997064\n",
      "  0.27569758 0.68632784 0.92046388 1.14279059 0.92965765 0.58616242\n",
      "  0.18987354 0.42096335 0.78439569 0.97455574 0.72400657 0.53571819\n",
      "  0.7415333  0.70654913 0.98289935 0.19712759 0.45864361 0.74434435\n",
      "  0.14188554 0.32655632 0.59658006 0.4522705  0.95081243 0.08454941\n",
      "  0.59018253 0.851524   0.7541812  0.81183581 0.94057106 0.89096499\n",
      "  0.52455303 0.08626181 0.57938995 0.72205471]\n",
      " [0.22153876 0.65259589 0.69698816 0.3710377  0.88485712 0.66671533\n",
      "  0.52898526 0.462806   0.61262109 0.42581376 0.79880929 0.11603576\n",
      "  0.43538667 0.80841091 0.81117926 0.2196425  0.26465058 0.7706733\n",
      "  0.54280147 0.88644405 0.19582442 0.20083941 0.22521944 0.4717727\n",
      "  0.09341547 0.53897096 1.06915061 0.41720666 0.85455604 0.50228679\n",
      "  1.16081315 0.         0.3998033  0.87343984 0.83736267 0.26258344\n",
      "  0.46363321 0.87472404 1.03249375 0.83060312 0.40125357 0.18067463\n",
      "  0.4969071  0.73021672 0.73373315 0.1990721  0.36844834 0.90498544\n",
      "  0.63783668 0.52300671 0.34325419 0.21971584 0.86385034 0.19365043\n",
      "  0.56589034 0.13662539 0.33244199 0.63057646 0.43511268 0.72235206\n",
      "  0.39904116 1.03213338 0.67307298 0.27219829 0.75537422 0.52680345\n",
      "  0.99182892 0.77266434 0.56314092 0.0256575  0.99175402 0.84577415\n",
      "  1.02111163 0.98822766 0.89983621 0.3504893  0.53740496 0.66241504\n",
      "  0.66775696 0.45476041 0.43893452 0.97445976 0.82975232 0.42407071\n",
      "  1.02046554 0.84579234 0.82104742 0.75571394 0.49654716 1.08015338\n",
      "  0.82828357 0.34707676 0.60788931 0.86723701 0.62148903 0.60516894\n",
      "  0.73012153 1.0877022  0.62316864 0.66961397]\n",
      " [0.49848168 0.52354533 0.39156314 0.23329862 0.48782636 0.48569794\n",
      "  0.40598475 0.15390451 0.63247262 0.29680215 0.44543798 0.30450735\n",
      "  0.16469854 0.41783469 0.41141222 0.21572392 0.26459866 0.48215355\n",
      "  0.30202592 0.49367955 0.28702224 0.29859379 0.30151035 0.36685572\n",
      "  0.3067741  0.19426606 0.69662039 0.21112406 0.47856277 0.12201163\n",
      "  0.79065686 0.3998033  0.         0.52650999 0.43764208 0.33678302\n",
      "  0.20836317 0.60799252 0.63821946 0.43792473 0.00165087 0.38094627\n",
      "  0.29146306 0.50211518 0.35378128 0.3786121  0.09964373 0.62332499\n",
      "  0.40730737 0.13798104 0.12691848 0.32795274 0.46499121 0.29966855\n",
      "  0.19685487 0.43659817 0.12169505 0.59209697 0.1109621  0.32255696\n",
      "  0.46319508 0.63235169 0.3040835  0.40518645 0.41111244 0.28015505\n",
      "  0.59626586 0.40615662 0.31645199 0.3888439  0.68790633 0.45914187\n",
      "  0.63401271 0.58908228 0.56024113 0.42337637 0.1550494  0.26681052\n",
      "  0.54572451 0.15934704 0.50472719 0.62035017 0.56263518 0.19229857\n",
      "  0.64880509 0.50307646 0.43526804 0.45822096 0.28572958 0.71552162\n",
      "  0.44166145 0.06086985 0.25619402 0.53829926 0.37845808 0.58194807\n",
      "  0.47502251 0.71132343 0.22546895 0.3093511 ]\n",
      " [0.86479591 0.95318534 0.68731636 0.74267122 0.41723634 0.88583898\n",
      "  0.46864324 0.41262791 1.12160286 0.78940106 0.08157643 0.75848065\n",
      "  0.64147824 0.4572835  0.32564063 0.73646916 0.7910352  0.76040043\n",
      "  0.35487622 0.22152973 0.69246988 0.69447163 0.82718339 0.4978659\n",
      "  0.79134603 0.3412373  0.68051529 0.46286386 0.54990576 0.51224404\n",
      "  0.75476219 0.87343984 0.52650999 0.         0.34700782 0.86323504\n",
      "  0.66880329 0.22822289 0.51544776 0.22081378 0.5258907  0.90205906\n",
      "  0.7445387  0.85142138 0.19800262 0.9018931  0.61797746 0.20220055\n",
      "  0.78961651 0.39051641 0.64956876 0.85336746 0.29513266 0.82228066\n",
      "  0.52468731 0.84585718 0.54439436 1.06122506 0.58704164 0.34105786\n",
      "  0.98105109 0.40909399 0.52871158 0.93169457 0.11860412 0.7068789\n",
      "  0.47938366 0.13043859 0.33697612 0.8717927  0.19915131 0.17687048\n",
      "  0.56831847 0.34099842 0.03925705 0.94555621 0.37314109 0.42078584\n",
      "  0.97507343 0.62075278 1.01944245 0.69879352 0.84169933 0.6774536\n",
      "  0.65411929 0.66574563 0.17706416 0.73301261 0.40398624 0.72395166\n",
      "  0.18004122 0.55313026 0.27306141 0.05752146 0.30500924 1.05959105\n",
      "  0.80267242 0.67319406 0.41537369 0.2171889 ]\n",
      " [0.9156552  0.67938218 0.38459876 0.56968318 0.07851008 0.60183765\n",
      "  0.64445451 0.43051035 0.88260867 0.58779218 0.30088116 0.7397978\n",
      "  0.46017768 0.11792104 0.03296262 0.63951559 0.65737691 0.43961873\n",
      "  0.49233122 0.14162888 0.70727833 0.71595062 0.70510006 0.64303862\n",
      "  0.74416886 0.36255117 0.35249047 0.52386333 0.2041205  0.34601319\n",
      "  0.43849857 0.83736267 0.43764208 0.34700782 0.         0.72326663\n",
      "  0.46586192 0.56252731 0.2228643  0.12627129 0.43617158 0.79399113\n",
      "  0.5167017  0.54697798 0.20817657 0.78656232 0.48627426 0.5448282\n",
      "  0.50890257 0.32976232 0.51834409 0.73103416 0.06137385 0.714164\n",
      "  0.30677142 0.8651849  0.52798766 0.80707458 0.4270563  0.11595459\n",
      "  0.79512531 0.19486638 0.24524157 0.78919549 0.32077568 0.4694039\n",
      "  0.17844463 0.25318086 0.48655684 0.82570713 0.5424579  0.17053752\n",
      "  0.24980275 0.16012167 0.38324875 0.7741941  0.32062331 0.18408948\n",
      "  0.69912651 0.43525779 0.82385386 0.35284513 0.51361548 0.49232953\n",
      "  0.31808086 0.32483731 0.17152214 0.41449954 0.52407402 0.39130243\n",
      "  0.16742632 0.49302905 0.32253574 0.39967294 0.50270347 0.8131376\n",
      "  0.49487922 0.35245252 0.21685235 0.2845874 ]\n",
      " [0.47650684 0.39075702 0.4834637  0.15985953 0.7507897  0.41117196\n",
      "  0.65270136 0.47128099 0.37028649 0.18423629 0.78204811 0.28030487\n",
      "  0.26448647 0.66153255 0.70449068 0.14520373 0.07220056 0.54261518\n",
      "  0.60236048 0.80967022 0.35119071 0.36454765 0.05135693 0.5984538\n",
      "  0.21804553 0.52806612 0.88316418 0.47929493 0.68248878 0.38132152\n",
      "  0.96938434 0.26258344 0.33678302 0.86323504 0.72326663 0.\n",
      "  0.2703959  0.93114105 0.88351757 0.75567301 0.33737155 0.09800482\n",
      "  0.26804318 0.48270726 0.68524333 0.08115123 0.24914663 0.95110001\n",
      "  0.39756743 0.47335305 0.21617446 0.04338104 0.76506326 0.08066034\n",
      "  0.41843976 0.38931452 0.35693357 0.37362053 0.29822729 0.61939847\n",
      "  0.15821305 0.91254276 0.50878766 0.06879009 0.74778124 0.30972095\n",
      "  0.84811863 0.74132242 0.62076728 0.23710147 1.02140913 0.78351582\n",
      "  0.85708427 0.88309122 0.89700576 0.10739387 0.49067597 0.53925325\n",
      "  0.40540837 0.28929686 0.20337047 0.7744589  0.58975396 0.23597706\n",
      "  0.83527122 0.64362601 0.76097005 0.53295517 0.56890219 0.88554299\n",
      "  0.76646708 0.31939833 0.5924944  0.87438513 0.68518377 0.35033178\n",
      "  0.49126556 0.90565648 0.51086148 0.64604789]\n",
      " [0.62834056 0.31656523 0.23371887 0.11053655 0.4849825  0.27789858\n",
      "  0.61402675 0.35768739 0.45321692 0.12459819 0.5883383  0.41085142\n",
      "  0.0446583  0.39352017 0.45152421 0.24478452 0.21724645 0.31252634\n",
      "  0.50648966 0.5695973  0.43364264 0.44780951 0.26772184 0.57313405\n",
      "  0.37869367 0.37745735 0.61701123 0.41884689 0.4124155  0.1571545\n",
      "  0.70564923 0.46363321 0.20836317 0.66880329 0.46586192 0.2703959\n",
      "  0.         0.79089425 0.61368141 0.51946533 0.20747784 0.3571349\n",
      "  0.08445518 0.3035064  0.47404759 0.34491634 0.13088996 0.79977482\n",
      "  0.20582258 0.2974229  0.13565586 0.28999003 0.51398265 0.28820353\n",
      "  0.16055326 0.55010822 0.31403418 0.39884233 0.09921992 0.37323762\n",
      "  0.33031922 0.64906996 0.23915035 0.3309886  0.56515207 0.07618598\n",
      "  0.57914437 0.53898749 0.51924582 0.44324451 0.85099    0.55438028\n",
      "  0.58677583 0.62564451 0.70641776 0.30848821 0.3129741  0.28600548\n",
      "  0.3389492  0.05228203 0.36199704 0.51425836 0.38203028 0.03958012\n",
      "  0.56864918 0.3841172  0.53476867 0.29471344 0.49357752 0.62293413\n",
      "  0.53866861 0.24590088 0.42367538 0.69376258 0.57867716 0.39368059\n",
      "  0.28585252 0.63836511 0.26797563 0.46107864]\n",
      " [0.80825107 1.09837669 0.86207436 0.8407121  0.63704495 1.04024431\n",
      "  0.37399045 0.46066443 1.23774633 0.89990846 0.26212423 0.7599021\n",
      "  0.75498802 0.66385864 0.53683919 0.79019108 0.86133025 0.943719\n",
      "  0.33585266 0.44765908 0.67980645 0.67696263 0.88714396 0.42297453\n",
      "  0.80773203 0.41631984 0.9054884  0.46444943 0.75956223 0.63724966\n",
      "  0.9818465  0.87472404 0.60799252 0.22822289 0.56252731 0.93114105\n",
      "  0.79089425 0.         0.74311629 0.4378972  0.60798332 0.94712592\n",
      "  0.87351311 1.02054142 0.37508704 0.95152994 0.70745589 0.04453399\n",
      "  0.94622594 0.49347899 0.73434509 0.91123051 0.51644922 0.87408057\n",
      "  0.67203793 0.81266526 0.57827027 1.18953443 0.69649182 0.5294359\n",
      "  1.06948486 0.63700963 0.70477614 0.99613789 0.25330937 0.84417247\n",
      "  0.706176   0.31361633 0.31590353 0.87975346 0.14367224 0.3977936\n",
      "  0.79422133 0.56911769 0.20432989 1.02701452 0.47802106 0.59344532\n",
      "  1.12087218 0.73903852 1.111919   0.91498118 1.02840897 0.78894181\n",
      "  0.87679018 0.86752969 0.39166919 0.91567775 0.37911874 0.94796059\n",
      "  0.39672151 0.61237558 0.36792644 0.17071067 0.25407441 1.18289551\n",
      "  0.9757262  0.89941327 0.57473288 0.34226892]\n",
      " [1.12892766 0.74382493 0.45103374 0.72394871 0.15330579 0.66150117\n",
      "  0.86615505 0.65056661 0.96801042 0.72303967 0.49308117 0.94267608\n",
      "  0.62139575 0.22508217 0.25574474 0.8230865  0.8246911  0.46332792\n",
      "  0.71443431 0.29622901 0.91831096 0.92796673 0.87471657 0.86583138\n",
      "  0.93921134 0.58475209 0.17775639 0.74505142 0.21323041 0.5303537\n",
      "  0.24005921 1.03249375 0.63821946 0.51544776 0.2228643  0.88351757\n",
      "  0.61368141 0.74311629 0.         0.31878288 0.63663623 0.9651508\n",
      "  0.64078514 0.58440985 0.42357644 0.95492418 0.66791711 0.7171274\n",
      "  0.5836267  0.54562943 0.69726014 0.8991021  0.23993752 0.8892258\n",
      "  0.47187627 1.07341498 0.73947487 0.88279209 0.60297418 0.33125319\n",
      "  0.92534991 0.12630327 0.37473308 0.94456212 0.52345656 0.59202459\n",
      "  0.04446758 0.45504258 0.70793513 1.01820278 0.68998184 0.3503711\n",
      "  0.07013059 0.18186209 0.54450936 0.9145796  0.5383672  0.37147526\n",
      "  0.75949033 0.59735172 0.94607718 0.25291246 0.50942569 0.64763143\n",
      "  0.17107613 0.31507743 0.36321833 0.44747198 0.74688986 0.22461648\n",
      "  0.35621624 0.69704916 0.54510155 0.5727146  0.72012924 0.89577228\n",
      "  0.53383693 0.16299573 0.41304793 0.5041563 ]\n",
      " [0.87837648 0.76996524 0.48615274 0.61269563 0.19914787 0.69649645\n",
      "  0.55952721 0.38638811 0.95933955 0.64406351 0.17811748 0.72422361\n",
      "  0.50340651 0.23815184 0.10600285 0.65203261 0.685664   0.55125938\n",
      "  0.41191657 0.05590095 0.67828785 0.68476524 0.72968013 0.56737908\n",
      "  0.73963585 0.30980384 0.46985892 0.47061666 0.32931938 0.37594819\n",
      "  0.55077415 0.83060312 0.43792473 0.22081378 0.12627129 0.75567301\n",
      "  0.51946533 0.4378972  0.31878288 0.         0.43673006 0.81466481\n",
      "  0.58346174 0.65107398 0.1150448  0.8100411  0.50802647 0.41894112\n",
      "  0.60093603 0.30759672 0.54123486 0.75628143 0.08023186 0.73320371\n",
      "  0.36067673 0.83831181 0.5037306  0.88984653 0.45886469 0.14903922\n",
      "  0.84812085 0.24197168 0.33269339 0.82386831 0.20483717 0.539634\n",
      "  0.27744584 0.13630335 0.40211952 0.82255121 0.41729151 0.04567728\n",
      "  0.36106463 0.17843878 0.25742888 0.82070488 0.29343605 0.23840077\n",
      "  0.79086673 0.47945405 0.88133505 0.47880262 0.62943094 0.538493\n",
      "  0.43926293 0.44708974 0.04637028 0.52475973 0.4510146  0.51114566\n",
      "  0.04132102 0.48442574 0.25252209 0.27350971 0.40578402 0.89255581\n",
      "  0.60023926 0.46618117 0.25158693 0.19894815]\n",
      " [0.50013041 0.52278527 0.39010551 0.23317916 0.48627041 0.48473387\n",
      "  0.40696972 0.15431693 0.63226805 0.29645501 0.44479057 0.3060804\n",
      "  0.16388626 0.41621629 0.40997875 0.21674107 0.26518025 0.48072272\n",
      "  0.30254567 0.49247485 0.28867271 0.30024461 0.3022754  0.36797887\n",
      "  0.30820512 0.19403925 0.6949705  0.21216586 0.47691267 0.12038022\n",
      "  0.78900651 0.40125357 0.00165087 0.5258907  0.43617158 0.33737155\n",
      "  0.20747784 0.60798332 0.63663623 0.43673006 0.         0.38189048\n",
      "  0.2906633  0.50092546 0.35283714 0.3794878  0.0995617  0.62320369\n",
      "  0.40618297 0.13715085 0.12711158 0.32873308 0.46362295 0.30058761\n",
      "  0.19523349 0.43822162 0.12324597 0.59167704 0.10991373 0.32111612\n",
      "  0.46339686 0.63089231 0.30244103 0.40580467 0.410585   0.27912645\n",
      "  0.59469428 0.40537531 0.3168984  0.39024539 0.68759352 0.4580548\n",
      "  0.63238763 0.58769616 0.55967874 0.42369742 0.1542504  0.26521977\n",
      "  0.54497567 0.15832816 0.50486696 0.61871057 0.56125573 0.19167945\n",
      "  0.64715457 0.50146582 0.43420091 0.45676505 0.2864911  0.71387132\n",
      "  0.44057864 0.06252054 0.25574149 0.53784508 0.37882284 0.58160478\n",
      "  0.47373234 0.70967663 0.22390683 0.3087197 ]\n",
      " [0.40162444 0.48338451 0.57790629 0.24835026 0.82754583 0.50800425\n",
      "  0.63954    0.49578886 0.43232772 0.28145592 0.82218161 0.23195508\n",
      "  0.34386264 0.74112183 0.77279533 0.16593791 0.14072548 0.63956888\n",
      "  0.61226427 0.86979938 0.31436446 0.32568329 0.09044065 0.58302105\n",
      "  0.16673376 0.56138187 0.97365858 0.48449377 0.76887395 0.44812022\n",
      "  1.06123292 0.18067463 0.38094627 0.90205906 0.79399113 0.09800482\n",
      "  0.3571349  0.94712592 0.9651508  0.81466481 0.38189048 0.\n",
      "  0.36384771 0.58062226 0.73472634 0.01906148 0.30872624 0.97101461\n",
      "  0.4954111  0.51864251 0.27603896 0.06720205 0.83157963 0.08152992\n",
      "  0.49480728 0.31536823 0.36951473 0.45089777 0.36727762 0.68550192\n",
      "  0.21836655 0.98630585 0.59158815 0.09153991 0.78432056 0.40352111\n",
      "  0.92817206 0.78586359 0.63180441 0.15529508 1.04780602 0.83875795\n",
      "  0.94241244 0.95247488 0.93364662 0.17017496 0.53547497 0.61040334\n",
      "  0.49667843 0.36779916 0.2586711  0.86747954 0.68771704 0.3199776\n",
      "  0.9254386  0.73661138 0.81525464 0.62916802 0.57323783 0.97781934\n",
      "  0.82137761 0.34898325 0.62900456 0.90735376 0.69528623 0.42501557\n",
      "  0.5891253  0.995368   0.57810367 0.68645869]\n",
      " [0.67948103 0.23234665 0.21612466 0.12606193 0.52475925 0.19913735\n",
      "  0.69602655 0.44194576 0.37809396 0.08621897 0.66493167 0.46129203\n",
      "  0.12678572 0.43040632 0.50651888 0.28689972 0.23442026 0.2766442\n",
      "  0.59079904 0.63091621 0.49549238 0.50998369 0.2812059  0.65371018\n",
      "  0.41994881 0.46132833 0.62044756 0.50078394 0.43093353 0.23702543\n",
      "  0.70425695 0.4969071  0.29146306 0.7445387  0.5167017  0.26804318\n",
      "  0.08445518 0.87351311 0.64078514 0.58346174 0.2906633  0.36384771\n",
      "  0.         0.23926507 0.54786548 0.34851281 0.20635617 0.88136358\n",
      "  0.14271887 0.38037398 0.20199426 0.29823417 0.56927798 0.30813481\n",
      "  0.22375173 0.59742855 0.39183555 0.31793422 0.18355269 0.43483696\n",
      "  0.28489074 0.69033707 0.27575966 0.31700462 0.64401512 0.04891889\n",
      "  0.61016937 0.61419563 0.60366244 0.4742166  0.92997836 0.62099261\n",
      "  0.60552688 0.67405496 0.78267578 0.27524229 0.3955271  0.34557271\n",
      "  0.25466781 0.13658779 0.30893888 0.50813732 0.3329707  0.10313612\n",
      "  0.57337204 0.37772657 0.60281161 0.26533417 0.57712185 0.61998502\n",
      "  0.60603598 0.3247255  0.50577435 0.77196723 0.66312627 0.31506881\n",
      "  0.23341567 0.64426778 0.33504637 0.54064636]\n",
      " [0.91847377 0.16780828 0.16502131 0.36325657 0.51972098 0.09071294\n",
      "  0.90492553 0.63786348 0.39801051 0.30456831 0.77987341 0.70042675\n",
      "  0.34730384 0.43260594 0.55143038 0.52549626 0.46556618 0.12118701\n",
      "  0.78179885 0.68482904 0.73348965 0.74789571 0.50770341 0.86859796\n",
      "  0.65736326 0.63534714 0.49966865 0.7120599  0.38040781 0.40833043\n",
      "  0.56426124 0.73021672 0.50211518 0.85142138 0.54697798 0.48270726\n",
      "  0.3035064  1.02054142 0.58440985 0.65107398 0.50092546 0.58062226\n",
      "  0.23926507 0.         0.65714023 0.56311022 0.43438416 1.01937167\n",
      "  0.09803335 0.55056798 0.43666529 0.519913   0.60794351 0.53758927\n",
      "  0.35372607 0.83580819 0.61552682 0.30816413 0.39204573 0.51117597\n",
      "  0.43282768 0.67244449 0.32272559 0.51405431 0.77211424 0.22732042\n",
      "  0.56846174 0.72520144 0.79102029 0.7065069  1.04876752 0.69538161\n",
      "  0.52862256 0.68033369 0.89066757 0.44893411 0.56164054 0.43181752\n",
      "  0.17928025 0.34493778 0.43297183 0.37457027 0.1149415  0.33551849\n",
      "  0.46094572 0.27007679 0.68413906 0.13855205 0.7780158  0.48239182\n",
      "  0.68448165 0.5470589  0.66143877 0.89093858 0.84389625 0.32682869\n",
      "  0.05256843 0.52795311 0.44593989 0.67834174]\n",
      " [0.76837265 0.75524345 0.4944505  0.55429972 0.28667549 0.68852664\n",
      "  0.44606407 0.27863638 0.92562389 0.5964098  0.12275186 0.6239233\n",
      "  0.44950701 0.29294407 0.17692368 0.56933728 0.61351762 0.57199867\n",
      "  0.29724338 0.16469706 0.57239945 0.57794506 0.65388888 0.45249418\n",
      "  0.64495003 0.20067159 0.560395   0.35836872 0.38941628 0.31917193\n",
      "  0.64659422 0.73373315 0.35378128 0.19800262 0.20817657 0.68524333\n",
      "  0.47404759 0.37508704 0.42357644 0.1150448  0.35283714 0.73472634\n",
      "  0.54786548 0.65714023 0.         0.73213205 0.43635821 0.36671294\n",
      "  0.59240566 0.21649816 0.4691275  0.68049622 0.18521186 0.65340838\n",
      "  0.3268559  0.73212122 0.40248598 0.86378027 0.39765634 0.15437597\n",
      "  0.79302549 0.35634176 0.33551184 0.75402967 0.12210604 0.50931255\n",
      "  0.38032172 0.06835736 0.28808387 0.72769985 0.39208335 0.11420796\n",
      "  0.45743783 0.29348279 0.23690976 0.76046798 0.20012996 0.22532321\n",
      "  0.77716613 0.42764733 0.82974322 0.54944643 0.65558989 0.48554355\n",
      "  0.52449545 0.49290285 0.08937165 0.54414734 0.33597013 0.59822862\n",
      "  0.09735747 0.39255775 0.13893338 0.23381031 0.29656225 0.86270325\n",
      "  0.6095851  0.56060706 0.21740336 0.08397253]\n",
      " [0.41965424 0.46451874 0.56327715 0.23530228 0.81859498 0.4898225\n",
      "  0.64885425 0.49783909 0.41451159 0.26529654 0.82166864 0.24571539\n",
      "  0.33355682 0.73135678 0.7659441  0.16555091 0.13038395 0.62364212\n",
      "  0.61738879 0.86495942 0.32672654 0.33843974 0.08146227 0.59262647\n",
      "  0.18031768 0.56186143 0.96065322 0.49017589 0.75716307 0.44114005\n",
      "  1.04774516 0.1990721  0.3786121  0.9018931  0.78656232 0.08115123\n",
      "  0.34491634 0.95152994 0.95492418 0.8100411  0.3794878  0.01906148\n",
      "  0.34851281 0.56311022 0.73213205 0.         0.30275379 0.97468562\n",
      "  0.47867533 0.51656109 0.26976182 0.05591342 0.82520709 0.0796246\n",
      "  0.48562373 0.33318394 0.37333745 0.43207144 0.35951785 0.67909485\n",
      "  0.20010938 0.97821839 0.58081795 0.0735551  0.78450894 0.38907178\n",
      "  0.9183764  0.7843862  0.63675425 0.17359321 1.0502667  0.83500325\n",
      "  0.93108927 0.94547859 0.93395796 0.15148926 0.53353789 0.60268999\n",
      "  0.47772278 0.35778843 0.24096965 0.85350645 0.6707385  0.30840784\n",
      "  0.91253873 0.72262577 0.81169254 0.61369283 0.57931147 0.96415623\n",
      "  0.81768162 0.34939989 0.62897519 0.90839274 0.70051668 0.4063037\n",
      "  0.57236027 0.98264093 0.57128519 0.68572087]\n",
      " [0.50901973 0.43455692 0.35035754 0.13368297 0.52438216 0.4051974\n",
      "  0.49238459 0.25246521 0.53309856 0.19898533 0.53645216 0.2959326\n",
      "  0.08749688 0.44289763 0.46431655 0.15527542 0.17801135 0.43565489\n",
      "  0.39914922 0.56263321 0.3071937  0.32099048 0.22185695 0.44828904\n",
      "  0.27677678 0.29259372 0.7013834  0.29782377 0.48613205 0.14046851\n",
      "  0.79365162 0.36844834 0.09964373 0.61797746 0.48627426 0.24914663\n",
      "  0.13088996 0.70745589 0.66791711 0.50802647 0.0995617  0.30872624\n",
      "  0.20635617 0.43438416 0.43635821 0.30275379 0.         0.72221132\n",
      "  0.3367013  0.22762994 0.03321543 0.24839229 0.52285648 0.22814016\n",
      "  0.19775697 0.43555787 0.18549242 0.49484886 0.06670515 0.37679264\n",
      "  0.36556849 0.67976681 0.30467191 0.31787591 0.50484836 0.20706961\n",
      "  0.62863529 0.49373999 0.41437444 0.35210734 0.78484395 0.53470481\n",
      "  0.65335729 0.64406106 0.65293804 0.32781597 0.24498796 0.30380812\n",
      "  0.45627083 0.09651116 0.40631588 0.61095509 0.50954502 0.10323751\n",
      "  0.65273602 0.4852011  0.51198109 0.41511054 0.37893164 0.71405222\n",
      "  0.51758022 0.11896187 0.35173695 0.63316314 0.47705928 0.4837045\n",
      "  0.41521359 0.71947767 0.26974008 0.40132391]\n",
      " [0.84561415 1.10337913 0.85889758 0.85469439 0.61747471 1.04288067\n",
      "  0.41276288 0.47981972 1.2494992  0.91172518 0.2481438  0.78958987\n",
      "  0.76540884 0.65008099 0.52078683 0.81187638 0.88054367 0.93838025\n",
      "  0.36314331 0.4236982  0.71100276 0.70881086 0.90828207 0.45999132\n",
      "  0.8354739  0.42969492 0.88266023 0.49130847 0.74488152 0.64439371\n",
      "  0.95672669 0.90498544 0.62332499 0.20220055 0.5448282  0.95110001\n",
      "  0.79977482 0.04453399 0.7171274  0.41894112 0.62320369 0.97101461\n",
      "  0.88136358 1.01937167 0.36671294 0.97468562 0.72221132 0.\n",
      "  0.94802859 0.5032186  0.75017545 0.93283656 0.49580676 0.89653711\n",
      "  0.67462412 0.84727513 0.60151651 1.19858382 0.70730649 0.52059113\n",
      "  1.0862402  0.60762056 0.70054245 1.0169593  0.2474908  0.85006407\n",
      "  0.68150972 0.30191686 0.34288983 0.909078   0.10014416 0.3768936\n",
      "  0.77051901 0.54047272 0.17337884 1.04491853 0.48711798 0.58933156\n",
      "  1.12579049 0.74837988 1.12804263 0.89765307 1.0222562  0.79998315\n",
      "  0.85572133 0.8560689  0.37330609 0.91045207 0.40844623 0.92593728\n",
      "  0.37762478 0.63172004 0.3762073  0.1460289  0.28357209 1.1930089\n",
      "  0.97337496 0.87537704 0.5736882  0.3437519 ]\n",
      " [0.82212088 0.17048412 0.13305117 0.26819771 0.4952495  0.09627602\n",
      "  0.81199279 0.54717807 0.38491253 0.21480012 0.7146589  0.60386689\n",
      "  0.24990388 0.40231968 0.50780336 0.42961459 0.37369886 0.15163402\n",
      "  0.6931393  0.64032078 0.63559598 0.64998423 0.41803684 0.77416141\n",
      "  0.56245098 0.55036569 0.52779629 0.61808249 0.37118158 0.32049836\n",
      "  0.60299689 0.63783668 0.40730737 0.78961651 0.50890257 0.39756743\n",
      "  0.20582258 0.94622594 0.5836267  0.60093603 0.40618297 0.4954111\n",
      "  0.14271887 0.09803335 0.59240566 0.47867533 0.3367013  0.94802859\n",
      "  0.         0.46568099 0.33863211 0.43231637 0.56793527 0.44675633\n",
      "  0.27426349 0.74014195 0.51883081 0.30232682 0.29659216 0.4549279\n",
      "  0.37090847 0.65642214 0.26841193 0.4359465  0.70242231 0.12970235\n",
      "  0.5608566  0.66075048 0.70339437 0.61464652 0.98410422 0.64343926\n",
      "  0.53613909 0.65442905 0.82878514 0.3781587  0.47800869 0.36953243\n",
      "  0.1905246  0.24882784 0.37993102 0.40655766 0.19283011 0.23748596\n",
      "  0.48414381 0.28384304 0.62952903 0.1507722  0.68675067 0.51874994\n",
      "  0.63091373 0.45041409 0.58198464 0.82526938 0.75836596 0.31293029\n",
      "  0.0937186  0.55434752 0.3760545  0.60459181]\n",
      " [0.58589541 0.60806468 0.40934648 0.35539944 0.39232474 0.55571827\n",
      "  0.37433698 0.11186583 0.74645617 0.40895602 0.30907316 0.41761661\n",
      "  0.26219058 0.3416102  0.29968324 0.35300828 0.40119217 0.5000818\n",
      "  0.23502637 0.36344598 0.37828377 0.38652866 0.4393601  0.35279943\n",
      "  0.43221678 0.08482341 0.63335726 0.20773367 0.42145653 0.14647226\n",
      "  0.72718518 0.52300671 0.13798104 0.39051641 0.32976232 0.47335305\n",
      "  0.2974229  0.49347899 0.54562943 0.30759672 0.13715085 0.51864251\n",
      "  0.38037398 0.55056798 0.21649816 0.51656109 0.22762994 0.5032186\n",
      "  0.46568099 0.         0.25905369 0.46584817 0.34565906 0.43750131\n",
      "  0.19872243 0.53725637 0.19965292 0.69609493 0.20421487 0.21512918\n",
      "  0.59224173 0.52000048 0.27642313 0.54200801 0.27744623 0.35359664\n",
      "  0.50172369 0.26832097 0.24197532 0.51515182 0.55973505 0.3246198\n",
      "  0.55417659 0.46986378 0.42530919 0.55542775 0.01737535 0.19314867\n",
      "  0.63062139 0.2455804  0.63187836 0.5786193  0.58579306 0.2968922\n",
      "  0.58818858 0.47917447 0.3002602  0.47295944 0.24222959 0.65982609\n",
      "  0.30707405 0.17744396 0.12726169 0.40613252 0.29334092 0.68990986\n",
      "  0.51287935 0.64327346 0.15069456 0.17369396]\n",
      " [0.49416952 0.42405927 0.36448202 0.11111368 0.55502528 0.40076937\n",
      "  0.50640277 0.27637564 0.50994804 0.18114382 0.56810513 0.27807438\n",
      "  0.09717291 0.47218012 0.49678151 0.12634319 0.1448556  0.44691152\n",
      "  0.42078842 0.59581881 0.29806651 0.31228283 0.18874427 0.46003646\n",
      "  0.2531464  0.32114705 0.72593062 0.31364922 0.51208275 0.17233188\n",
      "  0.81757542 0.34325419 0.12691848 0.64956876 0.51834409 0.21617446\n",
      "  0.13565586 0.73434509 0.69726014 0.54123486 0.12711158 0.27603896\n",
      "  0.20199426 0.43666529 0.4691275  0.26976182 0.03321543 0.75017545\n",
      "  0.33863211 0.25905369 0.         0.21525009 0.55559805 0.1958207\n",
      "  0.22578667 0.41791154 0.19570396 0.47594679 0.09428914 0.40949872\n",
      "  0.33628531 0.71144849 0.33069651 0.28494073 0.53576599 0.21054088\n",
      "  0.65846311 0.52598512 0.43678923 0.32575011 0.81447313 0.56788129\n",
      "  0.68097325 0.67649065 0.68423104 0.29708157 0.27642901 0.33534874\n",
      "  0.44528147 0.11289379 0.37787348 0.63245305 0.51767308 0.10114908\n",
      "  0.67724221 0.50514005 0.54512147 0.42779599 0.3976314  0.73713867\n",
      "  0.55074464 0.13368187 0.38188721 0.66374601 0.50017683 0.46327894\n",
      "  0.4213277  0.74471326 0.30210859 0.43264572]\n",
      " [0.43313757 0.43303456 0.51136416 0.18118604 0.76269864 0.45084183\n",
      "  0.62171009 0.45382923 0.4109717  0.21757666 0.77270165 0.23898701\n",
      "  0.27771123 0.6754612  0.7106752  0.12104349 0.0744762  0.57458172\n",
      "  0.57937674 0.81099694 0.31254103 0.32553863 0.02665479 0.56660563\n",
      "  0.17578506 0.51485056 0.90645724 0.45404047 0.70192072 0.38592158\n",
      "  0.99408488 0.21971584 0.32795274 0.85336746 0.73103416 0.04338104\n",
      "  0.28999003 0.91123051 0.8991021  0.75628143 0.32873308 0.06720205\n",
      "  0.29823417 0.519913   0.68049622 0.05591342 0.24839229 0.93283656\n",
      "  0.43231637 0.46584817 0.21525009 0.         0.77018234 0.04175477\n",
      "  0.42971927 0.34594235 0.33373716 0.41667541 0.30398455 0.62408828\n",
      "  0.19692438 0.92246314 0.52512556 0.08670851 0.7366427  0.33691977\n",
      "  0.86248702 0.73410738 0.59828127 0.1943379  1.00600378 0.78203886\n",
      "  0.87564306 0.89011341 0.88613544 0.14562761 0.4829816  0.54708583\n",
      "  0.44804562 0.30190096 0.24143077 0.80049139 0.62505558 0.25303085\n",
      "  0.85823682 0.66963965 0.75893465 0.56350238 0.54369242 0.91071619\n",
      "  0.76478468 0.30319712 0.58099811 0.86176612 0.66250128 0.39308256\n",
      "  0.52597513 0.9281745  0.51608721 0.63658289]\n",
      " [0.92838194 0.73838524 0.44506032 0.61470453 0.12215678 0.66150941\n",
      "  0.63084441 0.43752366 0.93872428 0.63737162 0.25808629 0.7621045\n",
      "  0.50465087 0.17910711 0.06277846 0.67332547 0.69740877 0.50099126\n",
      "  0.48075564 0.08127558 0.72332913 0.73100323 0.74390616 0.63485945\n",
      "  0.77131896 0.36444853 0.38994717 0.52712619 0.26216599 0.3843601\n",
      "  0.47055125 0.86385034 0.46499121 0.29513266 0.06137385 0.76506326\n",
      "  0.51398265 0.51644922 0.23993752 0.08023186 0.46362295 0.83157963\n",
      "  0.56927798 0.60794351 0.18521186 0.82520709 0.52285648 0.49580676\n",
      "  0.56793527 0.34565906 0.55559805 0.77018234 0.         0.7508633\n",
      "  0.3535459  0.88273162 0.54527479 0.86455722 0.46703954 0.14611254\n",
      "  0.84423036 0.17712643 0.30199704 0.83200789 0.28472024 0.52281\n",
      "  0.19784784 0.21610209 0.4726066  0.85370625 0.48724369 0.11893738\n",
      "  0.28083354 0.12450567 0.32980793 0.8211092  0.33402797 0.22826161\n",
      "  0.7583743  0.4798935  0.87443775 0.40422564 0.57478579 0.53805149\n",
      "  0.36035831 0.38466963 0.1262771  0.47583784 0.51683389 0.43168033\n",
      "  0.12030634 0.51705712 0.31495014 0.34983075 0.48110471 0.86983553\n",
      "  0.5559335  0.38596775 0.25430287 0.26786396]\n",
      " [0.40007736 0.4611842  0.51638313 0.18471754 0.74957003 0.4730679\n",
      "  0.58044218 0.41876921 0.45084704 0.23303612 0.7420946  0.19971062\n",
      "  0.26974577 0.66456186 0.69245475 0.08595316 0.07377868 0.58442586\n",
      "  0.54103077 0.78838162 0.27132326 0.28447631 0.03270925 0.52517778\n",
      "  0.13823091 0.48226261 0.90473143 0.41485287 0.696522   0.36815089\n",
      "  0.99380588 0.19365043 0.29966855 0.82228066 0.714164   0.08066034\n",
      "  0.28820353 0.87408057 0.8892258  0.73320371 0.30058761 0.08152992\n",
      "  0.30813481 0.53758927 0.65340838 0.0796246  0.22814016 0.89653711\n",
      "  0.44675633 0.43750131 0.1958207  0.04175477 0.7508633  0.\n",
      "  0.41767898 0.31317242 0.29589564 0.4530895  0.28839331 0.60485785\n",
      "  0.23772478 0.90710411 0.51733966 0.12758489 0.70488488 0.3426864\n",
      "  0.85148471 0.70507416 0.5601481  0.16928458 0.97126058 0.7572309\n",
      "  0.86885297 0.87219568 0.85433614 0.18648676 0.45440508 0.53100623\n",
      "  0.47728454 0.29282573 0.28250325 0.80216208 0.63940258 0.2495028\n",
      "  0.85624554 0.67167965 0.73373926 0.57153963 0.5043911  0.91113519\n",
      "  0.73985303 0.26982356 0.54935171 0.82886236 0.62419882 0.4303646\n",
      "  0.53983487 0.9255389  0.49784353 0.60618101]\n",
      " [0.69129411 0.43025077 0.211565   0.26300176 0.3330006  0.36836247\n",
      "  0.56666997 0.29667925 0.60153983 0.28461421 0.44671109 0.48664761\n",
      "  0.15408659 0.24695198 0.29122012 0.35203183 0.3553077  0.30300787\n",
      "  0.4331593  0.4097232  0.48129201 0.49352576 0.40460998 0.53810333\n",
      "  0.47361504 0.28292233 0.50651121 0.38310859 0.28958222 0.07504918\n",
      "  0.59972902 0.56589034 0.19685487 0.52468731 0.30677142 0.41843976\n",
      "  0.16055326 0.67203793 0.47187627 0.36067673 0.19523349 0.49480728\n",
      "  0.22375173 0.35372607 0.3268559  0.48562373 0.19775697 0.67462412\n",
      "  0.27426349 0.19872243 0.22578667 0.42971927 0.3535459  0.41767898\n",
      "  0.         0.6241354  0.31754451 0.53716946 0.13163685 0.213158\n",
      "  0.49087117 0.49411533 0.10936304 0.48331373 0.4305884  0.18275392\n",
      "  0.43380721 0.39433651 0.44066508 0.54984998 0.71489448 0.39739611\n",
      "  0.45560686 0.46687559 0.56336014 0.46784679 0.20859347 0.12545287\n",
      "  0.45246117 0.12919425 0.5221107  0.42423617 0.38809902 0.18556546\n",
      "  0.4580745  0.3063906  0.37906057 0.27650014 0.43571178 0.52221222\n",
      "  0.38232332 0.25676075 0.30837495 0.55598425 0.49118667 0.53695757\n",
      "  0.31443212 0.52345195 0.11139243 0.33088974]\n",
      " [0.08720291 0.77362955 0.7821886  0.47255805 0.92157397 0.77973544\n",
      "  0.4468859  0.45348487 0.74766448 0.535659   0.77758398 0.13986875\n",
      "  0.51493019 0.85440746 0.83614134 0.31052892 0.37662978 0.86252755\n",
      "  0.49637154 0.8930439  0.1600244  0.15427038 0.34587764 0.39246956\n",
      "  0.17953227 0.53151134 1.13026389 0.38377994 0.91251048 0.55326684\n",
      "  1.22375646 0.13662539 0.43659817 0.84585718 0.8651849  0.38931452\n",
      "  0.55010822 0.81266526 1.07341498 0.83831181 0.43822162 0.31536823\n",
      "  0.59742855 0.83580819 0.73212122 0.33318394 0.43555787 0.84727513\n",
      "  0.74014195 0.53725637 0.41791154 0.34594235 0.88273162 0.31317242\n",
      "  0.6241354  0.         0.33765245 0.7617701  0.50031268 0.74933093\n",
      "  0.53314748 1.05712152 0.73349374 0.40672009 0.73134324 0.62023311\n",
      "  1.03080225 0.76022072 0.51609058 0.16089621 0.94003101 0.84630305\n",
      "  1.07060612 1.00661841 0.86751298 0.48361996 0.54874597 0.70278168\n",
      "  0.79017483 0.53013968 0.57403477 1.04546823 0.92846473 0.5117326\n",
      "  1.08197676 0.92069275 0.82142611 0.84467703 0.44715879 1.14618556\n",
      "  0.8292719  0.37671779 0.59690344 0.83086379 0.56688263 0.73723313\n",
      "  0.82964261 1.14620695 0.66049734 0.65867253]\n",
      " [0.38948012 0.61895634 0.51240505 0.304644   0.58667094 0.59050508\n",
      "  0.3115063  0.13177289 0.69684424 0.37640493 0.46789382 0.22144468\n",
      "  0.2694383  0.52542846 0.49862881 0.21305799 0.2906876  0.6024582\n",
      "  0.24575045 0.55912777 0.17934525 0.18852911 0.3104807  0.2643327\n",
      "  0.24715123 0.20661558 0.81063676 0.12360402 0.59320391 0.24249618\n",
      "  0.90490872 0.33244199 0.12169505 0.54439436 0.52798766 0.35693357\n",
      "  0.31403418 0.57827027 0.73947487 0.5037306  0.12324597 0.36951473\n",
      "  0.39183555 0.61552682 0.40248598 0.37333745 0.18549242 0.60151651\n",
      "  0.51883081 0.19965292 0.19570396 0.33373716 0.54527479 0.29589564\n",
      "  0.31754451 0.33765245 0.         0.66934268 0.22470801 0.41234387\n",
      "  0.50517988 0.71947618 0.42303591 0.41957369 0.4258202  0.38942183\n",
      "  0.69622868 0.44026355 0.26455026 0.32852196 0.6791942  0.51558687\n",
      "  0.74162762 0.66937032 0.57293913 0.45858454 0.2116119  0.37252602\n",
      "  0.64040765 0.27069483 0.54972881 0.73923643 0.68172004 0.28872957\n",
      "  0.76342711 0.62392831 0.49072929 0.57900149 0.21255745 0.83173367\n",
      "  0.49821158 0.06847066 0.27568426 0.54328885 0.32881572 0.65503012\n",
      "  0.5917628  0.82383703 0.32909958 0.33724252]\n",
      " [0.84891974 0.14077902 0.43486595 0.36514209 0.79728954 0.22250514\n",
      "  0.98082959 0.74599377 0.09080561 0.29586935 0.98216851 0.65198988\n",
      "  0.43501385 0.70381993 0.80301695 0.49215941 0.40593561 0.42607715\n",
      "  0.8937731  0.93330956 0.71596672 0.73007625 0.42110977 0.9321339\n",
      "  0.59128407 0.77469673 0.80778825 0.78949196 0.67190013 0.55471793\n",
      "  0.87126665 0.63057646 0.59209697 1.06122506 0.80707458 0.37362053\n",
      "  0.39884233 1.18953443 0.88279209 0.88984653 0.59167704 0.45089777\n",
      "  0.31793422 0.30816413 0.86378027 0.43207144 0.49484886 1.19858382\n",
      "  0.30232682 0.69609493 0.47594679 0.41667541 0.86455722 0.4530895\n",
      "  0.53716946 0.7617701  0.66934268 0.         0.49370377 0.7410638\n",
      "  0.23580257 0.95873573 0.56256462 0.36060166 0.96192563 0.35448322\n",
      "  0.8619631  0.93078719 0.90853217 0.60494943 1.24787178 0.92996695\n",
      "  0.83140434 0.95584962 1.0996186  0.28087715 0.71178373 0.652187\n",
      "  0.1297603  0.45051459 0.20538993 0.68272773 0.41388482 0.40218939\n",
      "  0.76847178 0.57348302 0.91348098 0.43729438 0.87323888 0.79012934\n",
      "  0.91596847 0.60962821 0.82251769 1.08972886 0.97038941 0.02977071\n",
      "  0.3534209  0.83599366 0.64807372 0.85856581]\n",
      " [0.57193206 0.415782   0.29195559 0.15664764 0.46129889 0.37507618\n",
      "  0.51680951 0.25846795 0.54224949 0.20483374 0.50566627 0.3611106\n",
      "  0.05870292 0.37789612 0.40694411 0.2204103  0.23055218 0.38010238\n",
      "  0.40727564 0.51222215 0.3665238  0.37983251 0.27805711 0.47769927\n",
      "  0.34347299 0.28099921 0.63472893 0.3220791  0.41944695 0.08318444\n",
      "  0.72709152 0.43511268 0.1109621  0.58704164 0.4270563  0.29822729\n",
      "  0.09921992 0.69649182 0.60297418 0.45886469 0.10991373 0.36727762\n",
      "  0.18355269 0.39204573 0.39765634 0.35951785 0.06670515 0.70730649\n",
      "  0.29659216 0.20421487 0.09428914 0.30398455 0.46703954 0.28839331\n",
      "  0.13163685 0.50031268 0.22470801 0.49370377 0.         0.32121441\n",
      "  0.39538298 0.61903254 0.23797538 0.36574706 0.47854382 0.16922562\n",
      "  0.56426069 0.45922939 0.42012734 0.41857037 0.7629761  0.48891496\n",
      "  0.58714076 0.58619989 0.623553   0.36366053 0.22068727 0.24319401\n",
      "  0.43815716 0.04849528 0.43265774 0.54532199 0.45765214 0.09268498\n",
      "  0.58609065 0.42063665 0.46729771 0.35791878 0.39481396 0.6477219\n",
      "  0.47224072 0.15651343 0.33147051 0.60763092 0.47990059 0.48641465\n",
      "  0.36706057 0.65277338 0.2127426  0.37394836]\n",
      " [0.80063411 0.62280261 0.34657873 0.47072876 0.1782426  0.55098532\n",
      "  0.55005038 0.31948818 0.81030869 0.4976339  0.27384931 0.62394626\n",
      "  0.36068661 0.14818954 0.08892018 0.52791075 0.55141546 0.41999656\n",
      "  0.39783716 0.19657552 0.59168239 0.60053667 0.59780004 0.54258337\n",
      "  0.62931419 0.25664369 0.43534239 0.41451256 0.24285009 0.23835652\n",
      "  0.52688727 0.72235206 0.32255696 0.34105786 0.11595459 0.61939847\n",
      "  0.37323762 0.5294359  0.33125319 0.14903922 0.32111612 0.68550192\n",
      "  0.43483696 0.51117597 0.15437597 0.67909485 0.37679264 0.52059113\n",
      "  0.4549279  0.21512918 0.40949872 0.62408828 0.14611254 0.60485785\n",
      "  0.213158   0.74933093 0.41234387 0.7410638  0.32121441 0.\n",
      "  0.70320969 0.30996686 0.18879001 0.68661678 0.2762499  0.39066249\n",
      "  0.28709721 0.21916844 0.39519365 0.71118696 0.53962786 0.18922266\n",
      "  0.34543746 0.26801503 0.38020914 0.67805836 0.20718875 0.08940031\n",
      "  0.64398616 0.33615731 0.73514696 0.40551676 0.50256103 0.39485027\n",
      "  0.39405699 0.33939557 0.17460495 0.39240611 0.42405602 0.46793009\n",
      "  0.17608471 0.37726963 0.2287753  0.38393402 0.42180708 0.74355335\n",
      "  0.46187552 0.44106994 0.10857541 0.20728534]\n",
      " [0.61974134 0.29752537 0.48757873 0.23878995 0.80841841 0.34631365\n",
      "  0.80770635 0.60931338 0.21525923 0.20736912 0.89949575 0.43556944\n",
      "  0.34533297 0.71452341 0.78169226 0.2994703  0.215069   0.52233668\n",
      "  0.74772828 0.89919783 0.50901668 0.52220107 0.20956313 0.75430003\n",
      "  0.37149664 0.65743017 0.89419151 0.62872526 0.71438754 0.4752166\n",
      "  0.9726926  0.39904116 0.46319508 0.98105109 0.79512531 0.15821305\n",
      "  0.33031922 1.06948486 0.92534991 0.84812085 0.46339686 0.21836655\n",
      "  0.28489074 0.43282768 0.79302549 0.20010938 0.36556849 1.0862402\n",
      "  0.37090847 0.59224173 0.33628531 0.19692438 0.84423036 0.23772478\n",
      "  0.49087117 0.53314748 0.50517988 0.23580257 0.39538298 0.70320969\n",
      "  0.         0.97383862 0.55918932 0.1268669  0.86967518 0.33380139\n",
      "  0.8950567  0.85425896 0.76524834 0.37363974 1.15040274 0.8812258\n",
      "  0.88809617 0.95430695 1.01683895 0.05129683 0.60949899 0.616324\n",
      "  0.30512367 0.36883673 0.04534076 0.77567235 0.5474487  0.30981058\n",
      "  0.84868892 0.64889597 0.86052723 0.52085517 0.71763924 0.88821479\n",
      "  0.86499518 0.45891971 0.71727878 0.99833232 0.82954382 0.20850777\n",
      "  0.45769619 0.9195841  0.59669403 0.76558727]\n",
      " [1.10459771 0.82336111 0.52410707 0.75622133 0.1655817  0.74199397\n",
      "  0.80147597 0.61446699 1.0401358  0.76715729 0.40042884 0.93365163\n",
      "  0.64817183 0.260217   0.22154886 0.8336989  0.84836241 0.55368512\n",
      "  0.65358272 0.20290884 0.8982761  0.9063505  0.89682573 0.80874525\n",
      "  0.93898043 0.5415609  0.30392651 0.70422818 0.29210954 0.53930114\n",
      "  0.35962561 1.03213338 0.63235169 0.40909399 0.19486638 0.91254276\n",
      "  0.64906996 0.63700963 0.12630327 0.24197168 0.63089231 0.98630585\n",
      "  0.69033707 0.67244449 0.35634176 0.97821839 0.67976681 0.60762056\n",
      "  0.65642214 0.52000048 0.71144849 0.92246314 0.17712643 0.90710411\n",
      "  0.49411533 1.05712152 0.71947618 0.95873573 0.61903254 0.30996686\n",
      "  0.97383862 0.         0.41474522 0.9772292  0.43732787 0.64166843\n",
      "  0.11324485 0.37156092 0.64406243 1.02056931 0.5723976  0.26118679\n",
      "  0.19490432 0.06877585 0.43426466 0.95689247 0.50927599 0.37610773\n",
      "  0.84090184 0.62330091 0.99925993 0.37193353 0.61046763 0.67860114\n",
      "  0.29566406 0.4111865  0.27972858 0.53390309 0.69157983 0.35083986\n",
      "  0.27165859 0.68716082 0.49065705 0.46655425 0.64627293 0.96868848\n",
      "  0.62028102 0.28775931 0.41120313 0.44027069]\n",
      " [0.80039411 0.43812471 0.1589732  0.34924658 0.24924251 0.36380634\n",
      "  0.65074054 0.38479246 0.63737094 0.35299077 0.45800665 0.59586719\n",
      "  0.2478752  0.15558103 0.24060008 0.45685304 0.45089142 0.23934077\n",
      "  0.50823174 0.37223428 0.58999604 0.60203699 0.50118884 0.62789565\n",
      "  0.5813723  0.353996   0.39741935 0.47685025 0.18149006 0.18234771\n",
      "  0.49045568 0.67307298 0.3040835  0.52871158 0.24524157 0.50878766\n",
      "  0.23915035 0.70477614 0.37473308 0.33269339 0.30244103 0.59158815\n",
      "  0.27575966 0.32272559 0.33551184 0.58081795 0.30467191 0.70054245\n",
      "  0.26841193 0.27642313 0.33069651 0.52512556 0.30199704 0.51733966\n",
      "  0.10936304 0.73349374 0.42303591 0.56256462 0.23797538 0.18879001\n",
      "  0.55918932 0.41474522 0.         0.57013894 0.4531391  0.22730123\n",
      "  0.34003906 0.40319249 0.51239368 0.65627306 0.72634572 0.37568147\n",
      "  0.35155817 0.39946792 0.56795346 0.54376079 0.28104049 0.11135037\n",
      "  0.45870688 0.22451518 0.58468261 0.3163447  0.324877   0.27296006\n",
      "  0.3489061  0.20446847 0.36283367 0.21124947 0.51862769 0.41288806\n",
      "  0.36373079 0.36461301 0.36080867 0.56899977 0.5553178  0.56803859\n",
      "  0.27424143 0.41490168 0.13636528 0.36549687]\n",
      " [0.49311385 0.40254578 0.5329172  0.2214082  0.81452752 0.43556911\n",
      "  0.70802117 0.53730342 0.34095853 0.2308383  0.85056955 0.31564641\n",
      "  0.32926303 0.7241451  0.77109408 0.20651697 0.14082286 0.58510658\n",
      "  0.66532055 0.87769071 0.39387136 0.40624587 0.10912821 0.65268549\n",
      "  0.25047475 0.59567993 0.93689598 0.54047758 0.74069686 0.44892593\n",
      "  1.02125551 0.27219829 0.40518645 0.93169457 0.78919549 0.06879009\n",
      "  0.3309886  0.99613789 0.94456212 0.82386831 0.40580467 0.09153991\n",
      "  0.31700462 0.51405431 0.75402967 0.0735551  0.31787591 1.0169593\n",
      "  0.4359465  0.54200801 0.28494073 0.08670851 0.83200789 0.12758489\n",
      "  0.48331373 0.40672009 0.41957369 0.36060166 0.36574706 0.68661678\n",
      "  0.1268669  0.9772292  0.57013894 0.         0.81599202 0.36202429\n",
      "  0.91010828 0.81005184 0.68407859 0.24683497 1.08848811 0.85204778\n",
      "  0.91570177 0.94920342 0.96530004 0.0799065  0.55931876 0.60541585\n",
      "  0.41410473 0.35418585 0.16742834 0.82507676 0.62503415 0.29886204\n",
      "  0.88948125 0.69473116 0.82957472 0.57799036 0.63015323 0.93698874\n",
      "  0.8350291  0.38574417 0.66057741 0.94228903 0.74838379 0.33422972\n",
      "  0.52867318 0.960221   0.57804156 0.71452276]\n",
      " [0.75420348 0.86074073 0.61140871 0.63237192 0.39844617 0.79782953\n",
      "  0.37907429 0.29404821 1.01818534 0.68279407 0.04775071 0.64069522\n",
      "  0.53472476 0.41387639 0.29194094 0.61898233 0.67563864 0.69138673\n",
      "  0.24851285 0.23443412 0.57629918 0.57887565 0.71060559 0.39968348\n",
      "  0.67282739 0.22304669 0.67208593 0.34758969 0.51022291 0.40803141\n",
      "  0.75492059 0.75537422 0.41111244 0.11860412 0.32077568 0.74778124\n",
      "  0.56515207 0.25330937 0.52345656 0.20483717 0.410585   0.78432056\n",
      "  0.64401512 0.77211424 0.12210604 0.78450894 0.50484836 0.2474908\n",
      "  0.70242231 0.27744623 0.53576599 0.7366427  0.28472024 0.70488488\n",
      "  0.4305884  0.73134324 0.4258202  0.96192563 0.47854382 0.2762499\n",
      "  0.86967518 0.43732787 0.4531391  0.81599202 0.         0.60955689\n",
      "  0.48228211 0.06862335 0.23275185 0.75342975 0.28597707 0.17633742\n",
      "  0.56505435 0.36940458 0.14949879 0.83263656 0.26017631 0.34187521\n",
      "  0.88299945 0.5153628  0.90910596 0.66885241 0.77567864 0.57037636\n",
      "  0.638837   0.61500742 0.16045055 0.6634052  0.29605354 0.71188046\n",
      "  0.16780659 0.43534047 0.15564616 0.12908733 0.21585687 0.95842828\n",
      "  0.72590904 0.66982513 0.32691763 0.10459599]\n",
      " [0.70010166 0.25456846 0.17444785 0.1579691  0.47608697 0.20636744\n",
      "  0.68602457 0.42501948 0.41986174 0.13263466 0.62818364 0.48192859\n",
      "  0.12022154 0.38164322 0.46012595 0.31124844 0.26913956 0.24397745\n",
      "  0.57292996 0.58601802 0.50850054 0.52276441 0.31790588 0.64660344\n",
      "  0.4456013  0.43671974 0.57489202 0.49127764 0.38262819 0.20744902\n",
      "  0.65997064 0.52680345 0.28015505 0.7068789  0.4694039  0.30972095\n",
      "  0.07618598 0.84417247 0.59202459 0.539634   0.27912645 0.40352111\n",
      "  0.04891889 0.22732042 0.50931255 0.38907178 0.20706961 0.85006407\n",
      "  0.12970235 0.35359664 0.21054088 0.33691977 0.52281    0.3426864\n",
      "  0.18275392 0.62023311 0.38942183 0.35448322 0.16922562 0.39066249\n",
      "  0.33380139 0.64166843 0.22730123 0.36202429 0.60955689 0.\n",
      "  0.56126814 0.5764458  0.58454237 0.50509637 0.89509395 0.57815434\n",
      "  0.55741758 0.62614049 0.74537506 0.32333202 0.36773878 0.30126237\n",
      "  0.27711759 0.12081408 0.35760335 0.46474003 0.30872471 0.11005544\n",
      "  0.52746143 0.33392353 0.5606877  0.22925075 0.56311195 0.57597045\n",
      "  0.56358139 0.32108315 0.47639373 0.73650054 0.64207676 0.35435749\n",
      "  0.2111311  0.59822691 0.29392053 0.50736817]\n",
      " [1.08560333 0.72428072 0.42780876 0.68898134 0.1095937  0.64219983\n",
      "  0.82208094 0.6062815  0.94576906 0.69110285 0.45331607 0.90077291\n",
      "  0.58489108 0.18705049 0.21134791 0.78390581 0.78801614 0.44818975\n",
      "  0.67025397 0.25852199 0.87522877 0.88475323 0.8378016  0.82145789\n",
      "  0.89847003 0.54029337 0.20394185 0.70067257 0.19008919 0.49016867\n",
      "  0.27569758 0.99182892 0.59626586 0.47938366 0.17844463 0.84811863\n",
      "  0.57914437 0.706176   0.04446758 0.27744584 0.59469428 0.92817206\n",
      "  0.61016937 0.56846174 0.38032172 0.9183764  0.62863529 0.68150972\n",
      "  0.5608566  0.50172369 0.65846311 0.86248702 0.19784784 0.85148471\n",
      "  0.43380721 1.03080225 0.69622868 0.8619631  0.56426069 0.28709721\n",
      "  0.8950567  0.11324485 0.34003906 0.91010828 0.48228211 0.56126814\n",
      "  0.         0.4137209  0.66391351 0.97793105 0.65846987 0.31092459\n",
      "  0.09056921 0.15538341 0.50979232 0.88253483 0.49426815 0.329859\n",
      "  0.74080106 0.56058803 0.91722442 0.25918855 0.50060098 0.61215034\n",
      "  0.18727982 0.30246977 0.32252993 0.43025608 0.70250456 0.24958227\n",
      "  0.315789   0.65473734 0.50079403 0.53631598 0.67686451 0.87374255\n",
      "  0.51695475 0.19406036 0.37085193 0.46039496]\n",
      " [0.78972252 0.82331381 0.56216565 0.61551994 0.33043621 0.75685825\n",
      "  0.43567926 0.3106521  0.99147857 0.6602966  0.05487145 0.66014761\n",
      "  0.51267718 0.35028204 0.22520652 0.61994054 0.66923718 0.63862364\n",
      "  0.29574215 0.16900362 0.60211829 0.60621695 0.70764656 0.45071403\n",
      "  0.68641921 0.23369788 0.6037838  0.37863804 0.44616596 0.38288238\n",
      "  0.68632784 0.77266434 0.40615662 0.13043859 0.25318086 0.74132242\n",
      "  0.53898749 0.31361633 0.45504258 0.13630335 0.40537531 0.78586359\n",
      "  0.61419563 0.72520144 0.06835736 0.7843862  0.49373999 0.30191686\n",
      "  0.66075048 0.26832097 0.52598512 0.73410738 0.21610209 0.70507416\n",
      "  0.39433651 0.76022072 0.44026355 0.93078719 0.45922939 0.21916844\n",
      "  0.85425896 0.37156092 0.40319249 0.81005184 0.06862335 0.5764458\n",
      "  0.4137209  0.         0.2826019  0.76849171 0.3237823  0.11062692\n",
      "  0.49646858 0.30435391 0.16902599 0.8201609  0.25113572 0.29343841\n",
      "  0.84527596 0.49149457 0.89188462 0.60317257 0.72164841 0.54871032\n",
      "  0.57103126 0.55452385 0.09262529 0.61087518 0.34017531 0.64387603\n",
      "  0.10032234 0.43910086 0.165036   0.16581007 0.2759533  0.92922453\n",
      "  0.6773975  0.60129114 0.28550812 0.10306915]\n",
      " [0.52886664 0.83571326 0.6511649  0.54719033 0.56290609 0.79020056\n",
      "  0.15833064 0.16263375 0.94668497 0.61300772 0.28042087 0.44737389\n",
      "  0.47783868 0.54223904 0.45366618 0.47756817 0.55283617 0.74158999\n",
      "  0.02033964 0.44661407 0.37108603 0.37030598 0.57496087 0.16814836\n",
      "  0.49261438 0.15900934 0.82999155 0.14863787 0.63357367 0.38314037\n",
      "  0.92046388 0.56314092 0.31645199 0.33697612 0.48655684 0.62076728\n",
      "  0.51924582 0.31590353 0.70793513 0.40211952 0.3168984  0.63180441\n",
      "  0.60366244 0.79102029 0.28808387 0.63675425 0.41437444 0.34288983\n",
      "  0.70339437 0.24197532 0.43678923 0.59828127 0.4726066  0.5601481\n",
      "  0.44066508 0.51609058 0.26455026 0.90853217 0.42012734 0.39519365\n",
      "  0.76524834 0.64406243 0.51239368 0.68407859 0.23275185 0.58454237\n",
      "  0.66391351 0.2826019  0.         0.56649976 0.42876571 0.38969548\n",
      "  0.73483809 0.57984681 0.35424876 0.72033424 0.23345355 0.41421101\n",
      "  0.85814068 0.46744505 0.80899835 0.79596113 0.82747735 0.5079307\n",
      "  0.78924042 0.7097049  0.36762507 0.71427575 0.06893347 0.86312311\n",
      "  0.37601409 0.30674253 0.16649347 0.31579305 0.06443484 0.89802562\n",
      "  0.75450019 0.83428442 0.37797218 0.2047428 ]\n",
      " [0.24650685 0.62732076 0.67615493 0.34860458 0.87154585 0.64219027\n",
      "  0.539331   0.45986036 0.58745076 0.40197404 0.79618774 0.12003643\n",
      "  0.41630694 0.79368636 0.80009673 0.20064826 0.24107265 0.74875312\n",
      "  0.54617763 0.87844329 0.20411826 0.21071759 0.20050487 0.48195969\n",
      "  0.0829359  0.5350367  1.05150995 0.4192857  0.83773672 0.48785968\n",
      "  1.14279059 0.0256575  0.3888439  0.8717927  0.82570713 0.23710147\n",
      "  0.44324451 0.87975346 1.01820278 0.82255121 0.39024539 0.15529508\n",
      "  0.4742166  0.7065069  0.72769985 0.17359321 0.35210734 0.909078\n",
      "  0.61464652 0.51515182 0.32575011 0.1943379  0.85370625 0.16928458\n",
      "  0.54984998 0.16089621 0.32852196 0.60494943 0.41857037 0.71118696\n",
      "  0.37363974 1.02056931 0.65627306 0.24683497 0.75342975 0.50509637\n",
      "  0.97793105 0.76849171 0.56649976 0.         0.99447584 0.83898364\n",
      "  1.00541008 0.97789809 0.89901852 0.32495019 0.52998699 0.6491015\n",
      "  0.6423761  0.43629492 0.41375835 0.95538324 0.80683342 0.40366513\n",
      "  1.00281947 0.82628722 0.81435598 0.7342287  0.50083312 1.06172927\n",
      "  0.82145941 0.33818313 0.60417421 0.86727819 0.62596227 0.57958252\n",
      "  0.7071922  1.07045501 0.61055152 0.66557505]\n",
      " [0.94161184 1.14505861 0.88522447 0.91497546 0.60887802 1.08007143\n",
      "  0.51075435 0.55249166 1.3038212  0.96767361 0.26948858 0.87585339\n",
      "  0.8198118  0.65513078 0.52306229 0.88572082 0.94989698 0.95935322\n",
      "  0.44909005 0.40868279 0.79962009 0.79830951 0.98076767 0.55629385\n",
      "  0.91874089 0.4939755  0.86226706 0.57521031 0.74639412 0.69392512\n",
      "  0.92965765 0.99175402 0.68790633 0.19915131 0.5424579  1.02140913\n",
      "  0.85099    0.14367224 0.68998184 0.41729151 0.68759352 1.04780602\n",
      "  0.92997836 1.04876752 0.39208335 1.0502667  0.78484395 0.10014416\n",
      "  0.98410422 0.55973505 0.81447313 1.00600378 0.48724369 0.97126058\n",
      "  0.71489448 0.94003101 0.6791942  1.24787178 0.7629761  0.53962786\n",
      "  1.15040274 0.5723976  0.72634572 1.08848811 0.28597707 0.89509395\n",
      "  0.65846987 0.3237823  0.42876571 0.99447584 0.         0.37211167\n",
      "  0.74893081 0.50873247 0.16062836 1.11128218 0.54280337 0.61715561\n",
      "  1.16719238 0.80091671 1.19091482 0.89110876 1.0408343  0.85525527\n",
      "  0.8401431  0.86394268 0.37518445 0.93189565 0.49639816 0.90728348\n",
      "  0.37744295 0.70295069 0.43332348 0.15897161 0.37340084 1.24438364\n",
      "  1.00056118 0.85185336 0.60820405 0.38994039]\n",
      " [0.88223992 0.81186251 0.53038029 0.64427868 0.24067834 0.73925844\n",
      "  0.54482716 0.39282225 0.99800909 0.67882697 0.1427333  0.7369844\n",
      "  0.53591953 0.28372073 0.15161204 0.67460734 0.712715   0.59652903\n",
      "  0.40139431 0.05838975 0.68653798 0.6921427  0.75538648 0.55713578\n",
      "  0.75608971 0.31487942 0.50784886 0.47163706 0.37428946 0.40678538\n",
      "  0.58616242 0.84577415 0.45914187 0.17687048 0.17053752 0.78351582\n",
      "  0.55438028 0.3977936  0.3503711  0.04567728 0.4580548  0.83875795\n",
      "  0.62099261 0.69538161 0.11420796 0.83500325 0.53470481 0.3768936\n",
      "  0.64343926 0.3246198  0.56788129 0.78203886 0.11893738 0.7572309\n",
      "  0.39739611 0.84630305 0.51558687 0.92996695 0.48891496 0.18922266\n",
      "  0.8812258  0.26118679 0.37568147 0.85204778 0.17633742 0.57815434\n",
      "  0.31092459 0.11062692 0.38969548 0.83898364 0.37211167 0.\n",
      "  0.39728934 0.19374222 0.21271988 0.85218316 0.30920632 0.27778042\n",
      "  0.83294909 0.5124476  0.91550161 0.52193131 0.67498096 0.57143474\n",
      "  0.4791943  0.49264838 0.02490242 0.56992357 0.44345594 0.5501672\n",
      "  0.01754601 0.50201323 0.2520592  0.23095918 0.38639465 0.93194358\n",
      "  0.64477369 0.50260059 0.2867432  0.19320533]\n",
      " [1.13028958 0.69133546 0.40549142 0.69726433 0.17207981 0.60908216\n",
      "  0.89204859 0.66288042 0.91819182 0.68981336 0.53865906 0.93672092\n",
      "  0.59921272 0.2164609  0.28218647 0.80731642 0.80170043 0.40755754\n",
      "  0.73957932 0.3468949  0.91867022 0.9291292  0.85214136 0.88741329\n",
      "  0.92841474 0.6020791  0.11337931 0.75869814 0.17507461 0.520063\n",
      "  0.18987354 1.02111163 0.63401271 0.56831847 0.24980275 0.85708427\n",
      "  0.58677583 0.79422133 0.07013059 0.36106463 0.63238763 0.94241244\n",
      "  0.60552688 0.52862256 0.45743783 0.93108927 0.65335729 0.77051901\n",
      "  0.53613909 0.55417659 0.68097325 0.87564306 0.28083354 0.86885297\n",
      "  0.45560686 1.07060612 0.74162762 0.83140434 0.58714076 0.34543746\n",
      "  0.88809617 0.19490432 0.35155817 0.91570177 0.56505435 0.55741758\n",
      "  0.09056921 0.49646858 0.73483809 1.00541008 0.74893081 0.39728934\n",
      "  0.         0.2449776  0.59941319 0.8807086  0.54897463 0.36919169\n",
      "  0.70594185 0.57605067 0.90620443 0.18395843 0.44745388 0.62268142\n",
      "  0.1010568  0.25867924 0.40700404 0.39417503 0.76858301 0.15912684\n",
      "  0.40073896 0.69415945 0.5692965  0.62495387 0.75249854 0.84586832\n",
      "  0.47939071 0.105312   0.4125281  0.53425229]\n",
      " [1.05093833 0.82387055 0.52466116 0.72980465 0.16067002 0.74392833\n",
      "  0.73657776 0.55911723 1.03428606 0.74693981 0.33186993 0.88658834\n",
      "  0.62027498 0.25211875 0.17975228 0.79589822 0.81671797 0.56497072\n",
      "  0.59010421 0.13535366 0.84701646 0.85444856 0.86404054 0.74569622\n",
      "  0.89560321 0.48437577 0.35767151 0.64654579 0.30547109 0.50439394\n",
      "  0.42096335 0.98822766 0.58908228 0.34099842 0.16012167 0.88309122\n",
      "  0.62564451 0.56911769 0.18186209 0.17843878 0.58769616 0.95247488\n",
      "  0.67405496 0.68033369 0.29348279 0.94547859 0.64406106 0.54047272\n",
      "  0.65442905 0.46986378 0.67649065 0.89011341 0.12450567 0.87219568\n",
      "  0.46687559 1.00661841 0.66937032 0.95584962 0.58619989 0.26801503\n",
      "  0.95430695 0.06877585 0.39946792 0.94920342 0.36940458 0.62614049\n",
      "  0.15538341 0.30435391 0.57984681 0.97789809 0.50873247 0.19374222\n",
      "  0.2449776  0.         0.3671129  0.93408401 0.45789078 0.34384758\n",
      "  0.84252184 0.59535895 0.98221529 0.41020934 0.62877511 0.65243938\n",
      "  0.3425922  0.42981309 0.21335893 0.54287266 0.62945038 0.40396406\n",
      "  0.2051349  0.64152462 0.43017635 0.39850637 0.57982311 0.96377506\n",
      "  0.62777471 0.34470229 0.37438236 0.37737207]\n",
      " [0.88311524 0.99215199 0.72653282 0.77875189 0.45193916 0.92499696\n",
      "  0.47731944 0.4414428  1.15942213 0.82649332 0.11812427 0.78439086\n",
      "  0.67845661 0.49480482 0.36287403 0.76841859 0.8248339  0.79937293\n",
      "  0.37301476 0.25382902 0.71613777 0.71749024 0.86008493 0.51027834\n",
      "  0.81928299 0.37226775 0.71213795 0.48624498 0.58674822 0.54962466\n",
      "  0.78439569 0.89983621 0.56024113 0.03925705 0.38324875 0.89700576\n",
      "  0.70641776 0.20432989 0.54450936 0.25742888 0.55967874 0.93364662\n",
      "  0.78267578 0.89066757 0.23690976 0.93395796 0.65293804 0.17337884\n",
      "  0.82878514 0.42530919 0.68423104 0.88613544 0.32980793 0.85433614\n",
      "  0.56336014 0.86751298 0.57293913 1.0996186  0.623553   0.38020914\n",
      "  1.01683895 0.43426466 0.56795346 0.96530004 0.14949879 0.74537506\n",
      "  0.50979232 0.16902599 0.35424876 0.89901852 0.16062836 0.21271988\n",
      "  0.59941319 0.3671129  0.         0.98071481 0.4079502  0.46002749\n",
      "  1.01406566 0.6580078  1.05559815 0.73398809 0.88048041 0.71438056\n",
      "  0.68709108 0.70350248 0.21466277 0.7720228  0.42246639 0.75612152\n",
      "  0.21715141 0.58470065 0.30514363 0.04369621 0.31624692 1.09774459\n",
      "  0.84188662 0.70384575 0.45431308 0.25161736]\n",
      " [0.57044444 0.32691788 0.48633454 0.20802361 0.79212797 0.36635347\n",
      "  0.75874701 0.56637334 0.26607694 0.19154217 0.86399219 0.3843245\n",
      "  0.31756789 0.69930388 0.75898822 0.25035701 0.16790181 0.5294976\n",
      "  0.70247928 0.87287006 0.45780384 0.47095465 0.15872977 0.70494262\n",
      "  0.32036637 0.61746401 0.89330207 0.58188527 0.70595998 0.44540241\n",
      "  0.97455574 0.3504893  0.42337637 0.94555621 0.7741941  0.10739387\n",
      "  0.30848821 1.02701452 0.9145796  0.82070488 0.42369742 0.17017496\n",
      "  0.27524229 0.44893411 0.76046798 0.15148926 0.32781597 1.04491853\n",
      "  0.3781587  0.55542775 0.29708157 0.14562761 0.8211092  0.18648676\n",
      "  0.46784679 0.48361996 0.45858454 0.28087715 0.36366053 0.67805836\n",
      "  0.05129683 0.95689247 0.54376079 0.0799065  0.83263656 0.32333202\n",
      "  0.88253483 0.8201609  0.72033424 0.32495019 1.11128218 0.85218316\n",
      "  0.8807086  0.93408401 0.98071481 0.         0.57277663 0.5928561\n",
      "  0.33720334 0.34193301 0.096085   0.77749458 0.56214638 0.28323766\n",
      "  0.84685802 0.64870081 0.83082954 0.52530017 0.67113691 0.89001456\n",
      "  0.83564471 0.41503558 0.67896691 0.9607917  0.78473262 0.25484061\n",
      "  0.46858878 0.91783988 0.57033262 0.72911543]\n",
      " [0.59561394 0.62230136 0.41793634 0.37249291 0.3851734  0.56880605\n",
      "  0.37034477 0.11419731 0.76283199 0.42550654 0.29170003 0.43097234\n",
      "  0.27841989 0.33815701 0.28994257 0.36974632 0.41850794 0.50816392\n",
      "  0.22778095 0.34918579 0.38930919 0.3971264  0.45651232 0.35135286\n",
      "  0.44705956 0.07461659 0.63044466 0.21039726 0.42038606 0.16030496\n",
      "  0.72400657 0.53740496 0.1550494  0.37314109 0.32062331 0.49067597\n",
      "  0.3129741  0.47802106 0.5383672  0.29343605 0.1542504  0.53547497\n",
      "  0.3955271  0.56164054 0.20012996 0.53353789 0.24498796 0.48711798\n",
      "  0.47800869 0.01737535 0.27642901 0.4829816  0.33402797 0.45440508\n",
      "  0.20859347 0.54874597 0.2116119  0.71178373 0.22068727 0.20718875\n",
      "  0.60949899 0.50927599 0.28104049 0.55931876 0.26017631 0.36773878\n",
      "  0.49426815 0.25113572 0.23345355 0.52998699 0.54280337 0.30920632\n",
      "  0.54897463 0.45789078 0.4079502  0.57277663 0.         0.19249729\n",
      "  0.64485295 0.26133414 0.64905266 0.57895558 0.59410578 0.31331595\n",
      "  0.58580654 0.48235214 0.28472075 0.48082455 0.23838076 0.65793861\n",
      "  0.29166405 0.19289538 0.11093254 0.38892723 0.28259416 0.70589563\n",
      "  0.52302502 0.63962167 0.15133646 0.15633931]\n",
      " [0.76113674 0.53577866 0.26964868 0.38679098 0.22246646 0.4658049\n",
      "  0.56027397 0.30499316 0.72094162 0.40991878 0.34806321 0.57120864\n",
      "  0.27687981 0.15290394 0.16623351 0.45831205 0.47332879 0.35042347\n",
      "  0.4124441  0.28541766 0.54959054 0.55995723 0.52123497 0.54368746\n",
      "  0.56900739 0.2596605  0.44157995 0.4008367  0.22830787 0.16338024\n",
      "  0.53571819 0.66241504 0.26681052 0.42078584 0.18408948 0.53925325\n",
      "  0.28600548 0.59344532 0.37147526 0.23840077 0.26521977 0.61040334\n",
      "  0.34557271 0.43181752 0.22532321 0.60268999 0.30380812 0.58933156\n",
      "  0.36953243 0.19314867 0.33534874 0.54708583 0.22826161 0.53100623\n",
      "  0.12545287 0.70278168 0.37252602 0.652187   0.24319401 0.08940031\n",
      "  0.616324   0.37610773 0.11135037 0.60541585 0.34187521 0.30126237\n",
      "  0.329859   0.29343841 0.41421101 0.6491015  0.61715561 0.27778042\n",
      "  0.36919169 0.34384758 0.46002749 0.5928561  0.19249729 0.\n",
      "  0.55722562 0.2520266  0.64734398 0.38656169 0.43560045 0.30989044\n",
      "  0.39573706 0.29580768 0.26173129 0.32235098 0.42914672 0.46688979\n",
      "  0.26391366 0.32607875 0.25552008 0.45912772 0.45219813 0.65434562\n",
      "  0.38450806 0.45291298 0.04374611 0.25504649]\n",
      " [0.87675022 0.02255715 0.31792042 0.34254184 0.68244909 0.09891024\n",
      "  0.94852211 0.69660071 0.22040795 0.26953452 0.89843111 0.66670799\n",
      "  0.38128242 0.59081105 0.69832788 0.49449344 0.41565287 0.29886466\n",
      "  0.84543257 0.83079318 0.71867804 0.7332311  0.44466408 0.90433388\n",
      "  0.61220567 0.71332722 0.67883002 0.75356836 0.55095339 0.48456649\n",
      "  0.7415333  0.66775696 0.54572451 0.97507343 0.69912651 0.40540837\n",
      "  0.3389492  1.12087218 0.75949033 0.79086673 0.54497567 0.49667843\n",
      "  0.25466781 0.17928025 0.77716613 0.47772278 0.45627083 1.12579049\n",
      "  0.1905246  0.63062139 0.44528147 0.44804562 0.7583743  0.47728454\n",
      "  0.45246117 0.79017483 0.64040765 0.1297603  0.43815716 0.64398616\n",
      "  0.30512367 0.84090184 0.45870688 0.41410473 0.88299945 0.27711759\n",
      "  0.74080106 0.84527596 0.85814068 0.6423761  1.16719238 0.83294909\n",
      "  0.70594185 0.84252184 1.01406566 0.33720334 0.64485295 0.55722562\n",
      "  0.         0.39070991 0.2906068  0.55366594 0.28425964 0.35446491\n",
      "  0.64020251 0.44734699 0.81840989 0.31216971 0.83145198 0.66054385\n",
      "  0.82006969 0.57517678 0.75331898 1.00823231 0.91712581 0.15123226\n",
      "  0.22658445 0.70717929 0.55977724 0.78229481]\n",
      " [0.60493328 0.36827131 0.25388882 0.1348126  0.46166001 0.32658282\n",
      "  0.5652748  0.30630882 0.50290472 0.16882805 0.53988459 0.39027807\n",
      "  0.02492935 0.37357319 0.4182104  0.23565958 0.22743492 0.33937719\n",
      "  0.45494878 0.53110612 0.40364397 0.41738555 0.27736557 0.52587051\n",
      "  0.36567116 0.32521031 0.61564269 0.37046593 0.40432692 0.10861786\n",
      "  0.70654913 0.45476041 0.15934704 0.62075278 0.43525779 0.28929686\n",
      "  0.05228203 0.73903852 0.59735172 0.47945405 0.15832816 0.36779916\n",
      "  0.13658779 0.34493778 0.42764733 0.35778843 0.09651116 0.74837988\n",
      "  0.24882784 0.2455804  0.11289379 0.30190096 0.4798935  0.29282573\n",
      "  0.12919425 0.53013968 0.27069483 0.45051459 0.04849528 0.33615731\n",
      "  0.36883673 0.62330091 0.22451518 0.35418585 0.5153628  0.12081408\n",
      "  0.56058803 0.49149457 0.46744505 0.43629492 0.80091671 0.5124476\n",
      "  0.57605067 0.59535895 0.6580078  0.34193301 0.26133414 0.2520266\n",
      "  0.39070991 0.         0.40336899 0.51994481 0.41447265 0.05904613\n",
      "  0.56697093 0.39227903 0.49197098 0.31861614 0.44318607 0.62546785\n",
      "  0.49630319 0.20223133 0.37218216 0.64422721 0.52659474 0.44467536\n",
      "  0.32187121 0.63526479 0.22846288 0.4110087 ]\n",
      " [0.66023387 0.28621384 0.50248081 0.27685302 0.8336787  0.34385908\n",
      "  0.85291312 0.6522196  0.1736926  0.23751425 0.93795939 0.47956327\n",
      "  0.38057861 0.7392373  0.81172735 0.3447566  0.26004414 0.52980569\n",
      "  0.7916344  0.93158114 0.55382463 0.56692385 0.25472708 0.79958288\n",
      "  0.41515549 0.69874998 0.90692517 0.67331582 0.73384078 0.51095974\n",
      "  0.98289935 0.43893452 0.50472719 1.01944245 0.82385386 0.20337047\n",
      "  0.36199704 1.111919   0.94607718 0.88133505 0.50486696 0.2586711\n",
      "  0.30893888 0.43297183 0.82974322 0.24096965 0.40631588 1.12804263\n",
      "  0.37993102 0.63187836 0.37787348 0.24143077 0.87443775 0.28250325\n",
      "  0.5221107  0.57403477 0.54972881 0.20538993 0.43265774 0.73514696\n",
      "  0.04534076 0.99925993 0.58468261 0.16742834 0.90910596 0.35760335\n",
      "  0.91722442 0.89188462 0.80899835 0.41375835 1.19091482 0.91550161\n",
      "  0.90620443 0.98221529 1.05559815 0.096085   0.64905266 0.64734398\n",
      "  0.2906068  0.40336899 0.         0.78645828 0.54789374 0.34466852\n",
      "  0.86233435 0.66190668 0.89527287 0.53070146 0.76207725 0.89868005\n",
      "  0.89950116 0.50241133 0.75760601 1.03797374 0.8732246  0.17654783\n",
      "  0.46240506 0.93297306 0.62975399 0.80477768]\n",
      " [1.11494097 0.54219129 0.2922005  0.61952995 0.28225658 0.46218467\n",
      "  0.94585613 0.69030326 0.77237241 0.59424212 0.65293796 0.90643116\n",
      "  0.53912299 0.25793481 0.37827728 0.75491707 0.73005632 0.25959954\n",
      "  0.79610855 0.48258888 0.90548328 0.91776045 0.78003155 0.93024351\n",
      "  0.88555449 0.64535943 0.12521956 0.78530648 0.16287137 0.49843628\n",
      "  0.19712759 0.97445976 0.62035017 0.69879352 0.35284513 0.7744589\n",
      "  0.51425836 0.91498118 0.25291246 0.47880262 0.61871057 0.86747954\n",
      "  0.50813732 0.37457027 0.54944643 0.85350645 0.61095509 0.89765307\n",
      "  0.40655766 0.5786193  0.63245305 0.80049139 0.40422564 0.80216208\n",
      "  0.42423617 1.04546823 0.73923643 0.68272773 0.54532199 0.40551676\n",
      "  0.77567235 0.37193353 0.3163447  0.82507676 0.66885241 0.46474003\n",
      "  0.25918855 0.60317257 0.79596113 0.95538324 0.89110876 0.52193131\n",
      "  0.18395843 0.41020934 0.73398809 0.77749458 0.57895558 0.38656169\n",
      "  0.55366594 0.51994481 0.78645828 0.         0.27773756 0.5534824\n",
      "  0.09171739 0.13088103 0.52435701 0.25580242 0.81534598 0.11258537\n",
      "  0.52008886 0.68073716 0.63133101 0.75230274 0.82675621 0.7008125\n",
      "  0.33142555 0.15384363 0.42798828 0.61249363]\n",
      " [1.00879879 0.27666742 0.17655926 0.45902573 0.47160103 0.20475768\n",
      "  0.95402349 0.6839739  0.50463354 0.40760971 0.77639311 0.79056278\n",
      "  0.42255318 0.39570253 0.52472112 0.61846384 0.56614765 0.08622665\n",
      "  0.82077929 0.65509639 0.81547116 0.82955471 0.61085001 0.92292064\n",
      "  0.75231781 0.66870197 0.40209394 0.76640127 0.32337219 0.45446732\n",
      "  0.45864361 0.82975232 0.56263518 0.84169933 0.51361548 0.58975396\n",
      "  0.38203028 1.02840897 0.50942569 0.62943094 0.56125573 0.68771704\n",
      "  0.3329707  0.1149415  0.65558989 0.6707385  0.50954502 1.0222562\n",
      "  0.19283011 0.58579306 0.51767308 0.62505558 0.57478579 0.63940258\n",
      "  0.38809902 0.92846473 0.68172004 0.41388482 0.45765214 0.50256103\n",
      "  0.5474487  0.61046763 0.324877   0.62503415 0.77567864 0.30872471\n",
      "  0.50060098 0.72164841 0.82747735 0.80683342 1.0408343  0.67498096\n",
      "  0.44745388 0.62877511 0.88048041 0.56214638 0.59410578 0.43560045\n",
      "  0.28425964 0.41447265 0.54789374 0.27773756 0.         0.41849706\n",
      "  0.36821555 0.19955754 0.66758641 0.11411857 0.82359942 0.3793901\n",
      "  0.66651498 0.61395969 0.68366176 0.88638723 0.87505343 0.43507186\n",
      "  0.09964124 0.43108279 0.45986722 0.69034951]\n",
      " [0.59069295 0.33251393 0.27313989 0.07762324 0.51566601 0.30213677\n",
      "  0.59423672 0.34535242 0.4495659  0.11243354 0.59631765 0.37280696\n",
      "  0.03604731 0.42566928 0.47611791 0.20537051 0.17950256 0.35082065\n",
      "  0.49403072 0.5900601  0.39863215 0.41294065 0.23004831 0.55108975\n",
      "  0.33943849 0.37304843 0.65527771 0.3991551  0.44890247 0.16642195\n",
      "  0.74434435 0.42407071 0.19229857 0.6774536  0.49232953 0.23597706\n",
      "  0.03958012 0.78894181 0.64763143 0.538493   0.19167945 0.3199776\n",
      "  0.10313612 0.33551849 0.48554355 0.30840784 0.10323751 0.79998315\n",
      "  0.23748596 0.2968922  0.10114908 0.25303085 0.53805149 0.2495028\n",
      "  0.18556546 0.5117326  0.28872957 0.40218939 0.09268498 0.39485027\n",
      "  0.30981058 0.67860114 0.27296006 0.29886204 0.57037636 0.11005544\n",
      "  0.61215034 0.54871032 0.5079307  0.40366513 0.85525527 0.57143474\n",
      "  0.62268142 0.65243938 0.71438056 0.28323766 0.31331595 0.30989044\n",
      "  0.35446491 0.05904613 0.34466852 0.5534824  0.41849706 0.\n",
      "  0.60682754 0.4234881  0.55086718 0.33360044 0.47757834 0.66183526\n",
      "  0.5552517  0.2218507  0.42414062 0.69942766 0.56896405 0.39413856\n",
      "  0.3211857  0.67629912 0.28739792 0.46580909]\n",
      " [1.14715736 0.62769742 0.36117926 0.67725516 0.24070177 0.54661249\n",
      "  0.94368608 0.69963741 0.85740035 0.65943826 0.61709393 0.94471959\n",
      "  0.58820224 0.24873274 0.34786172 0.80239606 0.78589553 0.34275353\n",
      "  0.79173028 0.43326228 0.93582717 0.94731193 0.83635757 0.93354154\n",
      "  0.92946633 0.64639879 0.04869067 0.79580264 0.17032779 0.52904275\n",
      "  0.14188554 1.02046554 0.64880509 0.65411929 0.31808086 0.83527122\n",
      "  0.56864918 0.87679018 0.17107613 0.43926293 0.64715457 0.9254386\n",
      "  0.57337204 0.46094572 0.52449545 0.91253873 0.65273602 0.85572133\n",
      "  0.48414381 0.58818858 0.67724221 0.85823682 0.36035831 0.85624554\n",
      "  0.4580745  1.08197676 0.76342711 0.76847178 0.58609065 0.39405699\n",
      "  0.84868892 0.29566406 0.3489061  0.88948125 0.638837   0.52746143\n",
      "  0.18727982 0.57103126 0.78924042 1.00281947 0.8401431  0.4791943\n",
      "  0.1010568  0.3425922  0.68709108 0.84685802 0.58580654 0.39573706\n",
      "  0.64020251 0.56697093 0.86233435 0.09171739 0.36821555 0.60682754\n",
      "  0.         0.2004943  0.48562783 0.33500047 0.81602873 0.07407136\n",
      "  0.48022511 0.70967411 0.62278028 0.70969449 0.81344848 0.78544189\n",
      "  0.41536992 0.07098415 0.43924083 0.59543757]\n",
      " [0.99231621 0.43307332 0.16241781 0.48873469 0.27473307 0.35098453\n",
      "  0.85269117 0.58876863 0.66110538 0.46391319 0.6079251  0.7811336\n",
      "  0.41050851 0.20893795 0.34109434 0.62614984 0.59938266 0.14892308\n",
      "  0.70722242 0.46590252 0.7847171  0.79744641 0.64928248 0.83162974\n",
      "  0.7577994  0.55336704 0.24530407 0.68128883 0.12539625 0.38143896\n",
      "  0.32655632 0.84579234 0.50307646 0.66574563 0.32483731 0.64362601\n",
      "  0.3841172  0.86752969 0.31507743 0.44708974 0.50146582 0.73661138\n",
      "  0.37772657 0.27007679 0.49290285 0.72262577 0.4852011  0.8560689\n",
      "  0.28384304 0.47917447 0.50514005 0.66963965 0.38466963 0.67167965\n",
      "  0.3063906  0.92069275 0.62392831 0.57348302 0.42063665 0.33939557\n",
      "  0.64889597 0.4111865  0.20446847 0.69473116 0.61500742 0.33392353\n",
      "  0.30246977 0.55452385 0.7097049  0.82628722 0.86394268 0.49264838\n",
      "  0.25867924 0.42981309 0.70350248 0.64870081 0.48235214 0.29580768\n",
      "  0.44734699 0.39227903 0.66190668 0.13088103 0.19955754 0.4234881\n",
      "  0.2004943  0.         0.48884432 0.13644763 0.72071793 0.24226118\n",
      "  0.4865096  0.56243749 0.5507134  0.71465923 0.74768369 0.58885276\n",
      "  0.22076383 0.27106742 0.33228024 0.5430235 ]\n",
      " [0.857576   0.79713172 0.51915547 0.62308247 0.24541849 0.7255885\n",
      "  0.52356202 0.36795032 0.98036913 0.65902085 0.13182945 0.71213804\n",
      "  0.51520535 0.28023748 0.14864658 0.65085547 0.68997697 0.58785192\n",
      "  0.37884063 0.07898959 0.66164931 0.66727544 0.73227989 0.53463867\n",
      "  0.73147556 0.2900311  0.51613338 0.44714178 0.37307872 0.3855892\n",
      "  0.59658006 0.82104742 0.43526804 0.17706416 0.17152214 0.76097005\n",
      "  0.53476867 0.39166919 0.36321833 0.04637028 0.43420091 0.81525464\n",
      "  0.60281161 0.68413906 0.08937165 0.81169254 0.51198109 0.37330609\n",
      "  0.62952903 0.3002602  0.54512147 0.75893465 0.1262771  0.73373926\n",
      "  0.37906057 0.82142611 0.49072929 0.91348098 0.46729771 0.17460495\n",
      "  0.86052723 0.27972858 0.36283367 0.82957472 0.16045055 0.5606877\n",
      "  0.32252993 0.09262529 0.36762507 0.81435598 0.37518445 0.02490242\n",
      "  0.40700404 0.21335893 0.21466277 0.83082954 0.28472075 0.26173129\n",
      "  0.81840989 0.49197098 0.89527287 0.52435701 0.66758641 0.55086718\n",
      "  0.48562783 0.48884432 0.         0.5609052  0.42026653 0.55750591\n",
      "  0.00841491 0.47758491 0.22753861 0.22833064 0.36660624 0.9148649\n",
      "  0.63403831 0.51219944 0.26790173 0.16923517]\n",
      " [0.92196186 0.29717406 0.06666529 0.38695824 0.3825098  0.21490728\n",
      "  0.84316469 0.57313464 0.52467734 0.34909306 0.66572516 0.70518753\n",
      "  0.33070538 0.29802911 0.42199757 0.53860444 0.4978279  0.02809286\n",
      "  0.70797704 0.55452681 0.72225171 0.73595901 0.54583729 0.81372926\n",
      "  0.67290064 0.55535836 0.3776906  0.65778868 0.24185613 0.34545755\n",
      "  0.4522705  0.75571394 0.45822096 0.73301261 0.41449954 0.53295517\n",
      "  0.29471344 0.91567775 0.44747198 0.52475973 0.45676505 0.62916802\n",
      "  0.26533417 0.13855205 0.54414734 0.61369283 0.41511054 0.91045207\n",
      "  0.1507722  0.47295944 0.42779599 0.56350238 0.47583784 0.57153963\n",
      "  0.27650014 0.84467703 0.57900149 0.43729438 0.35791878 0.39240611\n",
      "  0.52085517 0.53390309 0.21124947 0.57799036 0.6634052  0.22925075\n",
      "  0.43025608 0.61087518 0.71427575 0.7342287  0.93189565 0.56992357\n",
      "  0.39417503 0.54287266 0.7720228  0.52530017 0.48082455 0.32235098\n",
      "  0.31216971 0.31861614 0.53070146 0.25580242 0.11411857 0.33360044\n",
      "  0.33500047 0.13644763 0.5609052  0.         0.71214826 0.36798555\n",
      "  0.56039892 0.5123308  0.56954584 0.77621663 0.76122694 0.45241387\n",
      "  0.08669888 0.40464899 0.34579531 0.57670926]\n",
      " [0.46092965 0.8092741  0.64718973 0.50874128 0.59799862 0.76945545\n",
      "  0.13211289 0.14030488 0.9060987  0.57753057 0.34377172 0.38118409\n",
      "  0.45033638 0.56735784 0.49115672 0.42416609 0.50324359 0.73871766\n",
      "  0.04947754 0.49879733 0.30324961 0.30200114 0.52142744 0.11899337\n",
      "  0.42882561 0.17017158 0.85870148 0.08968575 0.6547838  0.37091905\n",
      "  0.95081243 0.49654716 0.28572958 0.40398624 0.52407402 0.56890219\n",
      "  0.49357752 0.37911874 0.74688986 0.4510146  0.2864911  0.57323783\n",
      "  0.57712185 0.7780158  0.33597013 0.57931147 0.37893164 0.40844623\n",
      "  0.68675067 0.24222959 0.3976314  0.54369242 0.51683389 0.5043911\n",
      "  0.43571178 0.44715879 0.21255745 0.87323888 0.39481396 0.42405602\n",
      "  0.71763924 0.69157983 0.51862769 0.63015323 0.29605354 0.56311195\n",
      "  0.70250456 0.34017531 0.06893347 0.50083312 0.49639816 0.44345594\n",
      "  0.76858301 0.62945038 0.42246639 0.67113691 0.23838076 0.42914672\n",
      "  0.83145198 0.44318607 0.76207725 0.81534598 0.82359942 0.47757834\n",
      "  0.81602873 0.72071793 0.42026653 0.71214826 0.         0.88929787\n",
      "  0.4286767  0.26429883 0.20229098 0.38446826 0.12513585 0.86091013\n",
      "  0.74498901 0.86510088 0.38931225 0.25217429]\n",
      " [1.21312033 0.65017669 0.40435334 0.72956261 0.31345062 0.57133415\n",
      "  1.01730324 0.77149613 0.88030567 0.70616343 0.68920558 1.00804585\n",
      "  0.64564402 0.3219567  0.42145008 0.86108118 0.83958792 0.3704635\n",
      "  0.86546183 0.50254278 1.00230307 1.01408101 0.88977795 1.00656099\n",
      "  0.99014627 0.7194831  0.04696364 0.867553   0.23928732 0.59467846\n",
      "  0.08454941 1.08015338 0.71552162 0.72395166 0.39130243 0.88554299\n",
      "  0.62293413 0.94796059 0.22461648 0.51114566 0.71387132 0.97781934\n",
      "  0.61998502 0.48239182 0.59822862 0.96415623 0.71405222 0.92593728\n",
      "  0.51874994 0.65982609 0.73713867 0.91071619 0.43168033 0.91113519\n",
      "  0.52221222 1.14618556 0.83173367 0.79012934 0.6477219  0.46793009\n",
      "  0.88821479 0.35083986 0.41288806 0.93698874 0.71188046 0.57597045\n",
      "  0.24958227 0.64387603 0.86312311 1.06172927 0.90728348 0.5501672\n",
      "  0.15912684 0.40396406 0.75612152 0.89001456 0.65793861 0.46688979\n",
      "  0.66054385 0.62546785 0.89868005 0.11258537 0.3793901  0.66183526\n",
      "  0.07407136 0.24226118 0.55750591 0.36798555 0.88929787 0.\n",
      "  0.5518781  0.77634257 0.69668991 0.7799935  0.88751984 0.80921731\n",
      "  0.44144872 0.06910568 0.51013196 0.66949342]\n",
      " [0.86567285 0.79886894 0.51946471 0.62780424 0.24035628 0.72688671\n",
      "  0.5318937  0.37581843 0.98336973 0.66302686 0.13792036 0.71958959\n",
      "  0.51966343 0.27769576 0.14572593 0.65715827 0.69559094 0.58722657\n",
      "  0.38725081 0.07060755 0.66945942 0.67514705 0.73813103 0.5430484\n",
      "  0.7385627  0.29795275 0.5102526  0.45533606 0.36986483 0.39029088\n",
      "  0.59018253 0.82828357 0.44166145 0.18004122 0.16742632 0.76646708\n",
      "  0.53866861 0.39672151 0.35621624 0.04132102 0.44057864 0.82137761\n",
      "  0.60603598 0.68448165 0.09735747 0.81768162 0.51758022 0.37762478\n",
      "  0.63091373 0.30707405 0.55074464 0.76478468 0.12030634 0.73985303\n",
      "  0.38232332 0.8292719  0.49821158 0.91596847 0.47224072 0.17608471\n",
      "  0.86499518 0.27165859 0.36373079 0.8350291  0.16780659 0.56358139\n",
      "  0.315789   0.10032234 0.37601409 0.82145941 0.37744295 0.01754601\n",
      "  0.40073896 0.2051349  0.21715141 0.83564471 0.29166405 0.26391366\n",
      "  0.82006969 0.49630319 0.89950116 0.52008886 0.66651498 0.5552517\n",
      "  0.48022511 0.4865096  0.00841491 0.56039892 0.4286767  0.5518781\n",
      "  0.         0.48446747 0.23573413 0.23225771 0.37475488 0.91761213\n",
      "  0.63418175 0.5059879  0.27137022 0.17758864]\n",
      " [0.4376562  0.55349876 0.44586069 0.24465415 0.54585727 0.52294054\n",
      "  0.37378487 0.15193185 0.64202724 0.31456368 0.47352967 0.24687575\n",
      "  0.20125902 0.47781658 0.46567502 0.18387121 0.24899335 0.5353722\n",
      "  0.28978314 0.54032488 0.22615413 0.23774538 0.27782458 0.32933574\n",
      "  0.25531559 0.2124843  0.75747998 0.18007371 0.53942642 0.18230922\n",
      "  0.851524   0.34707676 0.06086985 0.55313026 0.49302905 0.31939833\n",
      "  0.24590088 0.61237558 0.69704916 0.48442574 0.06252054 0.34898325\n",
      "  0.3247255  0.5470589  0.39255775 0.34939989 0.11896187 0.63172004\n",
      "  0.45041409 0.17744396 0.13368187 0.30319712 0.51705712 0.26982356\n",
      "  0.25676075 0.37671779 0.06847066 0.60962821 0.15651343 0.37726963\n",
      "  0.45891971 0.68716082 0.36461301 0.38574417 0.43534047 0.32108315\n",
      "  0.65473734 0.43910086 0.30674253 0.33818313 0.70295069 0.50201323\n",
      "  0.69415945 0.64152462 0.58470065 0.41503558 0.19289538 0.32607875\n",
      "  0.57517678 0.20223133 0.50241133 0.68073716 0.61395969 0.2218507\n",
      "  0.70967411 0.56243749 0.47758491 0.5123308  0.26429883 0.77634257\n",
      "  0.48446747 0.         0.28007095 0.55906437 0.37086286 0.59677199\n",
      "  0.52347789 0.77210858 0.28400161 0.33826359]\n",
      " [0.63033902 0.73079721 0.51007729 0.48174414 0.39771757 0.67461733\n",
      "  0.32276641 0.14562129 0.873696   0.53621388 0.19381273 0.49512299\n",
      "  0.38933541 0.3762153  0.28957441 0.46348706 0.52041353 0.59747267\n",
      "  0.17028335 0.30360011 0.43802875 0.44266395 0.55497348 0.32096731\n",
      "  0.52244967 0.06922063 0.66352199 0.21960361 0.4685845  0.2693238\n",
      "  0.7541812  0.60788931 0.25619402 0.27306141 0.32253574 0.5924944\n",
      "  0.42367538 0.36792644 0.54510155 0.25252209 0.25574149 0.62900456\n",
      "  0.50577435 0.66143877 0.13893338 0.62897519 0.35173695 0.3762073\n",
      "  0.58198464 0.12726169 0.38188721 0.58099811 0.31495014 0.54935171\n",
      "  0.30837495 0.59690344 0.27568426 0.82251769 0.33147051 0.2287753\n",
      "  0.71727878 0.49065705 0.36080867 0.66057741 0.15564616 0.47639373\n",
      "  0.50079403 0.165036   0.16649347 0.60417421 0.43332348 0.2520592\n",
      "  0.5692965  0.43017635 0.30514363 0.67896691 0.11093254 0.25552008\n",
      "  0.75331898 0.37218216 0.75760601 0.63133101 0.68366176 0.42414062\n",
      "  0.62278028 0.5507134  0.22753861 0.56954584 0.20229098 0.69668991\n",
      "  0.23573413 0.28007095 0.         0.28210533 0.19703048 0.81680246\n",
      "  0.61986677 0.66804929 0.22446929 0.06210819]\n",
      " [0.84426417 0.98610766 0.72797249 0.76131638 0.47161717 0.92118659\n",
      "  0.43480014 0.41265165 1.14692183 0.81183516 0.11106521 0.75145251\n",
      "  0.66374542 0.50718866 0.37662736 0.74291984 0.80237319 0.80387914\n",
      "  0.33500591 0.27805976 0.6812584  0.68207019 0.83597715 0.46895863\n",
      "  0.78842043 0.34691697 0.73686341 0.45165766 0.6010917  0.53660808\n",
      "  0.81183581 0.86723701 0.53829926 0.05752146 0.39967294 0.87438513\n",
      "  0.69376258 0.17071067 0.5727146  0.27350971 0.53784508 0.90735376\n",
      "  0.77196723 0.89093858 0.23381031 0.90839274 0.63316314 0.1460289\n",
      "  0.82526938 0.40613252 0.66374601 0.86176612 0.34983075 0.82886236\n",
      "  0.55598425 0.83086379 0.54328885 1.08972886 0.60763092 0.38393402\n",
      "  0.99833232 0.46655425 0.56899977 0.94228903 0.12908733 0.73650054\n",
      "  0.53631598 0.16581007 0.31579305 0.86727819 0.15897161 0.23095918\n",
      "  0.62495387 0.39850637 0.04369621 0.9607917  0.38892723 0.45912772\n",
      "  1.00823231 0.64422721 1.03797374 0.75230274 0.88638723 0.69942766\n",
      "  0.70969449 0.71465923 0.22833064 0.77621663 0.38446826 0.7799935\n",
      "  0.23225771 0.55906437 0.28210533 0.         0.27494206 1.08670369\n",
      "  0.84320738 0.72996103 0.44929474 0.23368261]\n",
      " [0.57273667 0.89463655 0.6995542  0.61024632 0.58066589 0.84683045\n",
      "  0.16459585 0.22464561 1.00985959 0.67525715 0.26132623 0.50626667\n",
      "  0.53807055 0.56999642 0.47037542 0.54186695 0.61726299 0.78887862\n",
      "  0.08316914 0.44464151 0.42747861 0.42552144 0.63927725 0.19405848\n",
      "  0.55367252 0.20854963 0.85213994 0.21108572 0.66388494 0.43794981\n",
      "  0.94057106 0.62148903 0.37845808 0.30500924 0.50270347 0.68518377\n",
      "  0.57867716 0.25407441 0.72012924 0.40578402 0.37882284 0.69528623\n",
      "  0.66312627 0.84389625 0.29656225 0.70051668 0.47705928 0.28357209\n",
      "  0.75836596 0.29334092 0.50017683 0.66250128 0.48110471 0.62419882\n",
      "  0.49118667 0.56688263 0.32881572 0.97038941 0.47990059 0.42180708\n",
      "  0.82954382 0.64627293 0.5553178  0.74838379 0.21585687 0.64207676\n",
      "  0.67686451 0.2759533  0.06443484 0.62596227 0.37340084 0.38639465\n",
      "  0.75249854 0.57982311 0.31624692 0.78473262 0.28259416 0.45219813\n",
      "  0.91712581 0.52659474 0.8732246  0.82675621 0.87505343 0.56896405\n",
      "  0.81344848 0.74768369 0.36660624 0.76122694 0.12513585 0.88751984\n",
      "  0.37475488 0.37086286 0.19703048 0.27494206 0.         0.96039513\n",
      "  0.80561608 0.85433706 0.41922412 0.21853892]\n",
      " [0.8242985  0.15912926 0.4459712  0.35216987 0.80614402 0.23885509\n",
      "  0.96624068 0.73577174 0.07232461 0.2851501  0.97998207 0.62979074\n",
      "  0.42791812 0.71213031 0.80789777 0.47288138 0.38608531 0.44269039\n",
      "  0.88283975 0.93713532 0.69552788 0.7095172  0.39873202 0.91673863\n",
      "  0.56834105 0.76718625 0.82561128 0.7761614  0.6839122  0.550505\n",
      "  0.89096499 0.60516894 0.58194807 1.05959105 0.8131376  0.35033178\n",
      "  0.39368059 1.18289551 0.89577228 0.89255581 0.58160478 0.42501557\n",
      "  0.31506881 0.32682869 0.86270325 0.4063037  0.4837045  1.1930089\n",
      "  0.31293029 0.68990986 0.46327894 0.39308256 0.86983553 0.4303646\n",
      "  0.53695757 0.73723313 0.65503012 0.02977071 0.48641465 0.74355335\n",
      "  0.20850777 0.96868848 0.56803859 0.33422972 0.95842828 0.35435749\n",
      "  0.87374255 0.92922453 0.89802562 0.57958252 1.24438364 0.93194358\n",
      "  0.84586832 0.96377506 1.09774459 0.25484061 0.70589563 0.65434562\n",
      "  0.15123226 0.44467536 0.17654783 0.7008125  0.43507186 0.39413856\n",
      "  0.78544189 0.58885276 0.9148649  0.45241387 0.86091013 0.80921731\n",
      "  0.91761213 0.59677199 0.81680246 1.08670369 0.96039513 0.\n",
      "  0.3700826  0.8535887  0.64824611 0.85460117]\n",
      " [0.91050441 0.21270855 0.11535893 0.35947732 0.46715608 0.13124273\n",
      "  0.87359075 0.60469556 0.4420367  0.30841552 0.73218576 0.69217579\n",
      "  0.32776037 0.38017648 0.49987055 0.51938485 0.46653236 0.07267144\n",
      "  0.74619252 0.63318295 0.71939409 0.73360198 0.51142897 0.83950096\n",
      "  0.65304133 0.59731179 0.45580408 0.68266955 0.32837091 0.37408042\n",
      "  0.52455303 0.73012153 0.47502251 0.80267242 0.49487922 0.49126556\n",
      "  0.28585252 0.9757262  0.53383693 0.60023926 0.47373234 0.5891253\n",
      "  0.23341567 0.05256843 0.6095851  0.57236027 0.41521359 0.97337496\n",
      "  0.0937186  0.51287935 0.4213277  0.52597513 0.5559335  0.53983487\n",
      "  0.31443212 0.82964261 0.5917628  0.3534209  0.36706057 0.46187552\n",
      "  0.45769619 0.62028102 0.27424143 0.52867318 0.72590904 0.2111311\n",
      "  0.51695475 0.6773975  0.75450019 0.7071922  1.00056118 0.64477369\n",
      "  0.47939071 0.62777471 0.84188662 0.46858878 0.52302502 0.38450806\n",
      "  0.22658445 0.32187121 0.46240506 0.33142555 0.09964124 0.3211857\n",
      "  0.41536992 0.22076383 0.63403831 0.08669888 0.74498901 0.44144872\n",
      "  0.63418175 0.52347789 0.61986677 0.84320738 0.80561608 0.3700826\n",
      "  0.         0.48362099 0.40111896 0.63396583]\n",
      " [1.20975114 0.69531644 0.43212215 0.74733878 0.2740159  0.61475761\n",
      "  0.99056976 0.75381207 0.92535521 0.73030221 0.64390639 1.00976052\n",
      "  0.65688497 0.30166327 0.38424821 0.87029871 0.85557556 0.41121543\n",
      "  0.83811621 0.45192403 0.99810776 1.00926682 0.90607748 0.98348528\n",
      "  0.9962365  0.69677155 0.02918739 0.85001788 0.23391648 0.59294456\n",
      "  0.08626181 1.0877022  0.71132343 0.67319406 0.35245252 0.90565648\n",
      "  0.63836511 0.89941327 0.16299573 0.46618117 0.70967663 0.995368\n",
      "  0.64426778 0.52795311 0.56060706 0.98264093 0.71947767 0.87537704\n",
      "  0.55434752 0.64327346 0.74471326 0.9281745  0.38596775 0.9255389\n",
      "  0.52345195 1.14620695 0.82383703 0.83599366 0.65277338 0.44106994\n",
      "  0.9195841  0.28775931 0.41490168 0.960221   0.66982513 0.59822691\n",
      "  0.19406036 0.60129114 0.83428442 1.07045501 0.85185336 0.50260059\n",
      "  0.105312   0.34470229 0.70384575 0.91783988 0.63962167 0.45291298\n",
      "  0.70717929 0.63526479 0.93297306 0.15384363 0.43108279 0.67629912\n",
      "  0.07098415 0.27106742 0.51219944 0.40464899 0.86510088 0.06910568\n",
      "  0.5059879  0.77210858 0.66804929 0.72996103 0.85433706 0.8535887\n",
      "  0.48362099 0.         0.49665642 0.63581326]\n",
      " [0.7180019  0.53784134 0.28839345 0.36265897 0.26238755 0.47189635\n",
      "  0.52097542 0.26251568 0.71292771 0.39255936 0.3389216  0.52995259\n",
      "  0.25276999 0.19645031 0.19469656 0.4226667  0.44313228 0.37382276\n",
      "  0.37499833 0.30266297 0.5065838  0.51680296 0.48989701 0.50262199\n",
      "  0.52977114 0.22109499 0.48522374 0.35805815 0.27120658 0.13016568\n",
      "  0.57938995 0.62316864 0.22546895 0.41537369 0.21685235 0.51086148\n",
      "  0.26797563 0.57473288 0.41304793 0.25158693 0.22390683 0.57810367\n",
      "  0.33504637 0.44593989 0.21740336 0.57128519 0.26974008 0.5736882\n",
      "  0.3760545  0.15069456 0.30210859 0.51608721 0.25430287 0.49784353\n",
      "  0.11139243 0.66049734 0.32909958 0.64807372 0.2127426  0.10857541\n",
      "  0.59669403 0.41120313 0.13636528 0.57804156 0.32691763 0.29392053\n",
      "  0.37085193 0.28550812 0.37797218 0.61055152 0.60820405 0.2867432\n",
      "  0.4125281  0.37438236 0.45431308 0.57033262 0.15133646 0.04374611\n",
      "  0.55977724 0.22846288 0.62975399 0.42798828 0.45986722 0.28739792\n",
      "  0.43924083 0.33228024 0.26790173 0.34579531 0.38931225 0.51013196\n",
      "  0.27137022 0.28400161 0.22446929 0.44929474 0.41922412 0.64824611\n",
      "  0.40111896 0.49665642 0.         0.23285795]\n",
      " [0.69080815 0.75992397 0.52102103 0.52797671 0.36228104 0.69920818\n",
      "  0.36300021 0.20769158 0.9139022  0.57823425 0.13613507 0.55710786\n",
      "  0.43019052 0.35463731 0.25206617 0.52059025 0.57384772 0.60480193\n",
      "  0.21337054 0.24706721 0.49999445 0.5044787  0.61031638 0.3685233\n",
      "  0.5836226  0.13064334 0.6336854  0.27948128 0.45004119 0.30409703\n",
      "  0.72205471 0.66961397 0.3093511  0.2171889  0.2845874  0.64604789\n",
      "  0.46107864 0.34226892 0.5041563  0.19894815 0.3087197  0.68645869\n",
      "  0.54064636 0.67834174 0.08397253 0.68572087 0.40132391 0.3437519\n",
      "  0.60459181 0.17369396 0.43264572 0.63658289 0.26786396 0.60618101\n",
      "  0.33088974 0.65867253 0.33724252 0.85856581 0.37394836 0.20728534\n",
      "  0.76558727 0.44027069 0.36549687 0.71452276 0.10459599 0.50736817\n",
      "  0.46039496 0.10306915 0.2047428  0.66557505 0.38994039 0.19320533\n",
      "  0.53425229 0.37737207 0.25161736 0.72911543 0.15633931 0.25504649\n",
      "  0.78229481 0.4110087  0.80477768 0.61249363 0.69034951 0.46580909\n",
      "  0.59543757 0.5430235  0.16923517 0.57670926 0.25217429 0.66949342\n",
      "  0.17758864 0.33826359 0.06210819 0.23368261 0.21853892 0.85460117\n",
      "  0.63396583 0.63581326 0.23285795 0.        ]]\n"
     ]
    }
   ],
   "source": [
    "# Create a random vector with shape (100, 2) representing coordinates\n",
    "coordinates = np.random.rand(100, 2)\n",
    "\n",
    "# Compute point-by-point distances\n",
    "distances = np.linalg.norm(coordinates[:, np.newaxis, :] - coordinates[np.newaxis, :, :], axis=-1)\n",
    "\n",
    "print(\"Point-by-point distances:\")\n",
    "print(distances)"
   ]
  },
  {
   "cell_type": "markdown",
   "metadata": {},
   "source": [
    "#### 53. How to convert a float (32 bits) array into an integer (32 bits) in place?\n"
   ]
  },
  {
   "cell_type": "code",
   "execution_count": 28,
   "metadata": {},
   "outputs": [
    {
     "name": "stdout",
     "output_type": "stream",
     "text": [
      "Integer (32 bits) array: [1.e-45 3.e-45 4.e-45]\n"
     ]
    }
   ],
   "source": [
    "# Create a float (32 bits) array\n",
    "float_array = np.array([1.5, 2.7, 3.9], dtype=np.float32)\n",
    "\n",
    "# Convert the float array into an integer (32 bits) array in place\n",
    "float_array.view(dtype=np.int32)[:] = float_array\n",
    "\n",
    "print(\"Integer (32 bits) array:\", float_array)"
   ]
  },
  {
   "cell_type": "markdown",
   "metadata": {},
   "source": [
    "#### 54. How to read the following file? (★★☆)\n",
    "```\n",
    "1, 2, 3, 4, 5\n",
    "6,  ,  , 7, 8\n",
    " ,  , 9,10,11\n",
    "```\n",
    "\n",
    "You can read the provided file using NumPy's np.genfromtxt function, which is designed to read data from text files. Since the file contains missing values represented by empty cells, you can specify the delimiter parameter as , to indicate that the values are separated by commas, and use the filling_values parameter to specify the value to use for missing data. "
   ]
  },
  {
   "cell_type": "markdown",
   "metadata": {},
   "source": [
    "#### 55. What is the equivalent of enumerate for numpy arrays? (★★☆)\n"
   ]
  },
  {
   "cell_type": "code",
   "execution_count": 29,
   "metadata": {},
   "outputs": [
    {
     "name": "stdout",
     "output_type": "stream",
     "text": [
      "Index: (0, 0) Value: 1\n",
      "Index: (0, 1) Value: 2\n",
      "Index: (0, 2) Value: 3\n",
      "Index: (1, 0) Value: 4\n",
      "Index: (1, 1) Value: 5\n",
      "Index: (1, 2) Value: 6\n"
     ]
    }
   ],
   "source": [
    "# Create a NumPy array\n",
    "array = np.array([[1, 2, 3], [4, 5, 6]])\n",
    "\n",
    "# Iterate over the indices and values of the array\n",
    "for index, value in np.ndenumerate(array):\n",
    "    print(\"Index:\", index, \"Value:\", value)"
   ]
  },
  {
   "cell_type": "markdown",
   "metadata": {},
   "source": [
    "#### 56. Generate a generic 2D Gaussian-like array (★★☆)\n"
   ]
  },
  {
   "cell_type": "code",
   "execution_count": 30,
   "metadata": {},
   "outputs": [
    {
     "name": "stdout",
     "output_type": "stream",
     "text": [
      "2D Gaussian-like array:\n",
      "[[1.38879439e-11 1.25015287e-09 4.13993772e-08 5.04347663e-07\n",
      "  2.26032941e-06 3.72665317e-06 2.26032941e-06 5.04347663e-07\n",
      "  4.13993772e-08 1.25015287e-09 1.38879439e-11]\n",
      " [1.25015287e-09 1.12535175e-07 3.72665317e-06 4.53999298e-05\n",
      "  2.03468369e-04 3.35462628e-04 2.03468369e-04 4.53999298e-05\n",
      "  3.72665317e-06 1.12535175e-07 1.25015287e-09]\n",
      " [4.13993772e-08 3.72665317e-06 1.23409804e-04 1.50343919e-03\n",
      "  6.73794700e-03 1.11089965e-02 6.73794700e-03 1.50343919e-03\n",
      "  1.23409804e-04 3.72665317e-06 4.13993772e-08]\n",
      " [5.04347663e-07 4.53999298e-05 1.50343919e-03 1.83156389e-02\n",
      "  8.20849986e-02 1.35335283e-01 8.20849986e-02 1.83156389e-02\n",
      "  1.50343919e-03 4.53999298e-05 5.04347663e-07]\n",
      " [2.26032941e-06 2.03468369e-04 6.73794700e-03 8.20849986e-02\n",
      "  3.67879441e-01 6.06530660e-01 3.67879441e-01 8.20849986e-02\n",
      "  6.73794700e-03 2.03468369e-04 2.26032941e-06]\n",
      " [3.72665317e-06 3.35462628e-04 1.11089965e-02 1.35335283e-01\n",
      "  6.06530660e-01 1.00000000e+00 6.06530660e-01 1.35335283e-01\n",
      "  1.11089965e-02 3.35462628e-04 3.72665317e-06]\n",
      " [2.26032941e-06 2.03468369e-04 6.73794700e-03 8.20849986e-02\n",
      "  3.67879441e-01 6.06530660e-01 3.67879441e-01 8.20849986e-02\n",
      "  6.73794700e-03 2.03468369e-04 2.26032941e-06]\n",
      " [5.04347663e-07 4.53999298e-05 1.50343919e-03 1.83156389e-02\n",
      "  8.20849986e-02 1.35335283e-01 8.20849986e-02 1.83156389e-02\n",
      "  1.50343919e-03 4.53999298e-05 5.04347663e-07]\n",
      " [4.13993772e-08 3.72665317e-06 1.23409804e-04 1.50343919e-03\n",
      "  6.73794700e-03 1.11089965e-02 6.73794700e-03 1.50343919e-03\n",
      "  1.23409804e-04 3.72665317e-06 4.13993772e-08]\n",
      " [1.25015287e-09 1.12535175e-07 3.72665317e-06 4.53999298e-05\n",
      "  2.03468369e-04 3.35462628e-04 2.03468369e-04 4.53999298e-05\n",
      "  3.72665317e-06 1.12535175e-07 1.25015287e-09]\n",
      " [1.38879439e-11 1.25015287e-09 4.13993772e-08 5.04347663e-07\n",
      "  2.26032941e-06 3.72665317e-06 2.26032941e-06 5.04347663e-07\n",
      "  4.13993772e-08 1.25015287e-09 1.38879439e-11]]\n"
     ]
    }
   ],
   "source": [
    "def gaussian_2d(x, y, sigma):\n",
    "    return np.exp(-(x**2 + y**2) / (2 * sigma**2))\n",
    "\n",
    "# Define the size of the array and the standard deviation (sigma)\n",
    "size = 5\n",
    "sigma = 1\n",
    "\n",
    "# Create a grid of coordinates\n",
    "x, y = np.meshgrid(np.arange(-size, size+1), np.arange(-size, size+1))\n",
    "\n",
    "# Generate the 2D Gaussian-like array\n",
    "gaussian_array = gaussian_2d(x, y, sigma)\n",
    "\n",
    "print(\"2D Gaussian-like array:\")\n",
    "print(gaussian_array)"
   ]
  },
  {
   "cell_type": "markdown",
   "metadata": {},
   "source": [
    "#### 57. How to randomly place p elements in a 2D array? (★★☆)\n"
   ]
  },
  {
   "cell_type": "code",
   "execution_count": 33,
   "metadata": {},
   "outputs": [
    {
     "name": "stdout",
     "output_type": "stream",
     "text": [
      "2D Array with Randomly Placed Elements:\n",
      "[[0 1 0 0 1]\n",
      " [0 0 0 0 0]\n",
      " [0 0 1 0 1]\n",
      " [0 0 0 0 0]\n",
      " [1 0 1 0 1]]\n"
     ]
    }
   ],
   "source": [
    "def randomly_place_elements(array, p, value):\n",
    "    # Get the size of the array\n",
    "    nrows, ncols = array.shape\n",
    "    \n",
    "    # Calculate the total number of elements in the array\n",
    "    total_elements = nrows * ncols\n",
    "    \n",
    "    # Calculate the number of elements to randomly place\n",
    "    num_elements_to_place = int(p * total_elements)\n",
    "    \n",
    "    # Generate random indices to place the elements\n",
    "    random_indices = np.random.choice(total_elements, num_elements_to_place, replace=False)\n",
    "    \n",
    "    # Convert the 1D indices to 2D indices\n",
    "    random_indices_2d = np.unravel_index(random_indices, (nrows, ncols))\n",
    "    \n",
    "    # Assign the value to the randomly chosen elements\n",
    "    array[random_indices_2d] = value\n",
    "    \n",
    "    return array\n",
    "\n",
    "# 2D array\n",
    "array = np.zeros((5, 5), dtype=int)\n",
    "\n",
    "# Number of elements to randomly place (as a fraction of the total number of elements)\n",
    "p = 0.3\n",
    "\n",
    "# Value to assign to the randomly placed elements\n",
    "value = 1\n",
    "\n",
    "# Randomly place elements in the array\n",
    "array_with_elements = randomly_place_elements(array, p, value)\n",
    "\n",
    "print(\"2D Array with Randomly Placed Elements:\")\n",
    "print(array_with_elements)\n"
   ]
  },
  {
   "cell_type": "markdown",
   "metadata": {},
   "source": [
    "#### 58. Subtract the mean of each row of a matrix (★★☆)\n"
   ]
  },
  {
   "cell_type": "code",
   "execution_count": 34,
   "metadata": {},
   "outputs": [
    {
     "name": "stdout",
     "output_type": "stream",
     "text": [
      "Original Matrix:\n",
      "[[1 2 3]\n",
      " [4 5 6]\n",
      " [7 8 9]]\n",
      "\n",
      "Result after subtracting the mean of each row:\n",
      "[[-1.  0.  1.]\n",
      " [-1.  0.  1.]\n",
      " [-1.  0.  1.]]\n"
     ]
    }
   ],
   "source": [
    "# Create a matrix\n",
    "matrix = np.array([[1, 2, 3], [4, 5, 6], [7, 8, 9]])\n",
    "\n",
    "# Compute the mean of each row\n",
    "row_means = np.mean(matrix, axis=1, keepdims=True)\n",
    "\n",
    "# Subtract the mean of each row from the corresponding row\n",
    "result = matrix - row_means\n",
    "\n",
    "print(\"Original Matrix:\")\n",
    "print(matrix)\n",
    "print(\"\\nResult after subtracting the mean of each row:\")\n",
    "print(result)\n"
   ]
  },
  {
   "cell_type": "markdown",
   "metadata": {},
   "source": [
    "#### 59. How to sort an array by the nth column? (★★☆)\n"
   ]
  },
  {
   "cell_type": "code",
   "execution_count": 35,
   "metadata": {},
   "outputs": [
    {
     "name": "stdout",
     "output_type": "stream",
     "text": [
      "Original Array:\n",
      "[[1 4 2]\n",
      " [3 1 6]\n",
      " [5 2 3]]\n",
      "\n",
      "Sorted Array by the nth column:\n",
      "[[3 1 6]\n",
      " [5 2 3]\n",
      " [1 4 2]]\n"
     ]
    }
   ],
   "source": [
    "# Create an array\n",
    "array = np.array([[1, 4, 2], [3, 1, 6], [5, 2, 3]])\n",
    "\n",
    "# Define the column index to sort by\n",
    "n = 1\n",
    "\n",
    "# Get the indices that would sort the array along the nth column\n",
    "sorted_indices = np.argsort(array[:, n])\n",
    "\n",
    "# Sort the array by the nth column\n",
    "sorted_array = array[sorted_indices]\n",
    "\n",
    "print(\"Original Array:\")\n",
    "print(array)\n",
    "print(\"\\nSorted Array by the nth column:\")\n",
    "print(sorted_array)"
   ]
  },
  {
   "cell_type": "markdown",
   "metadata": {},
   "source": [
    "#### 60. How to tell if a given 2D array has null columns? (★★☆)\n"
   ]
  },
  {
   "cell_type": "code",
   "execution_count": 41,
   "metadata": {},
   "outputs": [
    {
     "name": "stdout",
     "output_type": "stream",
     "text": [
      "Does the array have null columns? False\n"
     ]
    }
   ],
   "source": [
    "\n",
    "# Create a 2D array\n",
    "array = np.array([[1, 0, 3], [0, 2, 0], [4, 0, 6]])\n",
    "\n",
    "# Check if any column contains only zeros or NaN values\n",
    "has_null_columns = np.any(np.all(array == 0, axis=0))\n",
    "\n",
    "print(\"Does the array have null columns?\", has_null_columns)\n"
   ]
  },
  {
   "cell_type": "markdown",
   "metadata": {},
   "source": [
    "#### 61. Find the nearest value from a given value in an array (★★☆)\n"
   ]
  },
  {
   "cell_type": "code",
   "execution_count": 43,
   "metadata": {},
   "outputs": [
    {
     "name": "stdout",
     "output_type": "stream",
     "text": [
      "Array: [1 3 5 7 9]\n",
      "Given value: 11\n",
      "Nearest value: 9\n"
     ]
    }
   ],
   "source": [
    "def nearest_value(array, value):\n",
    "    # Calculate the absolute differences between the value and each element of the array\n",
    "    absolute_differences = np.abs(array - value)\n",
    "    \n",
    "    # Find the index of the element with the minimum absolute difference\n",
    "    nearest_index = np.argmin(absolute_differences)\n",
    "    \n",
    "    # Get the nearest value\n",
    "    nearest_value = array[nearest_index]\n",
    "    \n",
    "    return nearest_value\n",
    "\n",
    "# Example array\n",
    "array = np.array([1, 3, 5, 7, 9])\n",
    "\n",
    "# Given value\n",
    "value = 11\n",
    "\n",
    "# Find the nearest value from the given value in the array\n",
    "nearest = nearest_value(array, value)\n",
    "\n",
    "print(\"Array:\", array)\n",
    "print(\"Given value:\", value)\n",
    "print(\"Nearest value:\", nearest)\n"
   ]
  },
  {
   "cell_type": "markdown",
   "metadata": {},
   "source": [
    "#### 62. Considering two arrays with shape (1,3) and (3,1), how to compute their sum using an iterator? (★★☆)\n"
   ]
  },
  {
   "cell_type": "code",
   "execution_count": 44,
   "metadata": {},
   "outputs": [
    {
     "name": "stdout",
     "output_type": "stream",
     "text": [
      "Sum of the two arrays: 18\n"
     ]
    }
   ],
   "source": [
    "# Create two arrays with shapes (1,3) and (3,1)\n",
    "array1 = np.array([[1, 2, 3]])\n",
    "array2 = np.array([[4], [5], [6]])\n",
    "\n",
    "# Initialize the sum\n",
    "total_sum = 0\n",
    "\n",
    "# Iterate over the elements of both arrays and compute the sum\n",
    "iterator = np.nditer([array1, array2], flags=['multi_index'])\n",
    "while not iterator.finished:\n",
    "    total_sum += iterator[0]\n",
    "    iterator.iternext()\n",
    "\n",
    "print(\"Sum of the two arrays:\", total_sum)"
   ]
  },
  {
   "cell_type": "markdown",
   "metadata": {},
   "source": [
    "#### 63. Create an array class that has a name attribute (★★☆)\n"
   ]
  },
  {
   "cell_type": "code",
   "execution_count": 45,
   "metadata": {},
   "outputs": [
    {
     "name": "stdout",
     "output_type": "stream",
     "text": [
      "Name of the array: MyArray\n",
      "Is it a NamedArray instance? True\n"
     ]
    }
   ],
   "source": [
    "class NamedArray(np.ndarray):\n",
    "    def __new__(cls, array, name=None):\n",
    "        obj = np.asarray(array).view(cls)\n",
    "        obj.name = name\n",
    "        return obj\n",
    "\n",
    "# Create an instance of the NamedArray class with a name attribute\n",
    "arr = NamedArray([1, 2, 3], name=\"MyArray\")\n",
    "\n",
    "# Access the name attribute\n",
    "print(\"Name of the array:\", arr.name)\n",
    "\n",
    "# Test if it's a NamedArray instance\n",
    "print(\"Is it a NamedArray instance?\", isinstance(arr, NamedArray))\n"
   ]
  },
  {
   "cell_type": "code",
   "execution_count": null,
   "metadata": {},
   "outputs": [],
   "source": []
  }
 ],
 "metadata": {
  "kernelspec": {
   "display_name": "Python 3",
   "language": "python",
   "name": "python3"
  },
  "language_info": {
   "codemirror_mode": {
    "name": "ipython",
    "version": 3
   },
   "file_extension": ".py",
   "mimetype": "text/x-python",
   "name": "python",
   "nbconvert_exporter": "python",
   "pygments_lexer": "ipython3",
   "version": "3.12.0"
  }
 },
 "nbformat": 4,
 "nbformat_minor": 2
}
